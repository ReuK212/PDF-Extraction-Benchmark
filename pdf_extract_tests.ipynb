{
 "cells": [
  {
   "cell_type": "markdown",
   "metadata": {},
   "source": [
    "# Imports"
   ]
  },
  {
   "cell_type": "code",
   "execution_count": 4,
   "metadata": {},
   "outputs": [
    {
     "name": "stdout",
     "output_type": "stream",
     "text": [
      "Looking in indexes: https://pypi.org/simple, https://pypi.ngc.nvidia.com\n",
      "Collecting pdf2image (from -r requirements.txt (line 9))\n",
      "  Downloading pdf2image-1.17.0-py3-none-any.whl.metadata (6.2 kB)\n",
      "Requirement already satisfied: unstructured in e:\\_c0d3\\_repos\\_perso\\__dataforgood\\2025 02 - parse research pdfs\\.venv\\lib\\site-packages (from -r requirements.txt (line 10)) (0.16.20)\n",
      "Requirement already satisfied: pillow in e:\\_c0d3\\_repos\\_perso\\__dataforgood\\2025 02 - parse research pdfs\\.venv\\lib\\site-packages (from pdf2image->-r requirements.txt (line 9)) (11.1.0)\n",
      "Requirement already satisfied: chardet in e:\\_c0d3\\_repos\\_perso\\__dataforgood\\2025 02 - parse research pdfs\\.venv\\lib\\site-packages (from unstructured->-r requirements.txt (line 10)) (3.0.4)\n",
      "Requirement already satisfied: filetype in e:\\_c0d3\\_repos\\_perso\\__dataforgood\\2025 02 - parse research pdfs\\.venv\\lib\\site-packages (from unstructured->-r requirements.txt (line 10)) (1.2.0)\n",
      "Requirement already satisfied: python-magic in e:\\_c0d3\\_repos\\_perso\\__dataforgood\\2025 02 - parse research pdfs\\.venv\\lib\\site-packages (from unstructured->-r requirements.txt (line 10)) (0.4.27)\n",
      "Requirement already satisfied: lxml in e:\\_c0d3\\_repos\\_perso\\__dataforgood\\2025 02 - parse research pdfs\\.venv\\lib\\site-packages (from unstructured->-r requirements.txt (line 10)) (5.3.1)\n",
      "Requirement already satisfied: nltk in e:\\_c0d3\\_repos\\_perso\\__dataforgood\\2025 02 - parse research pdfs\\.venv\\lib\\site-packages (from unstructured->-r requirements.txt (line 10)) (3.9.1)\n",
      "Requirement already satisfied: requests in e:\\_c0d3\\_repos\\_perso\\__dataforgood\\2025 02 - parse research pdfs\\.venv\\lib\\site-packages (from unstructured->-r requirements.txt (line 10)) (2.25.1)\n",
      "Requirement already satisfied: beautifulsoup4 in e:\\_c0d3\\_repos\\_perso\\__dataforgood\\2025 02 - parse research pdfs\\.venv\\lib\\site-packages (from unstructured->-r requirements.txt (line 10)) (4.13.3)\n",
      "Requirement already satisfied: emoji in e:\\_c0d3\\_repos\\_perso\\__dataforgood\\2025 02 - parse research pdfs\\.venv\\lib\\site-packages (from unstructured->-r requirements.txt (line 10)) (2.14.1)\n",
      "Requirement already satisfied: dataclasses-json in e:\\_c0d3\\_repos\\_perso\\__dataforgood\\2025 02 - parse research pdfs\\.venv\\lib\\site-packages (from unstructured->-r requirements.txt (line 10)) (0.6.7)\n",
      "Requirement already satisfied: python-iso639 in e:\\_c0d3\\_repos\\_perso\\__dataforgood\\2025 02 - parse research pdfs\\.venv\\lib\\site-packages (from unstructured->-r requirements.txt (line 10)) (2025.2.8)\n",
      "Requirement already satisfied: langdetect in e:\\_c0d3\\_repos\\_perso\\__dataforgood\\2025 02 - parse research pdfs\\.venv\\lib\\site-packages (from unstructured->-r requirements.txt (line 10)) (1.0.9)\n",
      "Requirement already satisfied: numpy<2 in e:\\_c0d3\\_repos\\_perso\\__dataforgood\\2025 02 - parse research pdfs\\.venv\\lib\\site-packages (from unstructured->-r requirements.txt (line 10)) (1.26.4)\n",
      "Requirement already satisfied: rapidfuzz in e:\\_c0d3\\_repos\\_perso\\__dataforgood\\2025 02 - parse research pdfs\\.venv\\lib\\site-packages (from unstructured->-r requirements.txt (line 10)) (3.12.1)\n",
      "Requirement already satisfied: backoff in e:\\_c0d3\\_repos\\_perso\\__dataforgood\\2025 02 - parse research pdfs\\.venv\\lib\\site-packages (from unstructured->-r requirements.txt (line 10)) (2.2.1)\n",
      "Requirement already satisfied: typing-extensions in e:\\_c0d3\\_repos\\_perso\\__dataforgood\\2025 02 - parse research pdfs\\.venv\\lib\\site-packages (from unstructured->-r requirements.txt (line 10)) (4.12.2)\n",
      "Requirement already satisfied: unstructured-client in e:\\_c0d3\\_repos\\_perso\\__dataforgood\\2025 02 - parse research pdfs\\.venv\\lib\\site-packages (from unstructured->-r requirements.txt (line 10)) (0.27.0)\n",
      "Requirement already satisfied: wrapt in e:\\_c0d3\\_repos\\_perso\\__dataforgood\\2025 02 - parse research pdfs\\.venv\\lib\\site-packages (from unstructured->-r requirements.txt (line 10)) (1.17.2)\n",
      "Requirement already satisfied: tqdm in e:\\_c0d3\\_repos\\_perso\\__dataforgood\\2025 02 - parse research pdfs\\.venv\\lib\\site-packages (from unstructured->-r requirements.txt (line 10)) (4.67.1)\n",
      "Requirement already satisfied: psutil in e:\\_c0d3\\_repos\\_perso\\__dataforgood\\2025 02 - parse research pdfs\\.venv\\lib\\site-packages (from unstructured->-r requirements.txt (line 10)) (6.1.1)\n",
      "Requirement already satisfied: python-oxmsg in e:\\_c0d3\\_repos\\_perso\\__dataforgood\\2025 02 - parse research pdfs\\.venv\\lib\\site-packages (from unstructured->-r requirements.txt (line 10)) (0.0.2)\n",
      "Requirement already satisfied: html5lib in e:\\_c0d3\\_repos\\_perso\\__dataforgood\\2025 02 - parse research pdfs\\.venv\\lib\\site-packages (from unstructured->-r requirements.txt (line 10)) (1.1)\n",
      "Requirement already satisfied: soupsieve>1.2 in e:\\_c0d3\\_repos\\_perso\\__dataforgood\\2025 02 - parse research pdfs\\.venv\\lib\\site-packages (from beautifulsoup4->unstructured->-r requirements.txt (line 10)) (2.6)\n",
      "Requirement already satisfied: marshmallow<4.0.0,>=3.18.0 in e:\\_c0d3\\_repos\\_perso\\__dataforgood\\2025 02 - parse research pdfs\\.venv\\lib\\site-packages (from dataclasses-json->unstructured->-r requirements.txt (line 10)) (3.26.1)\n",
      "Requirement already satisfied: typing-inspect<1,>=0.4.0 in e:\\_c0d3\\_repos\\_perso\\__dataforgood\\2025 02 - parse research pdfs\\.venv\\lib\\site-packages (from dataclasses-json->unstructured->-r requirements.txt (line 10)) (0.9.0)\n",
      "Requirement already satisfied: six>=1.9 in e:\\_c0d3\\_repos\\_perso\\__dataforgood\\2025 02 - parse research pdfs\\.venv\\lib\\site-packages (from html5lib->unstructured->-r requirements.txt (line 10)) (1.17.0)\n",
      "Requirement already satisfied: webencodings in e:\\_c0d3\\_repos\\_perso\\__dataforgood\\2025 02 - parse research pdfs\\.venv\\lib\\site-packages (from html5lib->unstructured->-r requirements.txt (line 10)) (0.5.1)\n",
      "Requirement already satisfied: click in e:\\_c0d3\\_repos\\_perso\\__dataforgood\\2025 02 - parse research pdfs\\.venv\\lib\\site-packages (from nltk->unstructured->-r requirements.txt (line 10)) (8.1.8)\n",
      "Requirement already satisfied: joblib in e:\\_c0d3\\_repos\\_perso\\__dataforgood\\2025 02 - parse research pdfs\\.venv\\lib\\site-packages (from nltk->unstructured->-r requirements.txt (line 10)) (1.4.2)\n",
      "Requirement already satisfied: regex>=2021.8.3 in e:\\_c0d3\\_repos\\_perso\\__dataforgood\\2025 02 - parse research pdfs\\.venv\\lib\\site-packages (from nltk->unstructured->-r requirements.txt (line 10)) (2024.11.6)\n",
      "Requirement already satisfied: olefile in e:\\_c0d3\\_repos\\_perso\\__dataforgood\\2025 02 - parse research pdfs\\.venv\\lib\\site-packages (from python-oxmsg->unstructured->-r requirements.txt (line 10)) (0.47)\n",
      "Requirement already satisfied: idna<3,>=2.5 in e:\\_c0d3\\_repos\\_perso\\__dataforgood\\2025 02 - parse research pdfs\\.venv\\lib\\site-packages (from requests->unstructured->-r requirements.txt (line 10)) (2.10)\n",
      "Requirement already satisfied: urllib3<1.27,>=1.21.1 in e:\\_c0d3\\_repos\\_perso\\__dataforgood\\2025 02 - parse research pdfs\\.venv\\lib\\site-packages (from requests->unstructured->-r requirements.txt (line 10)) (1.26.20)\n",
      "Requirement already satisfied: certifi>=2017.4.17 in e:\\_c0d3\\_repos\\_perso\\__dataforgood\\2025 02 - parse research pdfs\\.venv\\lib\\site-packages (from requests->unstructured->-r requirements.txt (line 10)) (2025.1.31)\n",
      "Requirement already satisfied: colorama in e:\\_c0d3\\_repos\\_perso\\__dataforgood\\2025 02 - parse research pdfs\\.venv\\lib\\site-packages (from tqdm->unstructured->-r requirements.txt (line 10)) (0.4.6)\n",
      "Requirement already satisfied: cryptography>=3.1 in e:\\_c0d3\\_repos\\_perso\\__dataforgood\\2025 02 - parse research pdfs\\.venv\\lib\\site-packages (from unstructured-client->unstructured->-r requirements.txt (line 10)) (44.0.1)\n",
      "Requirement already satisfied: eval-type-backport<0.3.0,>=0.2.0 in e:\\_c0d3\\_repos\\_perso\\__dataforgood\\2025 02 - parse research pdfs\\.venv\\lib\\site-packages (from unstructured-client->unstructured->-r requirements.txt (line 10)) (0.2.2)\n",
      "Requirement already satisfied: httpx>=0.27.0 in e:\\_c0d3\\_repos\\_perso\\__dataforgood\\2025 02 - parse research pdfs\\.venv\\lib\\site-packages (from unstructured-client->unstructured->-r requirements.txt (line 10)) (0.28.1)\n",
      "Requirement already satisfied: jsonpath-python<2.0.0,>=1.0.6 in e:\\_c0d3\\_repos\\_perso\\__dataforgood\\2025 02 - parse research pdfs\\.venv\\lib\\site-packages (from unstructured-client->unstructured->-r requirements.txt (line 10)) (1.0.6)\n",
      "Requirement already satisfied: nest-asyncio>=1.6.0 in e:\\_c0d3\\_repos\\_perso\\__dataforgood\\2025 02 - parse research pdfs\\.venv\\lib\\site-packages (from unstructured-client->unstructured->-r requirements.txt (line 10)) (1.6.0)\n",
      "Requirement already satisfied: pydantic<2.10.0,>=2.9.2 in e:\\_c0d3\\_repos\\_perso\\__dataforgood\\2025 02 - parse research pdfs\\.venv\\lib\\site-packages (from unstructured-client->unstructured->-r requirements.txt (line 10)) (2.9.2)\n",
      "Requirement already satisfied: pypdf>=4.0 in e:\\_c0d3\\_repos\\_perso\\__dataforgood\\2025 02 - parse research pdfs\\.venv\\lib\\site-packages (from unstructured-client->unstructured->-r requirements.txt (line 10)) (5.3.0)\n",
      "Requirement already satisfied: python-dateutil==2.8.2 in e:\\_c0d3\\_repos\\_perso\\__dataforgood\\2025 02 - parse research pdfs\\.venv\\lib\\site-packages (from unstructured-client->unstructured->-r requirements.txt (line 10)) (2.8.2)\n",
      "Requirement already satisfied: requests-toolbelt>=1.0.0 in e:\\_c0d3\\_repos\\_perso\\__dataforgood\\2025 02 - parse research pdfs\\.venv\\lib\\site-packages (from unstructured-client->unstructured->-r requirements.txt (line 10)) (1.0.0)\n",
      "Requirement already satisfied: cffi>=1.12 in e:\\_c0d3\\_repos\\_perso\\__dataforgood\\2025 02 - parse research pdfs\\.venv\\lib\\site-packages (from cryptography>=3.1->unstructured-client->unstructured->-r requirements.txt (line 10)) (1.17.1)\n",
      "Requirement already satisfied: anyio in e:\\_c0d3\\_repos\\_perso\\__dataforgood\\2025 02 - parse research pdfs\\.venv\\lib\\site-packages (from httpx>=0.27.0->unstructured-client->unstructured->-r requirements.txt (line 10)) (4.8.0)\n",
      "Requirement already satisfied: httpcore==1.* in e:\\_c0d3\\_repos\\_perso\\__dataforgood\\2025 02 - parse research pdfs\\.venv\\lib\\site-packages (from httpx>=0.27.0->unstructured-client->unstructured->-r requirements.txt (line 10)) (1.0.7)\n",
      "Requirement already satisfied: h11<0.15,>=0.13 in e:\\_c0d3\\_repos\\_perso\\__dataforgood\\2025 02 - parse research pdfs\\.venv\\lib\\site-packages (from httpcore==1.*->httpx>=0.27.0->unstructured-client->unstructured->-r requirements.txt (line 10)) (0.14.0)\n",
      "Requirement already satisfied: packaging>=17.0 in e:\\_c0d3\\_repos\\_perso\\__dataforgood\\2025 02 - parse research pdfs\\.venv\\lib\\site-packages (from marshmallow<4.0.0,>=3.18.0->dataclasses-json->unstructured->-r requirements.txt (line 10)) (24.2)\n",
      "Requirement already satisfied: annotated-types>=0.6.0 in e:\\_c0d3\\_repos\\_perso\\__dataforgood\\2025 02 - parse research pdfs\\.venv\\lib\\site-packages (from pydantic<2.10.0,>=2.9.2->unstructured-client->unstructured->-r requirements.txt (line 10)) (0.7.0)\n",
      "Requirement already satisfied: pydantic-core==2.23.4 in e:\\_c0d3\\_repos\\_perso\\__dataforgood\\2025 02 - parse research pdfs\\.venv\\lib\\site-packages (from pydantic<2.10.0,>=2.9.2->unstructured-client->unstructured->-r requirements.txt (line 10)) (2.23.4)\n",
      "Requirement already satisfied: mypy-extensions>=0.3.0 in e:\\_c0d3\\_repos\\_perso\\__dataforgood\\2025 02 - parse research pdfs\\.venv\\lib\\site-packages (from typing-inspect<1,>=0.4.0->dataclasses-json->unstructured->-r requirements.txt (line 10)) (1.0.0)\n",
      "Requirement already satisfied: pycparser in e:\\_c0d3\\_repos\\_perso\\__dataforgood\\2025 02 - parse research pdfs\\.venv\\lib\\site-packages (from cffi>=1.12->cryptography>=3.1->unstructured-client->unstructured->-r requirements.txt (line 10)) (2.22)\n",
      "Requirement already satisfied: sniffio>=1.1 in e:\\_c0d3\\_repos\\_perso\\__dataforgood\\2025 02 - parse research pdfs\\.venv\\lib\\site-packages (from anyio->httpx>=0.27.0->unstructured-client->unstructured->-r requirements.txt (line 10)) (1.3.1)\n",
      "Downloading pdf2image-1.17.0-py3-none-any.whl (11 kB)\n",
      "Installing collected packages: pdf2image\n",
      "Successfully installed pdf2image-1.17.0\n",
      "Note: you may need to restart the kernel to use updated packages.\n"
     ]
    }
   ],
   "source": [
    "%pip install -r requirements.txt"
   ]
  },
  {
   "cell_type": "code",
   "execution_count": null,
   "metadata": {},
   "outputs": [],
   "source": [
    "# %pip install -q -r requirements.txt"
   ]
  },
  {
   "cell_type": "markdown",
   "metadata": {},
   "source": [
    "## Lib imports"
   ]
  },
  {
   "cell_type": "code",
   "execution_count": 2,
   "metadata": {},
   "outputs": [],
   "source": [
    "import matplotlib.pyplot as plt\n",
    "from icecream import ic\n",
    "import seaborn as sns\n",
    "import pandas as pd\n",
    "\n",
    "# import datetime\n",
    "import os"
   ]
  },
  {
   "cell_type": "markdown",
   "metadata": {},
   "source": [
    "## Methods imports"
   ]
  },
  {
   "cell_type": "code",
   "execution_count": 5,
   "metadata": {},
   "outputs": [
    {
     "name": "stderr",
     "output_type": "stream",
     "text": [
      "e:\\_C0D3\\_RepoS\\_Perso\\__DataForGood\\2025 02 - Parse research PDFs\\.venv\\Lib\\site-packages\\tqdm\\auto.py:21: TqdmWarning: IProgress not found. Please update jupyter and ipywidgets. See https://ipywidgets.readthedocs.io/en/stable/user_install.html\n",
      "  from .autonotebook import tqdm as notebook_tqdm\n"
     ]
    }
   ],
   "source": [
    "from main_methods import (\n",
    "    get_pdf_info,\n",
    "    extract_and_measure_timing,\n",
    ")\n",
    "\n",
    "## PDF Extraction Methods\n",
    "from extraction_methods.pymupdf4llm import get_pymupdf4llm\n",
    "from extraction_methods.unstructured import (\n",
    "    get_unstructured_auto,\n",
    "    get_unstructured_fast,\n",
    "    get_unstructured_hires,\n",
    "    get_unstructured_ocr,\n",
    ")"
   ]
  },
  {
   "cell_type": "markdown",
   "metadata": {},
   "source": [
    "# Functions"
   ]
  },
  {
   "cell_type": "markdown",
   "metadata": {},
   "source": [
    "## OS and other tools"
   ]
  },
  {
   "cell_type": "code",
   "execution_count": 6,
   "metadata": {},
   "outputs": [],
   "source": [
    "def get_path_of_all_files_in_subfolders_with_extension_in_list(\n",
    "    folder_path: str, extensions: list[str], ignore_folders: list[str] = []\n",
    ") -> list:\n",
    "    all_files = []\n",
    "    for root, dirs, files in os.walk(folder_path):\n",
    "        # print('root', root)\n",
    "        # print('dirs', dirs)\n",
    "        # print('files', files)\n",
    "        if any([(os.sep + ignore_folder) in root for ignore_folder in ignore_folders]):\n",
    "            continue\n",
    "        # if root.__contains__(r\"\\outputs\"):\n",
    "        #     continue\n",
    "\n",
    "        for file in files:\n",
    "            for extension in extensions:\n",
    "                if file.lower().endswith(extension) and not file.startswith(\".\"):\n",
    "                    all_files.append(os.path.join(root, file))\n",
    "    return all_files\n"
   ]
  },
  {
   "cell_type": "markdown",
   "metadata": {},
   "source": [
    "# Main run"
   ]
  },
  {
   "cell_type": "code",
   "execution_count": 8,
   "metadata": {},
   "outputs": [
    {
     "name": "stdout",
     "output_type": "stream",
     "text": [
      "Found 62 pdf files\n"
     ]
    }
   ],
   "source": [
    "pdf_list = get_path_of_all_files_in_subfolders_with_extension_in_list(\n",
    "    \"sources_pdf\", [\".pdf\"], [\"outputs\"]\n",
    ")\n",
    "print(f\"Found {len(pdf_list)} pdf files\")"
   ]
  },
  {
   "cell_type": "code",
   "execution_count": 9,
   "metadata": {},
   "outputs": [],
   "source": [
    "# Create a dataframe to store the data and timing of processing the pdf files\n",
    "df_pdf_processing = pd.DataFrame(\n",
    "    columns=[\n",
    "        \"pdf_path\",\n",
    "        \"pages_length\",\n",
    "        \"file_size\",\n",
    "        \"method\",\n",
    "        \"output_md\",\n",
    "        \"time_processing\",\n",
    "    ]\n",
    ")"
   ]
  },
  {
   "cell_type": "code",
   "execution_count": 10,
   "metadata": {},
   "outputs": [],
   "source": [
    "### Define methods list to be used\n",
    "methods_list = [\n",
    "    get_pymupdf4llm,\n",
    "    get_unstructured_auto,\n",
    "    get_unstructured_fast,\n",
    "    get_unstructured_hires,\n",
    "    get_unstructured_ocr,\n",
    "]"
   ]
  },
  {
   "cell_type": "code",
   "execution_count": null,
   "metadata": {},
   "outputs": [
    {
     "name": "stdout",
     "output_type": "stream",
     "text": [
      "Processing sources_pdf\\Documentation Ecoskills RH\\etude-transition-écologique Secteur du commerce (pas RH).pdf\n",
      "lol-get_pymupdf4llm\n"
     ]
    }
   ],
   "source": [
    "for pdf_path in pdf_list[:3]:\n",
    "    # \"pdf_name\": os.path.basename(pdf_path),\n",
    "    print(f\"Processing {pdf_path}\")\n",
    "    file_info = get_pdf_info(pdf_path)\n",
    "    file_length = file_info[\"pages\"]\n",
    "\n",
    "    file_size = os.path.getsize(pdf_path) / 1024 / 1024\n",
    "\n",
    "    for method in methods_list:\n",
    "        # Extract and measure the time of the method\n",
    "        output = extract_and_measure_timing(\n",
    "            method,\n",
    "            pdf_path=pdf_path,\n",
    "            # bool_write_images=False,\n",
    "            # bool_embed_images=False,\n",
    "        )\n",
    "        # Append the data to the dataframe\n",
    "        df_pdf_processing.loc[len(df_pdf_processing)] = [\n",
    "            pdf_path,\n",
    "            file_length,\n",
    "            file_size,\n",
    "            method.__name__,\n",
    "            output[0],\n",
    "            output[1],\n",
    "        ]\n"
   ]
  },
  {
   "cell_type": "code",
   "execution_count": null,
   "metadata": {},
   "outputs": [
    {
     "data": {
      "text/html": [
       "<div>\n",
       "<style scoped>\n",
       "    .dataframe tbody tr th:only-of-type {\n",
       "        vertical-align: middle;\n",
       "    }\n",
       "\n",
       "    .dataframe tbody tr th {\n",
       "        vertical-align: top;\n",
       "    }\n",
       "\n",
       "    .dataframe thead th {\n",
       "        text-align: right;\n",
       "    }\n",
       "</style>\n",
       "<table border=\"1\" class=\"dataframe\">\n",
       "  <thead>\n",
       "    <tr style=\"text-align: right;\">\n",
       "      <th></th>\n",
       "      <th>pdf_path</th>\n",
       "      <th>pages_length</th>\n",
       "      <th>file_size</th>\n",
       "      <th>method</th>\n",
       "      <th>output_md</th>\n",
       "      <th>time_processing</th>\n",
       "    </tr>\n",
       "  </thead>\n",
       "  <tbody>\n",
       "    <tr>\n",
       "      <th>0</th>\n",
       "      <td>1_Base articles\\Documentation Ecoskills RH\\etu...</td>\n",
       "      <td>103</td>\n",
       "      <td>14.742152</td>\n",
       "      <td>get_1_pymupdf4llm</td>\n",
       "      <td>[{'metadata': {'format': 'PDF 1.5', 'title': '...</td>\n",
       "      <td>32.486764</td>\n",
       "    </tr>\n",
       "    <tr>\n",
       "      <th>1</th>\n",
       "      <td>1_Base articles\\Documentation Ecoskills RH\\Lit...</td>\n",
       "      <td>22</td>\n",
       "      <td>0.219145</td>\n",
       "      <td>get_1_pymupdf4llm</td>\n",
       "      <td>[{'metadata': {'format': 'PDF 1.6', 'title': '...</td>\n",
       "      <td>3.409501</td>\n",
       "    </tr>\n",
       "  </tbody>\n",
       "</table>\n",
       "</div>"
      ],
      "text/plain": [
       "                                            pdf_path  pages_length  file_size  \\\n",
       "0  1_Base articles\\Documentation Ecoskills RH\\etu...           103  14.742152   \n",
       "1  1_Base articles\\Documentation Ecoskills RH\\Lit...            22   0.219145   \n",
       "\n",
       "              method                                          output_md  \\\n",
       "0  get_1_pymupdf4llm  [{'metadata': {'format': 'PDF 1.5', 'title': '...   \n",
       "1  get_1_pymupdf4llm  [{'metadata': {'format': 'PDF 1.6', 'title': '...   \n",
       "\n",
       "   time_processing  \n",
       "0        32.486764  \n",
       "1         3.409501  "
      ]
     },
     "execution_count": 47,
     "metadata": {},
     "output_type": "execute_result"
    }
   ],
   "source": [
    "df_pdf_processing"
   ]
  },
  {
   "cell_type": "markdown",
   "metadata": {},
   "source": [
    "## TODO : Store the output of each methods"
   ]
  },
  {
   "cell_type": "code",
   "execution_count": null,
   "metadata": {},
   "outputs": [],
   "source": [
    "## TODO"
   ]
  },
  {
   "cell_type": "markdown",
   "metadata": {},
   "source": [
    "## Plot the timing of each methods"
   ]
  },
  {
   "cell_type": "code",
   "execution_count": null,
   "metadata": {},
   "outputs": [
    {
     "data": {
      "text/plain": [
       "<Axes: xlabel='file_size', ylabel='time_processing'>"
      ]
     },
     "execution_count": 48,
     "metadata": {},
     "output_type": "execute_result"
    },
    {
     "data": {
      "image/png": "[encoded data removed]",
      "text/plain": [
       "<Figure size 640x480 with 1 Axes>"
      ]
     },
     "metadata": {},
     "output_type": "display_data"
    }
   ],
   "source": [
    "# Print a graph, with file_size on the x-axis and time taken to process the pdf on the y-axis, spliting the data in series by the method used to process the pdf (1, 2, ...)\n",
    "sns.scatterplot(\n",
    "    data=df_pdf_processing, x=\"file_size\", y=\"time_processing\", hue=\"method\"\n",
    ")\n",
    "plt.show()"
   ]
  },
  {
   "cell_type": "markdown",
   "metadata": {},
   "source": [
    "# Content Analysis"
   ]
  },
  {
   "cell_type": "code",
   "execution_count": null,
   "metadata": {},
   "outputs": [],
   "source": [
    "##TODO"
   ]
  }
 ],
 "metadata": {
  "kernelspec": {
   "display_name": ".venv",
   "language": "python",
   "name": "python3"
  },
  "language_info": {
   "codemirror_mode": {
    "name": "ipython",
    "version": 3
   },
   "file_extension": ".py",
   "mimetype": "text/x-python",
   "name": "python",
   "nbconvert_exporter": "python",
   "pygments_lexer": "ipython3",
   "version": "3.12.1"
  }
 },
 "nbformat": 4,
 "nbformat_minor": 2
}
