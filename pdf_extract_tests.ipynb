{
 "cells": [
  {
   "cell_type": "markdown",
   "metadata": {},
   "source": [
    "# Imports"
   ]
  },
  {
   "cell_type": "code",
   "execution_count": 2,
   "metadata": {},
   "outputs": [],
   "source": [
    "# %pip uninstall -y pytesseract"
   ]
  },
  {
   "cell_type": "code",
   "execution_count": 34,
   "metadata": {},
   "outputs": [],
   "source": [
    "# %pip install -r requirements.txt"
   ]
  },
  {
   "cell_type": "code",
   "execution_count": 97,
   "metadata": {},
   "outputs": [
    {
     "name": "stdout",
     "output_type": "stream",
     "text": [
      "Note: you may need to restart the kernel to use updated packages.\n"
     ]
    }
   ],
   "source": [
    "%pip install -q -r requirements.txt"
   ]
  },
  {
   "cell_type": "markdown",
   "metadata": {},
   "source": [
    "## Lib imports"
   ]
  },
  {
   "cell_type": "code",
   "execution_count": 98,
   "metadata": {},
   "outputs": [],
   "source": [
    "import matplotlib.pyplot as plt\n",
    "from icecream import ic\n",
    "import seaborn as sns\n",
    "import pandas as pd\n",
    "from ollama import Client as OllamaClient\n",
    "from pydantic import BaseModel\n",
    "\n",
    "import platform\n",
    "import os"
   ]
  },
  {
   "cell_type": "markdown",
   "metadata": {},
   "source": [
    "## Methods imports"
   ]
  },
  {
   "cell_type": "code",
   "execution_count": 6,
   "metadata": {},
   "outputs": [],
   "source": [
    "from main_methods import (\n",
    "    get_pdf_info,\n",
    "    extract_and_measure_timing,\n",
    ")\n",
    "\n",
    "## PDF Extraction Methods\n",
    "from extraction_methods.pymupdf4llm import get_pymupdf4llm\n",
    "from extraction_methods.unstructured import (\n",
    "    get_unstructured_auto,\n",
    "    get_unstructured_fast,\n",
    "    get_unstructured_hires,\n",
    "    get_unstructured_ocr,\n",
    ")"
   ]
  },
  {
   "cell_type": "markdown",
   "metadata": {},
   "source": [
    "## WSL Taxonomy classes"
   ]
  },
  {
   "cell_type": "code",
   "execution_count": 100,
   "metadata": {},
   "outputs": [],
   "source": [
    "from wsl_taxonomy import *"
   ]
  },
  {
   "cell_type": "markdown",
   "metadata": {},
   "source": [
    "# Functions"
   ]
  },
  {
   "cell_type": "markdown",
   "metadata": {},
   "source": [
    "## OS and other tools"
   ]
  },
  {
   "cell_type": "code",
   "execution_count": 7,
   "metadata": {},
   "outputs": [],
   "source": [
    "def get_path_of_all_files_in_subfolders_with_extension_in_list(\n",
    "    folder_path: str, extensions: list[str], ignore_folders: list[str] = []\n",
    ") -> list:\n",
    "    all_files = []\n",
    "    for root, dirs, files in os.walk(folder_path):\n",
    "        # print('root', root)\n",
    "        # print('dirs', dirs)\n",
    "        # print('files', files)\n",
    "        if any([(os.sep + ignore_folder) in root for ignore_folder in ignore_folders]):\n",
    "            continue\n",
    "        # if root.__contains__(r\"\\outputs\"):\n",
    "        #     continue\n",
    "\n",
    "        for file in files:\n",
    "            for extension in extensions:\n",
    "                if file.lower().endswith(extension) and not file.startswith(\".\"):\n",
    "                    all_files.append(os.path.join(root, file))\n",
    "    return all_files\n"
   ]
  },
  {
   "cell_type": "code",
   "execution_count": 44,
   "metadata": {},
   "outputs": [],
   "source": [
    "def check_if_each_parent_folders_exists_and_if_not_create_it(folder_path: str):\n",
    "    if not os.path.exists(folder_path):\n",
    "        os.makedirs(folder_path)\n",
    "    return folder_path"
   ]
  },
  {
   "cell_type": "code",
   "execution_count": null,
   "metadata": {},
   "outputs": [],
   "source": [
    "def call_ollama_server(used_model, system_prompt, user_prompt):\n",
    "    local_client = OllamaClient(host=\"http://localhost:11434\")\n",
    "    response = local_client.chat(\n",
    "        model=used_model,\n",
    "        messages=[\n",
    "            {\n",
    "                \"role\": \"system\",\n",
    "                \"content\": system_prompt,\n",
    "            },\n",
    "            {\n",
    "                \"role\": \"user\",\n",
    "                \"content\": user_prompt,\n",
    "            },\n",
    "        ],\n",
    "    )\n",
    "    return response"
   ]
  },
  {
   "cell_type": "code",
   "execution_count": 94,
   "metadata": {},
   "outputs": [],
   "source": [
    "def ask_LLM_to_choose_main_author(text_content):\n",
    "    my_model = \"llama3.2\"\n",
    "    my_system_prompt = \"\"\"You are a talented, organised and detail oriented researcher.\n",
    "                        You have been given a study to review and your main task is to classify some information regarding the user prompt.\n",
    "                        Here you're concern is to extract the main author of the study, and his/her genra.\n",
    "                        **The answer should be only the name of a single person and his/her genra.**\n",
    "                     \"\"\"\n",
    "    ## Create user prompt in english\n",
    "    my_user_prompt = f\"\"\"{text_content}\"\"\"\n",
    "\n",
    "    response = call_ollama_server(my_model, my_system_prompt, my_user_prompt)\n",
    "    return_resp = response[\"message\"][\"content\"]\n",
    "\n",
    "    return return_resp\n"
   ]
  },
  {
   "cell_type": "code",
   "execution_count": 96,
   "metadata": {},
   "outputs": [
    {
     "data": {
      "text/plain": [
       "\"The provided text appears to be a comprehensive outline or framework for exploring the concept of human resource sustainability, including its factors and influences. Here's a breakdown of the key elements:\\n\\n**Figure 1: Factors and influences in human resource sustainability - an integrated approach**\\n\\nThis figure suggests that human resource sustainability is influenced by various factors, including:\\n\\n1. Organizational culture\\n\\t* Leadership & Management Style\\n\\t* Employee Involvement & Participation\\n\\t* Customs & Norms\\n2. Operational outcomes\\n\\t* Organizational Practices (e.g., Productivity & Profits, Work Arrangements, Effectiveness & Efficiency)\\n3. Human Resource Sustainability\\n\\t* Multi-skilling & Job Redesign\\n\\t* Equity & Perceived Fairness\\n4. External environment\\n\\t* Production Processes (e.g., Teamwork, TQM, JIT)\\n\\t* Training & Appraisal\\n\\t* Codes & Standards\\n\\t* Legislation & Trade unions\\n\\t* Competition & Business Cycle\\n\\t* Labour & Product Markets\\n\\n**Figure 2: Human resources, capabilities and sustainability - A way forward**\\n\\nThis figure suggests that human resource capabilities can be used to achieve sustainability in various areas:\\n\\n1. Organizational culture\\n\\t* Leadership & Management Style\\n\\t* Employee Involvement & Participation\\n\\t* Customs & Norms\\n2. Operational outcomes\\n\\t* Productivity & Profits\\n\\t* Work Arrangements\\n\\t* Effectiveness & Efficiency\\n3. Human Resource Sustainability\\n\\t* Multi-skilling & Job Redesign\\n\\t* Equity & Perceived Fairness\\n\\n**Key elements**\\n\\nThe text highlights several key elements that are essential for human resource sustainability:\\n\\n1. **Organizational culture**: The leadership style, employee involvement, and customs/norms can significantly impact the organization's ability to achieve sustainability.\\n2. **Operational outcomes**: Productivity, profits, work arrangements, effectiveness, and efficiency are critical for achieving sustainability.\\n3. **Human Resource Sustainability**: Multi-skilling, job redesign, equity, and perceived fairness are essential for creating a sustainable workforce.\\n4. **External environment**: The production processes, training & appraisal, codes & standards, legislation & trade unions, competition & business cycle, and labour & product markets can all impact the organization's sustainability.\\n\\n**Research papers**\\n\\nThe text references several research papers and publications, including:\\n\\n1. Gollan and Davis (1999)\\n2. Pfeffer (1998) and Pfeffer (1994)\\n3. Richard and Thompson (1999)\\n4. Sennett (1998)\\n\\nThese sources provide a wealth of information on human resource sustainability, organizational culture, operational outcomes, and the external environment.\\n\\n**Conclusion**\\n\\nHuman resource sustainability is a critical aspect of achieving long-term success in organizations. The framework outlined above highlights the importance of understanding the factors that influence human resource sustainability, including organizational culture, operational outcomes, and the external environment. By incorporating these elements into an organization's strategy, it can create a sustainable workforce that drives productivity, profits, and effectiveness.\""
      ]
     },
     "execution_count": 96,
     "metadata": {},
     "output_type": "execute_result"
    }
   ],
   "source": [
    "ask_LLM_to_choose_main_author(all_text)"
   ]
  },
  {
   "cell_type": "markdown",
   "metadata": {},
   "source": [
    "# Main run"
   ]
  },
  {
   "cell_type": "code",
   "execution_count": 8,
   "metadata": {},
   "outputs": [
    {
     "name": "stdout",
     "output_type": "stream",
     "text": [
      "Found 62 pdf files\n"
     ]
    }
   ],
   "source": [
    "pdf_list = get_path_of_all_files_in_subfolders_with_extension_in_list(\n",
    "    \"sources_pdf\", [\".pdf\"], [\"outputs\"]\n",
    ")\n",
    "print(f\"Found {len(pdf_list)} pdf files\")"
   ]
  },
  {
   "cell_type": "code",
   "execution_count": 51,
   "metadata": {},
   "outputs": [],
   "source": [
    "## Get the hash of the name of the host machine\n",
    "host_name = hash(platform.node())"
   ]
  },
  {
   "cell_type": "code",
   "execution_count": null,
   "metadata": {},
   "outputs": [],
   "source": [
    "# Create a dataframe to store the data and timing of processing the pdf files\n",
    "df_pdf_processing = pd.DataFrame(\n",
    "    columns=[\n",
    "        \"pdf_path\",\n",
    "        \"pdf_name\",\n",
    "        \"pages_length\",\n",
    "        \"file_size\",\n",
    "        \"method\",\n",
    "        \"output_md\",\n",
    "        \"time_processing\",\n",
    "        \"compute_identifier\",\n",
    "    ]\n",
    ")"
   ]
  },
  {
   "cell_type": "code",
   "execution_count": 16,
   "metadata": {},
   "outputs": [],
   "source": [
    "### Define methods list to be used\n",
    "methods_list = [\n",
    "    get_pymupdf4llm,\n",
    "    # get_unstructured_auto,\n",
    "    get_unstructured_fast,\n",
    "    get_unstructured_hires,\n",
    "    # get_unstructured_ocr,\n",
    "]"
   ]
  },
  {
   "cell_type": "code",
   "execution_count": null,
   "metadata": {},
   "outputs": [],
   "source": [
    "import pytesseract\n",
    "\n",
    "pytesseract.pytesseract.tesseract_cmd = r\"C:\\Program Files\\Tesseract-OCR\\tesseract.exe\""
   ]
  },
  {
   "cell_type": "code",
   "execution_count": null,
   "metadata": {},
   "outputs": [
    {
     "name": "stderr",
     "output_type": "stream",
     "text": [
      "ic| f\"Processing {pdf_path}\": ('Processing sources_pdf\\\\Documentation Ecoskills '\n",
      "                               'RH\\\\etude-transition-écologique Secteur du commerce (pas RH).pdf')\n",
      "ic| method.__name__: 'get_pymupdf4llm'\n",
      "ic| method.__name__: 'get_unstructured_fast'\n",
      "ic| method.__name__: 'get_unstructured_hires'\n",
      "The cache for model files in Transformers v4.22.0 has been updated. Migrating your old cache. This is a one-time only operation. You can interrupt this and resume the migration later on by calling `transformers.utils.move_cache()`.\n"
     ]
    },
    {
     "data": {
      "application/vnd.jupyter.widget-view+json": {
       "model_id": "ce238b44b7c64f649c076f00782bedc1",
       "version_major": 2,
       "version_minor": 0
      },
      "text/plain": [
       "0it [00:00, ?it/s]"
      ]
     },
     "metadata": {},
     "output_type": "display_data"
    },
    {
     "data": {
      "application/vnd.jupyter.widget-view+json": {
       "model_id": "7f56a0786187471ca921160763e24a09",
       "version_major": 2,
       "version_minor": 0
      },
      "text/plain": [
       "config.json:   0%|          | 0.00/1.47k [00:00<?, ?B/s]"
      ]
     },
     "metadata": {},
     "output_type": "display_data"
    },
    {
     "data": {
      "application/vnd.jupyter.widget-view+json": {
       "model_id": "005f59855ee6493d960f6f58ca4274c3",
       "version_major": 2,
       "version_minor": 0
      },
      "text/plain": [
       "model.safetensors:   0%|          | 0.00/115M [00:00<?, ?B/s]"
      ]
     },
     "metadata": {},
     "output_type": "display_data"
    },
    {
     "data": {
      "application/vnd.jupyter.widget-view+json": {
       "model_id": "b02490c8ba6d44599b48c3c1cf23b738",
       "version_major": 2,
       "version_minor": 0
      },
      "text/plain": [
       "model.safetensors:   0%|          | 0.00/46.8M [00:00<?, ?B/s]"
      ]
     },
     "metadata": {},
     "output_type": "display_data"
    },
    {
     "name": "stderr",
     "output_type": "stream",
     "text": [
      "ic| f\"Processing {pdf_path}\": ('Processing sources_pdf\\\\Documentation Ecoskills RH\\\\Littérature pour les '\n",
      "                               'modèles\\\\le-developpement-de-la-gestion-durable-des-ressources-humaines-un-eclairage-par-les-outils-de-pilotage-des-performances.pdf')\n",
      "ic| method.__name__: 'get_pymupdf4llm'\n",
      "ic| method.__name__: 'get_unstructured_fast'\n",
      "ic| method.__name__: 'get_unstructured_hires'\n",
      "ic| f\"Processing {pdf_path}\": ('Processing sources_pdf\\\\Documentation Ecoskills RH\\\\Littérature pour les '\n",
      "                               'modèles\\\\Littérature académique\\\\2000gollan038.pdf')\n",
      "ic| method.__name__: 'get_pymupdf4llm'\n",
      "ic| method.__name__: 'get_unstructured_fast'\n",
      "ic| method.__name__: 'get_unstructured_hires'\n",
      "ic| f\"Processing {pdf_path}\": ('Processing sources_pdf\\\\Documentation Ecoskills RH\\\\Littérature pour les '\n",
      "                               'modèles\\\\Littérature académique\\\\admsci-11-00048.pdf')\n",
      "ic| method.__name__: 'get_pymupdf4llm'\n",
      "ic| method.__name__: 'get_unstructured_fast'\n",
      "ic| method.__name__: 'get_unstructured_hires'\n",
      "ic| f\"Processing {pdf_path}\": ('Processing sources_pdf\\\\Documentation Ecoskills RH\\\\Littérature pour les '\n",
      "                               'modèles\\\\Littérature académique\\\\admsci-13-00005.pdf')\n",
      "ic| method.__name__: 'get_pymupdf4llm'\n",
      "ic| method.__name__: 'get_unstructured_fast'\n",
      "ic| method.__name__: 'get_unstructured_hires'\n",
      "ic| f\"Processing {pdf_path}\": ('Processing sources_pdf\\\\Documentation Ecoskills RH\\\\Littérature pour les '\n",
      "                               'modèles\\\\Littérature académique\\\\businesses-04-00025-v2.pdf')\n",
      "ic| method.__name__: 'get_pymupdf4llm'\n",
      "ic| method.__name__: 'get_unstructured_fast'\n",
      "ic| method.__name__: 'get_unstructured_hires'\n",
      "ic| f\"Processing {pdf_path}\": ('Processing sources_pdf\\\\Documentation Ecoskills RH\\\\Littérature pour les '\n",
      "                               'modèles\\\\Littérature académique\\\\editor_in_chief,+EJBMR_745.pdf')\n",
      "ic| method.__name__: 'get_pymupdf4llm'\n",
      "ic| method.__name__: 'get_unstructured_fast'\n",
      "ic| method.__name__: 'get_unstructured_hires'\n",
      "ic| f\"Processing {pdf_path}\": ('Processing sources_pdf\\\\Documentation Ecoskills RH\\\\Littérature pour les '\n",
      "                               'modèles\\\\Littérature académique\\\\EFFECT~1.PDF')\n",
      "ic| method.__name__: 'get_pymupdf4llm'\n",
      "ic| method.__name__: 'get_unstructured_fast'\n",
      "ic| method.__name__: 'get_unstructured_hires'\n",
      "ic| f\"Processing {pdf_path}\": ('Processing sources_pdf\\\\Documentation Ecoskills RH\\\\Littérature pour les '\n",
      "                               'modèles\\\\Littérature académique\\\\FOSTER~1.PDF')\n",
      "ic| method.__name__: 'get_pymupdf4llm'\n",
      "ic| method.__name__: 'get_unstructured_fast'\n",
      "ic| method.__name__: 'get_unstructured_hires'\n",
      "ic| f\"Processing {pdf_path}\": ('Processing sources_pdf\\\\Documentation Ecoskills RH\\\\Littérature pour les '\n",
      "                               'modèles\\\\Littérature académique\\\\Green Human Resource Management  Policies '\n",
      "                               'and practices.pdf')\n",
      "ic| method.__name__: 'get_pymupdf4llm'\n",
      "ic| method.__name__: 'get_unstructured_fast'\n",
      "ic| method.__name__: 'get_unstructured_hires'\n",
      "ic| f\"Processing {pdf_path}\": ('Processing sources_pdf\\\\Documentation Ecoskills RH\\\\Littérature pour les '\n",
      "                               'modèles\\\\Littérature académique\\\\Human Resource Management - 2023 - Ren - '\n",
      "                               'Advancing the sustainability agenda through strategic human resource '\n",
      "                               'management .pdf')\n",
      "ic| method.__name__: 'get_pymupdf4llm'\n",
      "ic| method.__name__: 'get_unstructured_fast'\n",
      "ic| method.__name__: 'get_unstructured_hires'\n"
     ]
    },
    {
     "ename": "PDFPageCountError",
     "evalue": "Unable to get page count.\nI/O Error: Couldn't open file 'sources_pdf\\Documentation Ecoskills RH\\Litt<c3><a9>rature pour les mod<c3><a8>les\\Litt<c3><a9>rature acad<c3><a9>mique\\Human Resource Management - 2023 - Ren - Advancing the sustainability agenda through strategic human resource management .pdf': No error.\r\n",
     "output_type": "error",
     "traceback": [
      "\u001b[1;31m---------------------------------------------------------------------------\u001b[0m",
      "\u001b[1;31mValueError\u001b[0m                                Traceback (most recent call last)",
      "File \u001b[1;32me:\\_C0D3\\_RepoS\\_Perso\\__DataForGood\\2025 02 - Parse research PDFs\\.venv\\Lib\\site-packages\\pdf2image\\pdf2image.py:602\u001b[0m, in \u001b[0;36mpdfinfo_from_path\u001b[1;34m(pdf_path, userpw, ownerpw, poppler_path, rawdates, timeout, first_page, last_page)\u001b[0m\n\u001b[0;32m    601\u001b[0m \u001b[38;5;28;01mif\u001b[39;00m \u001b[38;5;124m\"\u001b[39m\u001b[38;5;124mPages\u001b[39m\u001b[38;5;124m\"\u001b[39m \u001b[38;5;129;01mnot\u001b[39;00m \u001b[38;5;129;01min\u001b[39;00m d:\n\u001b[1;32m--> 602\u001b[0m     \u001b[38;5;28;01mraise\u001b[39;00m \u001b[38;5;167;01mValueError\u001b[39;00m\n\u001b[0;32m    604\u001b[0m \u001b[38;5;28;01mreturn\u001b[39;00m d\n",
      "\u001b[1;31mValueError\u001b[0m: ",
      "\nDuring handling of the above exception, another exception occurred:\n",
      "\u001b[1;31mPDFPageCountError\u001b[0m                         Traceback (most recent call last)",
      "Cell \u001b[1;32mIn[18], line 13\u001b[0m\n\u001b[0;32m     11\u001b[0m ic(method\u001b[38;5;241m.\u001b[39m\u001b[38;5;18m__name__\u001b[39m)  \u001b[38;5;66;03m# Print the method name\u001b[39;00m\n\u001b[0;32m     12\u001b[0m \u001b[38;5;66;03m# Extract and measure the time of the method\u001b[39;00m\n\u001b[1;32m---> 13\u001b[0m output \u001b[38;5;241m=\u001b[39m \u001b[43mextract_and_measure_timing\u001b[49m\u001b[43m(\u001b[49m\n\u001b[0;32m     14\u001b[0m \u001b[43m    \u001b[49m\u001b[43mmethod\u001b[49m\u001b[43m,\u001b[49m\n\u001b[0;32m     15\u001b[0m \u001b[43m    \u001b[49m\u001b[43mpdf_path\u001b[49m\u001b[38;5;241;43m=\u001b[39;49m\u001b[43mpdf_path\u001b[49m\u001b[43m,\u001b[49m\n\u001b[0;32m     16\u001b[0m \u001b[43m    \u001b[49m\u001b[38;5;66;43;03m# bool_write_images=False,\u001b[39;49;00m\n\u001b[0;32m     17\u001b[0m \u001b[43m    \u001b[49m\u001b[38;5;66;43;03m# bool_embed_images=False,\u001b[39;49;00m\n\u001b[0;32m     18\u001b[0m \u001b[43m\u001b[49m\u001b[43m)\u001b[49m\n\u001b[0;32m     19\u001b[0m \u001b[38;5;66;03m# Append the data to the dataframe\u001b[39;00m\n\u001b[0;32m     20\u001b[0m df_pdf_processing\u001b[38;5;241m.\u001b[39mloc[\u001b[38;5;28mlen\u001b[39m(df_pdf_processing)] \u001b[38;5;241m=\u001b[39m [\n\u001b[0;32m     21\u001b[0m     pdf_path,\n\u001b[0;32m     22\u001b[0m     file_length,\n\u001b[1;32m   (...)\u001b[0m\n\u001b[0;32m     26\u001b[0m     output[\u001b[38;5;241m1\u001b[39m],\n\u001b[0;32m     27\u001b[0m ]\n",
      "File \u001b[1;32me:\\_C0D3\\_RepoS\\_Perso\\__DataForGood\\2025 02 - Parse research PDFs\\main_methods.py:36\u001b[0m, in \u001b[0;36mextract_and_measure_timing\u001b[1;34m(func, *args, **kwargs)\u001b[0m\n\u001b[0;32m     27\u001b[0m \u001b[38;5;250m\u001b[39m\u001b[38;5;124;03m\"\"\"\u001b[39;00m\n\u001b[0;32m     28\u001b[0m \u001b[38;5;124;03mExtract content from a PDF file and measure the timing.\u001b[39;00m\n\u001b[0;32m     29\u001b[0m \n\u001b[1;32m   (...)\u001b[0m\n\u001b[0;32m     33\u001b[0m \u001b[38;5;124;03m:return: Content extracted and timing information.\u001b[39;00m\n\u001b[0;32m     34\u001b[0m \u001b[38;5;124;03m\"\"\"\u001b[39;00m\n\u001b[0;32m     35\u001b[0m start_time \u001b[38;5;241m=\u001b[39m datetime\u001b[38;5;241m.\u001b[39mdatetime\u001b[38;5;241m.\u001b[39mnow()\n\u001b[1;32m---> 36\u001b[0m content \u001b[38;5;241m=\u001b[39m \u001b[43mfunc\u001b[49m\u001b[43m(\u001b[49m\u001b[38;5;241;43m*\u001b[39;49m\u001b[43margs\u001b[49m\u001b[43m,\u001b[49m\u001b[43m \u001b[49m\u001b[38;5;241;43m*\u001b[39;49m\u001b[38;5;241;43m*\u001b[39;49m\u001b[43mkwargs\u001b[49m\u001b[43m)\u001b[49m\n\u001b[0;32m     37\u001b[0m end_time \u001b[38;5;241m=\u001b[39m datetime\u001b[38;5;241m.\u001b[39mdatetime\u001b[38;5;241m.\u001b[39mnow()\n\u001b[0;32m     38\u001b[0m timing \u001b[38;5;241m=\u001b[39m end_time \u001b[38;5;241m-\u001b[39m start_time\n",
      "File \u001b[1;32me:\\_C0D3\\_RepoS\\_Perso\\__DataForGood\\2025 02 - Parse research PDFs\\extraction_methods\\unstructured.py:24\u001b[0m, in \u001b[0;36mget_unstructured_hires\u001b[1;34m(pdf_path)\u001b[0m\n\u001b[0;32m     23\u001b[0m \u001b[38;5;28;01mdef\u001b[39;00m\u001b[38;5;250m \u001b[39m\u001b[38;5;21mget_unstructured_hires\u001b[39m(pdf_path: \u001b[38;5;28mstr\u001b[39m) \u001b[38;5;241m-\u001b[39m\u001b[38;5;241m>\u001b[39m \u001b[38;5;28mlist\u001b[39m[\u001b[38;5;28mdict\u001b[39m]:\n\u001b[1;32m---> 24\u001b[0m     elements \u001b[38;5;241m=\u001b[39m \u001b[43mpartition_pdf\u001b[49m\u001b[43m(\u001b[49m\n\u001b[0;32m     25\u001b[0m \u001b[43m        \u001b[49m\u001b[43mfilename\u001b[49m\u001b[38;5;241;43m=\u001b[39;49m\u001b[43mpdf_path\u001b[49m\u001b[43m,\u001b[49m\n\u001b[0;32m     26\u001b[0m \u001b[43m        \u001b[49m\u001b[43mstrategy\u001b[49m\u001b[38;5;241;43m=\u001b[39;49m\u001b[38;5;124;43m\"\u001b[39;49m\u001b[38;5;124;43mhi_res\u001b[39;49m\u001b[38;5;124;43m\"\u001b[39;49m\u001b[43m,\u001b[49m\n\u001b[0;32m     27\u001b[0m \u001b[43m        \u001b[49m\u001b[43minfer_table_structure\u001b[49m\u001b[38;5;241;43m=\u001b[39;49m\u001b[38;5;28;43;01mTrue\u001b[39;49;00m\u001b[43m,\u001b[49m\n\u001b[0;32m     28\u001b[0m \u001b[43m        \u001b[49m\u001b[43mlanguages\u001b[49m\u001b[38;5;241;43m=\u001b[39;49m\u001b[43m[\u001b[49m\u001b[38;5;124;43m\"\u001b[39;49m\u001b[38;5;124;43meng\u001b[39;49m\u001b[38;5;124;43m\"\u001b[39;49m\u001b[43m,\u001b[49m\u001b[43m \u001b[49m\u001b[38;5;124;43m\"\u001b[39;49m\u001b[38;5;124;43mfra\u001b[39;49m\u001b[38;5;124;43m\"\u001b[39;49m\u001b[43m]\u001b[49m\u001b[43m,\u001b[49m\n\u001b[0;32m     29\u001b[0m \u001b[43m        \u001b[49m\u001b[43minclude_page_breaks\u001b[49m\u001b[38;5;241;43m=\u001b[39;49m\u001b[38;5;28;43;01mTrue\u001b[39;49;00m\u001b[43m,\u001b[49m\n\u001b[0;32m     30\u001b[0m \u001b[43m    \u001b[49m\u001b[43m)\u001b[49m\n\u001b[0;32m     31\u001b[0m     \u001b[38;5;28;01mreturn\u001b[39;00m elements\n",
      "File \u001b[1;32me:\\_C0D3\\_RepoS\\_Perso\\__DataForGood\\2025 02 - Parse research PDFs\\.venv\\Lib\\site-packages\\unstructured\\documents\\elements.py:581\u001b[0m, in \u001b[0;36mprocess_metadata.<locals>.decorator.<locals>.wrapper\u001b[1;34m(*args, **kwargs)\u001b[0m\n\u001b[0;32m    579\u001b[0m \u001b[38;5;129m@functools\u001b[39m\u001b[38;5;241m.\u001b[39mwraps(func)\n\u001b[0;32m    580\u001b[0m \u001b[38;5;28;01mdef\u001b[39;00m\u001b[38;5;250m \u001b[39m\u001b[38;5;21mwrapper\u001b[39m(\u001b[38;5;241m*\u001b[39margs: _P\u001b[38;5;241m.\u001b[39margs, \u001b[38;5;241m*\u001b[39m\u001b[38;5;241m*\u001b[39mkwargs: _P\u001b[38;5;241m.\u001b[39mkwargs) \u001b[38;5;241m-\u001b[39m\u001b[38;5;241m>\u001b[39m \u001b[38;5;28mlist\u001b[39m[Element]:\n\u001b[1;32m--> 581\u001b[0m     elements \u001b[38;5;241m=\u001b[39m \u001b[43mfunc\u001b[49m\u001b[43m(\u001b[49m\u001b[38;5;241;43m*\u001b[39;49m\u001b[43margs\u001b[49m\u001b[43m,\u001b[49m\u001b[43m \u001b[49m\u001b[38;5;241;43m*\u001b[39;49m\u001b[38;5;241;43m*\u001b[39;49m\u001b[43mkwargs\u001b[49m\u001b[43m)\u001b[49m\n\u001b[0;32m    582\u001b[0m     call_args \u001b[38;5;241m=\u001b[39m get_call_args_applying_defaults(func, \u001b[38;5;241m*\u001b[39margs, \u001b[38;5;241m*\u001b[39m\u001b[38;5;241m*\u001b[39mkwargs)\n\u001b[0;32m    584\u001b[0m     unique_element_ids: \u001b[38;5;28mbool\u001b[39m \u001b[38;5;241m=\u001b[39m call_args\u001b[38;5;241m.\u001b[39mget(\u001b[38;5;124m\"\u001b[39m\u001b[38;5;124munique_element_ids\u001b[39m\u001b[38;5;124m\"\u001b[39m, \u001b[38;5;28;01mFalse\u001b[39;00m)\n",
      "File \u001b[1;32me:\\_C0D3\\_RepoS\\_Perso\\__DataForGood\\2025 02 - Parse research PDFs\\.venv\\Lib\\site-packages\\unstructured\\file_utils\\filetype.py:788\u001b[0m, in \u001b[0;36madd_filetype.<locals>.decorator.<locals>.wrapper\u001b[1;34m(*args, **kwargs)\u001b[0m\n\u001b[0;32m    786\u001b[0m \u001b[38;5;129m@functools\u001b[39m\u001b[38;5;241m.\u001b[39mwraps(func)\n\u001b[0;32m    787\u001b[0m \u001b[38;5;28;01mdef\u001b[39;00m\u001b[38;5;250m \u001b[39m\u001b[38;5;21mwrapper\u001b[39m(\u001b[38;5;241m*\u001b[39margs: _P\u001b[38;5;241m.\u001b[39margs, \u001b[38;5;241m*\u001b[39m\u001b[38;5;241m*\u001b[39mkwargs: _P\u001b[38;5;241m.\u001b[39mkwargs) \u001b[38;5;241m-\u001b[39m\u001b[38;5;241m>\u001b[39m \u001b[38;5;28mlist\u001b[39m[Element]:\n\u001b[1;32m--> 788\u001b[0m     elements \u001b[38;5;241m=\u001b[39m \u001b[43mfunc\u001b[49m\u001b[43m(\u001b[49m\u001b[38;5;241;43m*\u001b[39;49m\u001b[43margs\u001b[49m\u001b[43m,\u001b[49m\u001b[43m \u001b[49m\u001b[38;5;241;43m*\u001b[39;49m\u001b[38;5;241;43m*\u001b[39;49m\u001b[43mkwargs\u001b[49m\u001b[43m)\u001b[49m\n\u001b[0;32m    790\u001b[0m     \u001b[38;5;28;01mfor\u001b[39;00m element \u001b[38;5;129;01min\u001b[39;00m elements:\n\u001b[0;32m    791\u001b[0m         \u001b[38;5;66;03m# NOTE(robinson) - Attached files have already run through this logic\u001b[39;00m\n\u001b[0;32m    792\u001b[0m         \u001b[38;5;66;03m# in their own partitioning function\u001b[39;00m\n\u001b[0;32m    793\u001b[0m         \u001b[38;5;28;01mif\u001b[39;00m element\u001b[38;5;241m.\u001b[39mmetadata\u001b[38;5;241m.\u001b[39mattached_to_filename \u001b[38;5;129;01mis\u001b[39;00m \u001b[38;5;28;01mNone\u001b[39;00m:\n",
      "File \u001b[1;32me:\\_C0D3\\_RepoS\\_Perso\\__DataForGood\\2025 02 - Parse research PDFs\\.venv\\Lib\\site-packages\\unstructured\\file_utils\\filetype.py:746\u001b[0m, in \u001b[0;36madd_metadata.<locals>.wrapper\u001b[1;34m(*args, **kwargs)\u001b[0m\n\u001b[0;32m    744\u001b[0m \u001b[38;5;129m@functools\u001b[39m\u001b[38;5;241m.\u001b[39mwraps(func)\n\u001b[0;32m    745\u001b[0m \u001b[38;5;28;01mdef\u001b[39;00m\u001b[38;5;250m \u001b[39m\u001b[38;5;21mwrapper\u001b[39m(\u001b[38;5;241m*\u001b[39margs: _P\u001b[38;5;241m.\u001b[39margs, \u001b[38;5;241m*\u001b[39m\u001b[38;5;241m*\u001b[39mkwargs: _P\u001b[38;5;241m.\u001b[39mkwargs) \u001b[38;5;241m-\u001b[39m\u001b[38;5;241m>\u001b[39m \u001b[38;5;28mlist\u001b[39m[Element]:\n\u001b[1;32m--> 746\u001b[0m     elements \u001b[38;5;241m=\u001b[39m \u001b[43mfunc\u001b[49m\u001b[43m(\u001b[49m\u001b[38;5;241;43m*\u001b[39;49m\u001b[43margs\u001b[49m\u001b[43m,\u001b[49m\u001b[43m \u001b[49m\u001b[38;5;241;43m*\u001b[39;49m\u001b[38;5;241;43m*\u001b[39;49m\u001b[43mkwargs\u001b[49m\u001b[43m)\u001b[49m\n\u001b[0;32m    747\u001b[0m     call_args \u001b[38;5;241m=\u001b[39m get_call_args_applying_defaults(func, \u001b[38;5;241m*\u001b[39margs, \u001b[38;5;241m*\u001b[39m\u001b[38;5;241m*\u001b[39mkwargs)\n\u001b[0;32m    749\u001b[0m     \u001b[38;5;28;01mif\u001b[39;00m call_args\u001b[38;5;241m.\u001b[39mget(\u001b[38;5;124m\"\u001b[39m\u001b[38;5;124mmetadata_filename\u001b[39m\u001b[38;5;124m\"\u001b[39m):\n",
      "File \u001b[1;32me:\\_C0D3\\_RepoS\\_Perso\\__DataForGood\\2025 02 - Parse research PDFs\\.venv\\Lib\\site-packages\\unstructured\\chunking\\dispatch.py:74\u001b[0m, in \u001b[0;36madd_chunking_strategy.<locals>.wrapper\u001b[1;34m(*args, **kwargs)\u001b[0m\n\u001b[0;32m     71\u001b[0m \u001b[38;5;250m\u001b[39m\u001b[38;5;124;03m\"\"\"The decorated function is replaced with this one.\"\"\"\u001b[39;00m\n\u001b[0;32m     73\u001b[0m \u001b[38;5;66;03m# -- call the partitioning function to get the elements --\u001b[39;00m\n\u001b[1;32m---> 74\u001b[0m elements \u001b[38;5;241m=\u001b[39m \u001b[43mfunc\u001b[49m\u001b[43m(\u001b[49m\u001b[38;5;241;43m*\u001b[39;49m\u001b[43margs\u001b[49m\u001b[43m,\u001b[49m\u001b[43m \u001b[49m\u001b[38;5;241;43m*\u001b[39;49m\u001b[38;5;241;43m*\u001b[39;49m\u001b[43mkwargs\u001b[49m\u001b[43m)\u001b[49m\n\u001b[0;32m     76\u001b[0m \u001b[38;5;66;03m# -- look for a chunking-strategy argument --\u001b[39;00m\n\u001b[0;32m     77\u001b[0m call_args \u001b[38;5;241m=\u001b[39m get_call_args_applying_defaults(func, \u001b[38;5;241m*\u001b[39margs, \u001b[38;5;241m*\u001b[39m\u001b[38;5;241m*\u001b[39mkwargs)\n",
      "File \u001b[1;32me:\\_C0D3\\_RepoS\\_Perso\\__DataForGood\\2025 02 - Parse research PDFs\\.venv\\Lib\\site-packages\\unstructured\\partition\\pdf.py:211\u001b[0m, in \u001b[0;36mpartition_pdf\u001b[1;34m(filename, file, include_page_breaks, strategy, infer_table_structure, ocr_languages, languages, metadata_filename, metadata_last_modified, chunking_strategy, hi_res_model_name, extract_images_in_pdf, extract_image_block_types, extract_image_block_output_dir, extract_image_block_to_payload, starting_page_number, extract_forms, form_extraction_skip_tables, **kwargs)\u001b[0m\n\u001b[0;32m    207\u001b[0m exactly_one(filename\u001b[38;5;241m=\u001b[39mfilename, file\u001b[38;5;241m=\u001b[39mfile)\n\u001b[0;32m    209\u001b[0m languages \u001b[38;5;241m=\u001b[39m check_language_args(languages \u001b[38;5;129;01mor\u001b[39;00m [], ocr_languages)\n\u001b[1;32m--> 211\u001b[0m \u001b[38;5;28;01mreturn\u001b[39;00m \u001b[43mpartition_pdf_or_image\u001b[49m\u001b[43m(\u001b[49m\n\u001b[0;32m    212\u001b[0m \u001b[43m    \u001b[49m\u001b[43mfilename\u001b[49m\u001b[38;5;241;43m=\u001b[39;49m\u001b[43mfilename\u001b[49m\u001b[43m,\u001b[49m\n\u001b[0;32m    213\u001b[0m \u001b[43m    \u001b[49m\u001b[43mfile\u001b[49m\u001b[38;5;241;43m=\u001b[39;49m\u001b[43mfile\u001b[49m\u001b[43m,\u001b[49m\n\u001b[0;32m    214\u001b[0m \u001b[43m    \u001b[49m\u001b[43minclude_page_breaks\u001b[49m\u001b[38;5;241;43m=\u001b[39;49m\u001b[43minclude_page_breaks\u001b[49m\u001b[43m,\u001b[49m\n\u001b[0;32m    215\u001b[0m \u001b[43m    \u001b[49m\u001b[43mstrategy\u001b[49m\u001b[38;5;241;43m=\u001b[39;49m\u001b[43mstrategy\u001b[49m\u001b[43m,\u001b[49m\n\u001b[0;32m    216\u001b[0m \u001b[43m    \u001b[49m\u001b[43minfer_table_structure\u001b[49m\u001b[38;5;241;43m=\u001b[39;49m\u001b[43minfer_table_structure\u001b[49m\u001b[43m,\u001b[49m\n\u001b[0;32m    217\u001b[0m \u001b[43m    \u001b[49m\u001b[43mlanguages\u001b[49m\u001b[38;5;241;43m=\u001b[39;49m\u001b[43mlanguages\u001b[49m\u001b[43m,\u001b[49m\n\u001b[0;32m    218\u001b[0m \u001b[43m    \u001b[49m\u001b[43mmetadata_last_modified\u001b[49m\u001b[38;5;241;43m=\u001b[39;49m\u001b[43mmetadata_last_modified\u001b[49m\u001b[43m,\u001b[49m\n\u001b[0;32m    219\u001b[0m \u001b[43m    \u001b[49m\u001b[43mhi_res_model_name\u001b[49m\u001b[38;5;241;43m=\u001b[39;49m\u001b[43mhi_res_model_name\u001b[49m\u001b[43m,\u001b[49m\n\u001b[0;32m    220\u001b[0m \u001b[43m    \u001b[49m\u001b[43mextract_images_in_pdf\u001b[49m\u001b[38;5;241;43m=\u001b[39;49m\u001b[43mextract_images_in_pdf\u001b[49m\u001b[43m,\u001b[49m\n\u001b[0;32m    221\u001b[0m \u001b[43m    \u001b[49m\u001b[43mextract_image_block_types\u001b[49m\u001b[38;5;241;43m=\u001b[39;49m\u001b[43mextract_image_block_types\u001b[49m\u001b[43m,\u001b[49m\n\u001b[0;32m    222\u001b[0m \u001b[43m    \u001b[49m\u001b[43mextract_image_block_output_dir\u001b[49m\u001b[38;5;241;43m=\u001b[39;49m\u001b[43mextract_image_block_output_dir\u001b[49m\u001b[43m,\u001b[49m\n\u001b[0;32m    223\u001b[0m \u001b[43m    \u001b[49m\u001b[43mextract_image_block_to_payload\u001b[49m\u001b[38;5;241;43m=\u001b[39;49m\u001b[43mextract_image_block_to_payload\u001b[49m\u001b[43m,\u001b[49m\n\u001b[0;32m    224\u001b[0m \u001b[43m    \u001b[49m\u001b[43mstarting_page_number\u001b[49m\u001b[38;5;241;43m=\u001b[39;49m\u001b[43mstarting_page_number\u001b[49m\u001b[43m,\u001b[49m\n\u001b[0;32m    225\u001b[0m \u001b[43m    \u001b[49m\u001b[43mextract_forms\u001b[49m\u001b[38;5;241;43m=\u001b[39;49m\u001b[43mextract_forms\u001b[49m\u001b[43m,\u001b[49m\n\u001b[0;32m    226\u001b[0m \u001b[43m    \u001b[49m\u001b[43mform_extraction_skip_tables\u001b[49m\u001b[38;5;241;43m=\u001b[39;49m\u001b[43mform_extraction_skip_tables\u001b[49m\u001b[43m,\u001b[49m\n\u001b[0;32m    227\u001b[0m \u001b[43m    \u001b[49m\u001b[38;5;241;43m*\u001b[39;49m\u001b[38;5;241;43m*\u001b[39;49m\u001b[43mkwargs\u001b[49m\u001b[43m,\u001b[49m\n\u001b[0;32m    228\u001b[0m \u001b[43m\u001b[49m\u001b[43m)\u001b[49m\n",
      "File \u001b[1;32me:\\_C0D3\\_RepoS\\_Perso\\__DataForGood\\2025 02 - Parse research PDFs\\.venv\\Lib\\site-packages\\unstructured\\partition\\pdf.py:307\u001b[0m, in \u001b[0;36mpartition_pdf_or_image\u001b[1;34m(filename, file, is_image, include_page_breaks, strategy, infer_table_structure, languages, metadata_last_modified, hi_res_model_name, extract_images_in_pdf, extract_image_block_types, extract_image_block_output_dir, extract_image_block_to_payload, starting_page_number, extract_forms, form_extraction_skip_tables, **kwargs)\u001b[0m\n\u001b[0;32m    305\u001b[0m     \u001b[38;5;28;01mwith\u001b[39;00m warnings\u001b[38;5;241m.\u001b[39mcatch_warnings():\n\u001b[0;32m    306\u001b[0m         warnings\u001b[38;5;241m.\u001b[39msimplefilter(\u001b[38;5;124m\"\u001b[39m\u001b[38;5;124mignore\u001b[39m\u001b[38;5;124m\"\u001b[39m)\n\u001b[1;32m--> 307\u001b[0m         elements \u001b[38;5;241m=\u001b[39m \u001b[43m_partition_pdf_or_image_local\u001b[49m\u001b[43m(\u001b[49m\n\u001b[0;32m    308\u001b[0m \u001b[43m            \u001b[49m\u001b[43mfilename\u001b[49m\u001b[38;5;241;43m=\u001b[39;49m\u001b[43mfilename\u001b[49m\u001b[43m,\u001b[49m\n\u001b[0;32m    309\u001b[0m \u001b[43m            \u001b[49m\u001b[43mfile\u001b[49m\u001b[38;5;241;43m=\u001b[39;49m\u001b[43mspooled_to_bytes_io_if_needed\u001b[49m\u001b[43m(\u001b[49m\u001b[43mfile\u001b[49m\u001b[43m)\u001b[49m\u001b[43m,\u001b[49m\n\u001b[0;32m    310\u001b[0m \u001b[43m            \u001b[49m\u001b[43mis_image\u001b[49m\u001b[38;5;241;43m=\u001b[39;49m\u001b[43mis_image\u001b[49m\u001b[43m,\u001b[49m\n\u001b[0;32m    311\u001b[0m \u001b[43m            \u001b[49m\u001b[43minfer_table_structure\u001b[49m\u001b[38;5;241;43m=\u001b[39;49m\u001b[43minfer_table_structure\u001b[49m\u001b[43m,\u001b[49m\n\u001b[0;32m    312\u001b[0m \u001b[43m            \u001b[49m\u001b[43minclude_page_breaks\u001b[49m\u001b[38;5;241;43m=\u001b[39;49m\u001b[43minclude_page_breaks\u001b[49m\u001b[43m,\u001b[49m\n\u001b[0;32m    313\u001b[0m \u001b[43m            \u001b[49m\u001b[43mlanguages\u001b[49m\u001b[38;5;241;43m=\u001b[39;49m\u001b[43mlanguages\u001b[49m\u001b[43m,\u001b[49m\n\u001b[0;32m    314\u001b[0m \u001b[43m            \u001b[49m\u001b[43mocr_languages\u001b[49m\u001b[38;5;241;43m=\u001b[39;49m\u001b[43mocr_languages\u001b[49m\u001b[43m,\u001b[49m\n\u001b[0;32m    315\u001b[0m \u001b[43m            \u001b[49m\u001b[43mmetadata_last_modified\u001b[49m\u001b[38;5;241;43m=\u001b[39;49m\u001b[43mmetadata_last_modified\u001b[49m\u001b[43m \u001b[49m\u001b[38;5;129;43;01mor\u001b[39;49;00m\u001b[43m \u001b[49m\u001b[43mlast_modified\u001b[49m\u001b[43m,\u001b[49m\n\u001b[0;32m    316\u001b[0m \u001b[43m            \u001b[49m\u001b[43mhi_res_model_name\u001b[49m\u001b[38;5;241;43m=\u001b[39;49m\u001b[43mhi_res_model_name\u001b[49m\u001b[43m,\u001b[49m\n\u001b[0;32m    317\u001b[0m \u001b[43m            \u001b[49m\u001b[43mpdf_text_extractable\u001b[49m\u001b[38;5;241;43m=\u001b[39;49m\u001b[43mpdf_text_extractable\u001b[49m\u001b[43m,\u001b[49m\n\u001b[0;32m    318\u001b[0m \u001b[43m            \u001b[49m\u001b[43mextract_images_in_pdf\u001b[49m\u001b[38;5;241;43m=\u001b[39;49m\u001b[43mextract_images_in_pdf\u001b[49m\u001b[43m,\u001b[49m\n\u001b[0;32m    319\u001b[0m \u001b[43m            \u001b[49m\u001b[43mextract_image_block_types\u001b[49m\u001b[38;5;241;43m=\u001b[39;49m\u001b[43mextract_image_block_types\u001b[49m\u001b[43m,\u001b[49m\n\u001b[0;32m    320\u001b[0m \u001b[43m            \u001b[49m\u001b[43mextract_image_block_output_dir\u001b[49m\u001b[38;5;241;43m=\u001b[39;49m\u001b[43mextract_image_block_output_dir\u001b[49m\u001b[43m,\u001b[49m\n\u001b[0;32m    321\u001b[0m \u001b[43m            \u001b[49m\u001b[43mextract_image_block_to_payload\u001b[49m\u001b[38;5;241;43m=\u001b[39;49m\u001b[43mextract_image_block_to_payload\u001b[49m\u001b[43m,\u001b[49m\n\u001b[0;32m    322\u001b[0m \u001b[43m            \u001b[49m\u001b[43mstarting_page_number\u001b[49m\u001b[38;5;241;43m=\u001b[39;49m\u001b[43mstarting_page_number\u001b[49m\u001b[43m,\u001b[49m\n\u001b[0;32m    323\u001b[0m \u001b[43m            \u001b[49m\u001b[43mextract_forms\u001b[49m\u001b[38;5;241;43m=\u001b[39;49m\u001b[43mextract_forms\u001b[49m\u001b[43m,\u001b[49m\n\u001b[0;32m    324\u001b[0m \u001b[43m            \u001b[49m\u001b[43mform_extraction_skip_tables\u001b[49m\u001b[38;5;241;43m=\u001b[39;49m\u001b[43mform_extraction_skip_tables\u001b[49m\u001b[43m,\u001b[49m\n\u001b[0;32m    325\u001b[0m \u001b[43m            \u001b[49m\u001b[38;5;241;43m*\u001b[39;49m\u001b[38;5;241;43m*\u001b[39;49m\u001b[43mkwargs\u001b[49m\u001b[43m,\u001b[49m\n\u001b[0;32m    326\u001b[0m \u001b[43m        \u001b[49m\u001b[43m)\u001b[49m\n\u001b[0;32m    327\u001b[0m         out_elements \u001b[38;5;241m=\u001b[39m _process_uncategorized_text_elements(elements)\n\u001b[0;32m    329\u001b[0m \u001b[38;5;28;01melif\u001b[39;00m strategy \u001b[38;5;241m==\u001b[39m PartitionStrategy\u001b[38;5;241m.\u001b[39mFAST:\n",
      "File \u001b[1;32me:\\_C0D3\\_RepoS\\_Perso\\__DataForGood\\2025 02 - Parse research PDFs\\.venv\\Lib\\site-packages\\unstructured\\utils.py:216\u001b[0m, in \u001b[0;36mrequires_dependencies.<locals>.decorator.<locals>.wrapper\u001b[1;34m(*args, **kwargs)\u001b[0m\n\u001b[0;32m    213\u001b[0m \u001b[38;5;129m@wraps\u001b[39m(func)\n\u001b[0;32m    214\u001b[0m \u001b[38;5;28;01mdef\u001b[39;00m\u001b[38;5;250m \u001b[39m\u001b[38;5;21mwrapper\u001b[39m(\u001b[38;5;241m*\u001b[39margs: _P\u001b[38;5;241m.\u001b[39margs, \u001b[38;5;241m*\u001b[39m\u001b[38;5;241m*\u001b[39mkwargs: _P\u001b[38;5;241m.\u001b[39mkwargs):\n\u001b[0;32m    215\u001b[0m     run_check()\n\u001b[1;32m--> 216\u001b[0m     \u001b[38;5;28;01mreturn\u001b[39;00m \u001b[43mfunc\u001b[49m\u001b[43m(\u001b[49m\u001b[38;5;241;43m*\u001b[39;49m\u001b[43margs\u001b[49m\u001b[43m,\u001b[49m\u001b[43m \u001b[49m\u001b[38;5;241;43m*\u001b[39;49m\u001b[38;5;241;43m*\u001b[39;49m\u001b[43mkwargs\u001b[49m\u001b[43m)\u001b[49m\n",
      "File \u001b[1;32me:\\_C0D3\\_RepoS\\_Perso\\__DataForGood\\2025 02 - Parse research PDFs\\.venv\\Lib\\site-packages\\unstructured\\partition\\pdf.py:590\u001b[0m, in \u001b[0;36m_partition_pdf_or_image_local\u001b[1;34m(filename, file, is_image, infer_table_structure, include_page_breaks, languages, ocr_languages, ocr_mode, model_name, hi_res_model_name, pdf_image_dpi, metadata_last_modified, pdf_text_extractable, extract_images_in_pdf, extract_image_block_types, extract_image_block_output_dir, extract_image_block_to_payload, analysis, analyzed_image_output_dir_path, starting_page_number, extract_forms, form_extraction_skip_tables, pdf_hi_res_max_pages, **kwargs)\u001b[0m\n\u001b[0;32m    587\u001b[0m skip_analysis_dump \u001b[38;5;241m=\u001b[39m env_config\u001b[38;5;241m.\u001b[39mANALYSIS_DUMP_OD_SKIP\n\u001b[0;32m    589\u001b[0m \u001b[38;5;28;01mif\u001b[39;00m file \u001b[38;5;129;01mis\u001b[39;00m \u001b[38;5;28;01mNone\u001b[39;00m:\n\u001b[1;32m--> 590\u001b[0m     inferred_document_layout \u001b[38;5;241m=\u001b[39m \u001b[43mprocess_file_with_model\u001b[49m\u001b[43m(\u001b[49m\n\u001b[0;32m    591\u001b[0m \u001b[43m        \u001b[49m\u001b[43mfilename\u001b[49m\u001b[43m,\u001b[49m\n\u001b[0;32m    592\u001b[0m \u001b[43m        \u001b[49m\u001b[43mis_image\u001b[49m\u001b[38;5;241;43m=\u001b[39;49m\u001b[43mis_image\u001b[49m\u001b[43m,\u001b[49m\n\u001b[0;32m    593\u001b[0m \u001b[43m        \u001b[49m\u001b[43mmodel_name\u001b[49m\u001b[38;5;241;43m=\u001b[39;49m\u001b[43mhi_res_model_name\u001b[49m\u001b[43m,\u001b[49m\n\u001b[0;32m    594\u001b[0m \u001b[43m        \u001b[49m\u001b[43mpdf_image_dpi\u001b[49m\u001b[38;5;241;43m=\u001b[39;49m\u001b[43mpdf_image_dpi\u001b[49m\u001b[43m,\u001b[49m\n\u001b[0;32m    595\u001b[0m \u001b[43m    \u001b[49m\u001b[43m)\u001b[49m\n\u001b[0;32m    597\u001b[0m     extracted_layout, layouts_links \u001b[38;5;241m=\u001b[39m (\n\u001b[0;32m    598\u001b[0m         process_file_with_pdfminer(filename\u001b[38;5;241m=\u001b[39mfilename, dpi\u001b[38;5;241m=\u001b[39mpdf_image_dpi)\n\u001b[0;32m    599\u001b[0m         \u001b[38;5;28;01mif\u001b[39;00m pdf_text_extractable\n\u001b[0;32m    600\u001b[0m         \u001b[38;5;28;01melse\u001b[39;00m ([], [])\n\u001b[0;32m    601\u001b[0m     )\n\u001b[0;32m    603\u001b[0m     \u001b[38;5;28;01mif\u001b[39;00m analysis:\n",
      "File \u001b[1;32me:\\_C0D3\\_RepoS\\_Perso\\__DataForGood\\2025 02 - Parse research PDFs\\.venv\\Lib\\site-packages\\unstructured_inference\\inference\\layout.py:383\u001b[0m, in \u001b[0;36mprocess_file_with_model\u001b[1;34m(filename, model_name, is_image, fixed_layouts, pdf_image_dpi, password, **kwargs)\u001b[0m\n\u001b[0;32m    373\u001b[0m \u001b[38;5;28;01melse\u001b[39;00m:\n\u001b[0;32m    374\u001b[0m     \u001b[38;5;28;01mraise\u001b[39;00m \u001b[38;5;167;01mValueError\u001b[39;00m(\u001b[38;5;124mf\u001b[39m\u001b[38;5;124m\"\u001b[39m\u001b[38;5;124mUnsupported model type: \u001b[39m\u001b[38;5;132;01m{\u001b[39;00m\u001b[38;5;28mtype\u001b[39m(model)\u001b[38;5;132;01m}\u001b[39;00m\u001b[38;5;124m\"\u001b[39m)\n\u001b[0;32m    375\u001b[0m layout \u001b[38;5;241m=\u001b[39m (\n\u001b[0;32m    376\u001b[0m     DocumentLayout\u001b[38;5;241m.\u001b[39mfrom_image_file(\n\u001b[0;32m    377\u001b[0m         filename,\n\u001b[0;32m    378\u001b[0m         detection_model\u001b[38;5;241m=\u001b[39mdetection_model,\n\u001b[0;32m    379\u001b[0m         element_extraction_model\u001b[38;5;241m=\u001b[39melement_extraction_model,\n\u001b[0;32m    380\u001b[0m         \u001b[38;5;241m*\u001b[39m\u001b[38;5;241m*\u001b[39mkwargs,\n\u001b[0;32m    381\u001b[0m     )\n\u001b[0;32m    382\u001b[0m     \u001b[38;5;28;01mif\u001b[39;00m is_image\n\u001b[1;32m--> 383\u001b[0m     \u001b[38;5;28;01melse\u001b[39;00m \u001b[43mDocumentLayout\u001b[49m\u001b[38;5;241;43m.\u001b[39;49m\u001b[43mfrom_file\u001b[49m\u001b[43m(\u001b[49m\n\u001b[0;32m    384\u001b[0m \u001b[43m        \u001b[49m\u001b[43mfilename\u001b[49m\u001b[43m,\u001b[49m\n\u001b[0;32m    385\u001b[0m \u001b[43m        \u001b[49m\u001b[43mdetection_model\u001b[49m\u001b[38;5;241;43m=\u001b[39;49m\u001b[43mdetection_model\u001b[49m\u001b[43m,\u001b[49m\n\u001b[0;32m    386\u001b[0m \u001b[43m        \u001b[49m\u001b[43melement_extraction_model\u001b[49m\u001b[38;5;241;43m=\u001b[39;49m\u001b[43melement_extraction_model\u001b[49m\u001b[43m,\u001b[49m\n\u001b[0;32m    387\u001b[0m \u001b[43m        \u001b[49m\u001b[43mfixed_layouts\u001b[49m\u001b[38;5;241;43m=\u001b[39;49m\u001b[43mfixed_layouts\u001b[49m\u001b[43m,\u001b[49m\n\u001b[0;32m    388\u001b[0m \u001b[43m        \u001b[49m\u001b[43mpdf_image_dpi\u001b[49m\u001b[38;5;241;43m=\u001b[39;49m\u001b[43mpdf_image_dpi\u001b[49m\u001b[43m,\u001b[49m\n\u001b[0;32m    389\u001b[0m \u001b[43m        \u001b[49m\u001b[43mpassword\u001b[49m\u001b[38;5;241;43m=\u001b[39;49m\u001b[43mpassword\u001b[49m\u001b[43m,\u001b[49m\n\u001b[0;32m    390\u001b[0m \u001b[43m        \u001b[49m\u001b[38;5;241;43m*\u001b[39;49m\u001b[38;5;241;43m*\u001b[39;49m\u001b[43mkwargs\u001b[49m\u001b[43m,\u001b[49m\n\u001b[0;32m    391\u001b[0m \u001b[43m    \u001b[49m\u001b[43m)\u001b[49m\n\u001b[0;32m    392\u001b[0m )\n\u001b[0;32m    393\u001b[0m \u001b[38;5;28;01mreturn\u001b[39;00m layout\n",
      "File \u001b[1;32me:\\_C0D3\\_RepoS\\_Perso\\__DataForGood\\2025 02 - Parse research PDFs\\.venv\\Lib\\site-packages\\unstructured_inference\\inference\\layout.py:61\u001b[0m, in \u001b[0;36mDocumentLayout.from_file\u001b[1;34m(cls, filename, fixed_layouts, pdf_image_dpi, password, **kwargs)\u001b[0m\n\u001b[0;32m     58\u001b[0m logger\u001b[38;5;241m.\u001b[39minfo(\u001b[38;5;124mf\u001b[39m\u001b[38;5;124m\"\u001b[39m\u001b[38;5;124mReading PDF for file: \u001b[39m\u001b[38;5;132;01m{\u001b[39;00mfilename\u001b[38;5;132;01m}\u001b[39;00m\u001b[38;5;124m ...\u001b[39m\u001b[38;5;124m\"\u001b[39m)\n\u001b[0;32m     60\u001b[0m \u001b[38;5;28;01mwith\u001b[39;00m tempfile\u001b[38;5;241m.\u001b[39mTemporaryDirectory() \u001b[38;5;28;01mas\u001b[39;00m temp_dir:\n\u001b[1;32m---> 61\u001b[0m     _image_paths \u001b[38;5;241m=\u001b[39m \u001b[43mconvert_pdf_to_image\u001b[49m\u001b[43m(\u001b[49m\n\u001b[0;32m     62\u001b[0m \u001b[43m        \u001b[49m\u001b[43mfilename\u001b[49m\u001b[43m,\u001b[49m\n\u001b[0;32m     63\u001b[0m \u001b[43m        \u001b[49m\u001b[43mpdf_image_dpi\u001b[49m\u001b[43m,\u001b[49m\n\u001b[0;32m     64\u001b[0m \u001b[43m        \u001b[49m\u001b[43moutput_folder\u001b[49m\u001b[38;5;241;43m=\u001b[39;49m\u001b[43mtemp_dir\u001b[49m\u001b[43m,\u001b[49m\n\u001b[0;32m     65\u001b[0m \u001b[43m        \u001b[49m\u001b[43mpath_only\u001b[49m\u001b[38;5;241;43m=\u001b[39;49m\u001b[38;5;28;43;01mTrue\u001b[39;49;00m\u001b[43m,\u001b[49m\n\u001b[0;32m     66\u001b[0m \u001b[43m        \u001b[49m\u001b[43mpassword\u001b[49m\u001b[38;5;241;43m=\u001b[39;49m\u001b[43mpassword\u001b[49m\u001b[43m,\u001b[49m\n\u001b[0;32m     67\u001b[0m \u001b[43m    \u001b[49m\u001b[43m)\u001b[49m\n\u001b[0;32m     68\u001b[0m     image_paths \u001b[38;5;241m=\u001b[39m cast(List[\u001b[38;5;28mstr\u001b[39m], _image_paths)\n\u001b[0;32m     69\u001b[0m     number_of_pages \u001b[38;5;241m=\u001b[39m \u001b[38;5;28mlen\u001b[39m(image_paths)\n",
      "File \u001b[1;32me:\\_C0D3\\_RepoS\\_Perso\\__DataForGood\\2025 02 - Parse research PDFs\\.venv\\Lib\\site-packages\\unstructured_inference\\inference\\layout.py:409\u001b[0m, in \u001b[0;36mconvert_pdf_to_image\u001b[1;34m(filename, dpi, output_folder, path_only, password)\u001b[0m\n\u001b[0;32m    406\u001b[0m     \u001b[38;5;28;01mraise\u001b[39;00m \u001b[38;5;167;01mValueError\u001b[39;00m(\u001b[38;5;124m\"\u001b[39m\u001b[38;5;124moutput_folder must be specified if path_only is true\u001b[39m\u001b[38;5;124m\"\u001b[39m)\n\u001b[0;32m    408\u001b[0m \u001b[38;5;28;01mif\u001b[39;00m output_folder \u001b[38;5;129;01mis\u001b[39;00m \u001b[38;5;129;01mnot\u001b[39;00m \u001b[38;5;28;01mNone\u001b[39;00m:\n\u001b[1;32m--> 409\u001b[0m     images \u001b[38;5;241m=\u001b[39m \u001b[43mpdf2image\u001b[49m\u001b[38;5;241;43m.\u001b[39;49m\u001b[43mconvert_from_path\u001b[49m\u001b[43m(\u001b[49m\n\u001b[0;32m    410\u001b[0m \u001b[43m        \u001b[49m\u001b[43mfilename\u001b[49m\u001b[43m,\u001b[49m\n\u001b[0;32m    411\u001b[0m \u001b[43m        \u001b[49m\u001b[43mdpi\u001b[49m\u001b[38;5;241;43m=\u001b[39;49m\u001b[43mdpi\u001b[49m\u001b[43m,\u001b[49m\n\u001b[0;32m    412\u001b[0m \u001b[43m        \u001b[49m\u001b[43moutput_folder\u001b[49m\u001b[38;5;241;43m=\u001b[39;49m\u001b[43moutput_folder\u001b[49m\u001b[43m,\u001b[49m\n\u001b[0;32m    413\u001b[0m \u001b[43m        \u001b[49m\u001b[43mpaths_only\u001b[49m\u001b[38;5;241;43m=\u001b[39;49m\u001b[43mpath_only\u001b[49m\u001b[43m,\u001b[49m\n\u001b[0;32m    414\u001b[0m \u001b[43m        \u001b[49m\u001b[43muserpw\u001b[49m\u001b[38;5;241;43m=\u001b[39;49m\u001b[43mpassword\u001b[49m\u001b[43m \u001b[49m\u001b[38;5;129;43;01mor\u001b[39;49;00m\u001b[43m \u001b[49m\u001b[38;5;124;43m\"\u001b[39;49m\u001b[38;5;124;43m\"\u001b[39;49m\u001b[43m,\u001b[49m\n\u001b[0;32m    415\u001b[0m \u001b[43m    \u001b[49m\u001b[43m)\u001b[49m\n\u001b[0;32m    416\u001b[0m \u001b[38;5;28;01melse\u001b[39;00m:\n\u001b[0;32m    417\u001b[0m     images \u001b[38;5;241m=\u001b[39m pdf2image\u001b[38;5;241m.\u001b[39mconvert_from_path(\n\u001b[0;32m    418\u001b[0m         filename,\n\u001b[0;32m    419\u001b[0m         dpi\u001b[38;5;241m=\u001b[39mdpi,\n\u001b[0;32m    420\u001b[0m         paths_only\u001b[38;5;241m=\u001b[39mpath_only,\n\u001b[0;32m    421\u001b[0m         userpw\u001b[38;5;241m=\u001b[39mpassword \u001b[38;5;129;01mor\u001b[39;00m \u001b[38;5;124m\"\u001b[39m\u001b[38;5;124m\"\u001b[39m,\n\u001b[0;32m    422\u001b[0m     )\n",
      "File \u001b[1;32me:\\_C0D3\\_RepoS\\_Perso\\__DataForGood\\2025 02 - Parse research PDFs\\.venv\\Lib\\site-packages\\pdf2image\\pdf2image.py:127\u001b[0m, in \u001b[0;36mconvert_from_path\u001b[1;34m(pdf_path, dpi, output_folder, first_page, last_page, fmt, jpegopt, thread_count, userpw, ownerpw, use_cropbox, strict, transparent, single_file, output_file, poppler_path, grayscale, size, paths_only, use_pdftocairo, timeout, hide_annotations)\u001b[0m\n\u001b[0;32m    124\u001b[0m \u001b[38;5;28;01mif\u001b[39;00m \u001b[38;5;28misinstance\u001b[39m(poppler_path, PurePath):\n\u001b[0;32m    125\u001b[0m     poppler_path \u001b[38;5;241m=\u001b[39m poppler_path\u001b[38;5;241m.\u001b[39mas_posix()\n\u001b[1;32m--> 127\u001b[0m page_count \u001b[38;5;241m=\u001b[39m \u001b[43mpdfinfo_from_path\u001b[49m\u001b[43m(\u001b[49m\n\u001b[0;32m    128\u001b[0m \u001b[43m    \u001b[49m\u001b[43mpdf_path\u001b[49m\u001b[43m,\u001b[49m\u001b[43m \u001b[49m\u001b[43muserpw\u001b[49m\u001b[43m,\u001b[49m\u001b[43m \u001b[49m\u001b[43mownerpw\u001b[49m\u001b[43m,\u001b[49m\u001b[43m \u001b[49m\u001b[43mpoppler_path\u001b[49m\u001b[38;5;241;43m=\u001b[39;49m\u001b[43mpoppler_path\u001b[49m\n\u001b[0;32m    129\u001b[0m \u001b[43m\u001b[49m\u001b[43m)\u001b[49m[\u001b[38;5;124m\"\u001b[39m\u001b[38;5;124mPages\u001b[39m\u001b[38;5;124m\"\u001b[39m]\n\u001b[0;32m    131\u001b[0m \u001b[38;5;66;03m# We start by getting the output format, the buffer processing function and if we need pdftocairo\u001b[39;00m\n\u001b[0;32m    132\u001b[0m parsed_fmt, final_extension, parse_buffer_func, use_pdfcairo_format \u001b[38;5;241m=\u001b[39m _parse_format(\n\u001b[0;32m    133\u001b[0m     fmt, grayscale\n\u001b[0;32m    134\u001b[0m )\n",
      "File \u001b[1;32me:\\_C0D3\\_RepoS\\_Perso\\__DataForGood\\2025 02 - Parse research PDFs\\.venv\\Lib\\site-packages\\pdf2image\\pdf2image.py:611\u001b[0m, in \u001b[0;36mpdfinfo_from_path\u001b[1;34m(pdf_path, userpw, ownerpw, poppler_path, rawdates, timeout, first_page, last_page)\u001b[0m\n\u001b[0;32m    607\u001b[0m     \u001b[38;5;28;01mraise\u001b[39;00m PDFInfoNotInstalledError(\n\u001b[0;32m    608\u001b[0m         \u001b[38;5;124m\"\u001b[39m\u001b[38;5;124mUnable to get page count. Is poppler installed and in PATH?\u001b[39m\u001b[38;5;124m\"\u001b[39m\n\u001b[0;32m    609\u001b[0m     )\n\u001b[0;32m    610\u001b[0m \u001b[38;5;28;01mexcept\u001b[39;00m \u001b[38;5;167;01mValueError\u001b[39;00m:\n\u001b[1;32m--> 611\u001b[0m     \u001b[38;5;28;01mraise\u001b[39;00m PDFPageCountError(\n\u001b[0;32m    612\u001b[0m         \u001b[38;5;124mf\u001b[39m\u001b[38;5;124m\"\u001b[39m\u001b[38;5;124mUnable to get page count.\u001b[39m\u001b[38;5;130;01m\\n\u001b[39;00m\u001b[38;5;132;01m{\u001b[39;00merr\u001b[38;5;241m.\u001b[39mdecode(\u001b[38;5;124m'\u001b[39m\u001b[38;5;124mutf8\u001b[39m\u001b[38;5;124m'\u001b[39m,\u001b[38;5;250m \u001b[39m\u001b[38;5;124m'\u001b[39m\u001b[38;5;124mignore\u001b[39m\u001b[38;5;124m'\u001b[39m)\u001b[38;5;132;01m}\u001b[39;00m\u001b[38;5;124m\"\u001b[39m\n\u001b[0;32m    613\u001b[0m     )\n",
      "\u001b[1;31mPDFPageCountError\u001b[0m: Unable to get page count.\nI/O Error: Couldn't open file 'sources_pdf\\Documentation Ecoskills RH\\Litt<c3><a9>rature pour les mod<c3><a8>les\\Litt<c3><a9>rature acad<c3><a9>mique\\Human Resource Management - 2023 - Ren - Advancing the sustainability agenda through strategic human resource management .pdf': No error.\r\n"
     ]
    }
   ],
   "source": [
    "# for pdf_path in pdf_list[:3]:\n",
    "for pdf_path in pdf_list:\n",
    "    pdf_name = os.path.basename(pdf_path)\n",
    "    ic(f\"Processing {pdf_name}\")\n",
    "    file_info = get_pdf_info(pdf_path)\n",
    "    file_length = file_info[\"pages\"]\n",
    "\n",
    "    file_size = os.path.getsize(pdf_path) / 1024 / 1024\n",
    "\n",
    "    for method in methods_list:\n",
    "        ic(method.__name__)  # Print the method name\n",
    "        # Extract and measure the time of the method\n",
    "        output = extract_and_measure_timing(\n",
    "            method,\n",
    "            pdf_path=pdf_path,\n",
    "            # bool_write_images=False,\n",
    "            # bool_embed_images=False,\n",
    "        )\n",
    "        # Append the data to the dataframe\n",
    "        df_pdf_processing.loc[len(df_pdf_processing)] = [\n",
    "            pdf_path,\n",
    "            pdf_name,\n",
    "            file_length,\n",
    "            file_size,\n",
    "            method.__name__,\n",
    "            output[0],\n",
    "            output[1],\n",
    "            host_name,\n",
    "        ]"
   ]
  },
  {
   "cell_type": "code",
   "execution_count": null,
   "metadata": {},
   "outputs": [
    {
     "data": {
      "text/plain": [
       "(35, 6)"
      ]
     },
     "execution_count": 20,
     "metadata": {},
     "output_type": "execute_result"
    }
   ],
   "source": [
    "df_pdf_processing.shape"
   ]
  },
  {
   "cell_type": "code",
   "execution_count": null,
   "metadata": {},
   "outputs": [
    {
     "data": {
      "text/html": [
       "<div>\n",
       "<style scoped>\n",
       "    .dataframe tbody tr th:only-of-type {\n",
       "        vertical-align: middle;\n",
       "    }\n",
       "\n",
       "    .dataframe tbody tr th {\n",
       "        vertical-align: top;\n",
       "    }\n",
       "\n",
       "    .dataframe thead th {\n",
       "        text-align: right;\n",
       "    }\n",
       "</style>\n",
       "<table border=\"1\" class=\"dataframe\">\n",
       "  <thead>\n",
       "    <tr style=\"text-align: right;\">\n",
       "      <th></th>\n",
       "      <th>pdf_path</th>\n",
       "      <th>pdf_name</th>\n",
       "      <th>pages_length</th>\n",
       "      <th>file_size</th>\n",
       "      <th>method</th>\n",
       "      <th>output_md</th>\n",
       "      <th>time_processing</th>\n",
       "      <th>compute_identifier</th>\n",
       "    </tr>\n",
       "  </thead>\n",
       "  <tbody>\n",
       "    <tr>\n",
       "      <th>0</th>\n",
       "      <td>sources_pdf\\Documentation Ecoskills RH\\etude-t...</td>\n",
       "      <td>etude-transition-écologique Secteur du commerc...</td>\n",
       "      <td>103</td>\n",
       "      <td>14.742152</td>\n",
       "      <td>get_unstructured_ocr</td>\n",
       "      <td>[| |, Liberté + Egalité + Fraternité REPUBLIQU...</td>\n",
       "      <td>483.589669</td>\n",
       "      <td>-5561349462465552372</td>\n",
       "    </tr>\n",
       "    <tr>\n",
       "      <th>1</th>\n",
       "      <td>sources_pdf\\Documentation Ecoskills RH\\Littéra...</td>\n",
       "      <td>le-developpement-de-la-gestion-durable-des-res...</td>\n",
       "      <td>22</td>\n",
       "      <td>0.219145</td>\n",
       "      <td>get_unstructured_ocr</td>\n",
       "      <td>[LE DEVELOPPEMENT DE LA GESTION DURABLE DES RE...</td>\n",
       "      <td>103.648610</td>\n",
       "      <td>-5561349462465552372</td>\n",
       "    </tr>\n",
       "    <tr>\n",
       "      <th>2</th>\n",
       "      <td>sources_pdf\\Documentation Ecoskills RH\\Littéra...</td>\n",
       "      <td>2000gollan038.pdf</td>\n",
       "      <td>21</td>\n",
       "      <td>0.078189</td>\n",
       "      <td>get_unstructured_ocr</td>\n",
       "      <td>[HUMAN RESOURCES, CAPABILITIES, AND SUSTAINABI...</td>\n",
       "      <td>77.101861</td>\n",
       "      <td>-5561349462465552372</td>\n",
       "    </tr>\n",
       "    <tr>\n",
       "      <th>3</th>\n",
       "      <td>sources_pdf\\Documentation Ecoskills RH\\etude-t...</td>\n",
       "      <td>etude-transition-écologique Secteur du commerc...</td>\n",
       "      <td>103</td>\n",
       "      <td>14.742152</td>\n",
       "      <td>get_pymupdf4llm</td>\n",
       "      <td>[{'metadata': {'format': 'PDF 1.5', 'title': '...</td>\n",
       "      <td>26.068919</td>\n",
       "      <td>-5561349462465552372</td>\n",
       "    </tr>\n",
       "    <tr>\n",
       "      <th>4</th>\n",
       "      <td>sources_pdf\\Documentation Ecoskills RH\\etude-t...</td>\n",
       "      <td>etude-transition-écologique Secteur du commerc...</td>\n",
       "      <td>103</td>\n",
       "      <td>14.742152</td>\n",
       "      <td>get_unstructured_fast</td>\n",
       "      <td>[]</td>\n",
       "      <td>0.002999</td>\n",
       "      <td>-5561349462465552372</td>\n",
       "    </tr>\n",
       "  </tbody>\n",
       "</table>\n",
       "</div>"
      ],
      "text/plain": [
       "                                            pdf_path  \\\n",
       "0  sources_pdf\\Documentation Ecoskills RH\\etude-t...   \n",
       "1  sources_pdf\\Documentation Ecoskills RH\\Littéra...   \n",
       "2  sources_pdf\\Documentation Ecoskills RH\\Littéra...   \n",
       "3  sources_pdf\\Documentation Ecoskills RH\\etude-t...   \n",
       "4  sources_pdf\\Documentation Ecoskills RH\\etude-t...   \n",
       "\n",
       "                                            pdf_name  pages_length  file_size  \\\n",
       "0  etude-transition-écologique Secteur du commerc...           103  14.742152   \n",
       "1  le-developpement-de-la-gestion-durable-des-res...            22   0.219145   \n",
       "2                                  2000gollan038.pdf            21   0.078189   \n",
       "3  etude-transition-écologique Secteur du commerc...           103  14.742152   \n",
       "4  etude-transition-écologique Secteur du commerc...           103  14.742152   \n",
       "\n",
       "                  method                                          output_md  \\\n",
       "0   get_unstructured_ocr  [| |, Liberté + Egalité + Fraternité REPUBLIQU...   \n",
       "1   get_unstructured_ocr  [LE DEVELOPPEMENT DE LA GESTION DURABLE DES RE...   \n",
       "2   get_unstructured_ocr  [HUMAN RESOURCES, CAPABILITIES, AND SUSTAINABI...   \n",
       "3        get_pymupdf4llm  [{'metadata': {'format': 'PDF 1.5', 'title': '...   \n",
       "4  get_unstructured_fast                                                 []   \n",
       "\n",
       "   time_processing   compute_identifier  \n",
       "0       483.589669 -5561349462465552372  \n",
       "1       103.648610 -5561349462465552372  \n",
       "2        77.101861 -5561349462465552372  \n",
       "3        26.068919 -5561349462465552372  \n",
       "4         0.002999 -5561349462465552372  "
      ]
     },
     "execution_count": 53,
     "metadata": {},
     "output_type": "execute_result"
    }
   ],
   "source": [
    "df_pdf_processing.head(2)"
   ]
  },
  {
   "cell_type": "markdown",
   "metadata": {},
   "source": [
    "## TODO : Store the output of each methods"
   ]
  },
  {
   "cell_type": "code",
   "execution_count": null,
   "metadata": {},
   "outputs": [],
   "source": [
    "## Force an object to a string\n"
   ]
  },
  {
   "cell_type": "code",
   "execution_count": null,
   "metadata": {},
   "outputs": [],
   "source": [
    "pymupdf4llm_output = df_pdf_processing[\n",
    "    (df_pdf_processing[\"method\"] == \"get_pymupdf4llm\")\n",
    "    & (df_pdf_processing[\"pdf_name\"] == \"2000gollan038.pdf\")\n",
    "    # (df_pdf_processing[\"pdf_name\"] == \"2000gollan038.pdf\")\n",
    "][\"output_md\"].values[0]\n",
    "\n",
    "# [\"output_md\"]\n",
    "\n",
    "# get_pymupdf4llm\n",
    "# get_unstructured_fast"
   ]
  },
  {
   "cell_type": "code",
   "execution_count": 83,
   "metadata": {},
   "outputs": [
    {
     "data": {
      "text/plain": [
       "[{'metadata': {'format': 'PDF 1.3',\n",
       "   'title': '105.PDF',\n",
       "   'author': 'Administrateur',\n",
       "   'subject': '',\n",
       "   'keywords': '',\n",
       "   'creator': 'Microsoft Word',\n",
       "   'producer': 'Acrobat PDFWriter 4.05 pour Windows NT',\n",
       "   'creationDate': 'D:20001031105752Z',\n",
       "   'modDate': \"D:20080523233534+02'00'\",\n",
       "   'trapped': '',\n",
       "   'encryption': None,\n",
       "   'file_path': 'sources_pdf\\\\Documentation Ecoskills RH\\\\Littérature pour les modèles\\\\Littérature académique\\\\2000gollan038.pdf',\n",
       "   'page_count': 21,\n",
       "   'page': 1},\n",
       "  'toc_items': [],\n",
       "  'tables': [],\n",
       "  'images': [],\n",
       "  'graphics': [],\n",
       "  'text': '# HUMAN RESOURCES, CAPABILITIES\\n\\n AND SUSTAINABILITY\\n\\n#### Proposal Identification Number: 105\\n\\n# Paul J. Gollan\\n\\n#### London School of Economics\\n\\n 13A The Heights 97 Frognal Hampstead, UK NW3 6SX Telephone/Fax: +44 171 431 3351 E-mail: p.j.gollan@lse.ac.uk\\n\\n\\n-----\\n\\n',\n",
       "  'words': []},\n",
       " {'metadata': {'format': 'PDF 1.3',\n",
       "   'title': '105.PDF',\n",
       "   'author': 'Administrateur',\n",
       "   'subject': '',\n",
       "   'keywords': '',\n",
       "   'creator': 'Microsoft Word',\n",
       "   'producer': 'Acrobat PDFWriter 4.05 pour Windows NT',\n",
       "   'creationDate': 'D:20001031105752Z',\n",
       "   'modDate': \"D:20080523233534+02'00'\",\n",
       "   'trapped': '',\n",
       "   'encryption': None,\n",
       "   'file_path': 'sources_pdf\\\\Documentation Ecoskills RH\\\\Littérature pour les modèles\\\\Littérature académique\\\\2000gollan038.pdf',\n",
       "   'page_count': 21,\n",
       "   'page': 2},\n",
       "  'toc_items': [],\n",
       "  'tables': [],\n",
       "  'images': [],\n",
       "  'graphics': [],\n",
       "  'text': '# HUMAN RESOURCES, CAPABILITIES\\n\\n AND SUSTAINABILITY\\n\\n#### Proposal Identification Number: 105\\n\\n London School of Economics\\n\\n\\n-----\\n\\n',\n",
       "  'words': []},\n",
       " {'metadata': {'format': 'PDF 1.3',\n",
       "   'title': '105.PDF',\n",
       "   'author': 'Administrateur',\n",
       "   'subject': '',\n",
       "   'keywords': '',\n",
       "   'creator': 'Microsoft Word',\n",
       "   'producer': 'Acrobat PDFWriter 4.05 pour Windows NT',\n",
       "   'creationDate': 'D:20001031105752Z',\n",
       "   'modDate': \"D:20080523233534+02'00'\",\n",
       "   'trapped': '',\n",
       "   'encryption': None,\n",
       "   'file_path': 'sources_pdf\\\\Documentation Ecoskills RH\\\\Littérature pour les modèles\\\\Littérature académique\\\\2000gollan038.pdf',\n",
       "   'page_count': 21,\n",
       "   'page': 3},\n",
       "  'toc_items': [],\n",
       "  'tables': [],\n",
       "  'images': [],\n",
       "  'graphics': [],\n",
       "  'text': '#### HUMAN RESOURCES, CAPABILITIES AND SUSTAINABILITY\\n\\n Abstract\\n\\n This paper will outline a number of issues for organisations to consider when\\n\\n pursuing sustainable human resource outcomes in the workplace. Those outcomes which\\n\\n reinforce corporate profitability and corporate survival, and those that satisfy employee\\n\\n aspirations and needs in the workplace. The paper suggests that developments in human\\n\\n resource management (HRM) in recent years have shifted the emphasis away from human\\n\\n management to a new focus on resource management. It argues that the needs, potential\\n\\n and aspirations of individuals must take centre stage in the workplace. If employers do not\\n\\n bridge the current gap between their rhetoric and workplace reality, then the likely\\n\\n outcome will be an exodus of bright and enthusiastic people to organisations that do. For\\n\\n true corporate sustainability, an organisation must recognise, value and promote the\\n\\n capability of its people. The paper also examines and provides evidence of the link between\\n\\n workplace effectiveness and humanistic work structures in organisations and shows how\\n\\n reinforcing this link increases productivity and profits. Importantly, the paper suggests that\\n\\n for human resource sustainability to be achieved, the HR policies and practices need to be\\n\\n integrated for sustained business performance and positive employee outcomes of equity,\\n\\n development and well-being.\\n\\n\\n-----\\n\\n',\n",
       "  'words': []},\n",
       " {'metadata': {'format': 'PDF 1.3',\n",
       "   'title': '105.PDF',\n",
       "   'author': 'Administrateur',\n",
       "   'subject': '',\n",
       "   'keywords': '',\n",
       "   'creator': 'Microsoft Word',\n",
       "   'producer': 'Acrobat PDFWriter 4.05 pour Windows NT',\n",
       "   'creationDate': 'D:20001031105752Z',\n",
       "   'modDate': \"D:20080523233534+02'00'\",\n",
       "   'trapped': '',\n",
       "   'encryption': None,\n",
       "   'file_path': 'sources_pdf\\\\Documentation Ecoskills RH\\\\Littérature pour les modèles\\\\Littérature académique\\\\2000gollan038.pdf',\n",
       "   'page_count': 21,\n",
       "   'page': 4},\n",
       "  'toc_items': [],\n",
       "  'tables': [],\n",
       "  'images': [],\n",
       "  'graphics': [],\n",
       "  'text': '#### Key Words: HR Sustainability; Corporate Sustainability; Productivity; Profits; HR\\n\\n policies; Equity; Humanistic Work Structures; Workplace Effectiveness; Employee\\n\\n Participation; Human Resource Management.\\n\\n\\n-----\\n\\n',\n",
       "  'words': []},\n",
       " {'metadata': {'format': 'PDF 1.3',\n",
       "   'title': '105.PDF',\n",
       "   'author': 'Administrateur',\n",
       "   'subject': '',\n",
       "   'keywords': '',\n",
       "   'creator': 'Microsoft Word',\n",
       "   'producer': 'Acrobat PDFWriter 4.05 pour Windows NT',\n",
       "   'creationDate': 'D:20001031105752Z',\n",
       "   'modDate': \"D:20080523233534+02'00'\",\n",
       "   'trapped': '',\n",
       "   'encryption': None,\n",
       "   'file_path': 'sources_pdf\\\\Documentation Ecoskills RH\\\\Littérature pour les modèles\\\\Littérature académique\\\\2000gollan038.pdf',\n",
       "   'page_count': 21,\n",
       "   'page': 5},\n",
       "  'toc_items': [],\n",
       "  'tables': [],\n",
       "  'images': [],\n",
       "  'graphics': [],\n",
       "  'text': '**Introduction**\\n\\n_Recognizing our responsibilities as industrialists, we will devote ourselves to the_\\n_progress and development of society and the well-being of people through our business_\\n_activities, thereby enhancing the quality of life throughout the world._\\n(Matsushita’s Basic Management Objective, formulated in 1929 by the company’s founder,\\nKonosuke Matsushita)\\n\\nAn article in a prominent UK management magazine _Management Today highlighted the problem_\\nconfronting many companies. It argued \"years of corporate lip service to the importance of people are finally\\ncatching up. Payment is now due in full, and in kind: for once you have rationalised and reorganised\\neverything else, people really are the only asset\" (Management Today, November 1995). Failure to\\ncomprehend the truth of this statement has been reflected in recent years in significant job losses and\\nincreases in long-term unemployment.\\n\\nHowever, with a growing emphasis on customised-quality consciousness in world business and\\nincreased use of new technologies, a new form of worker has emerged from the cost-cutting and down-sizing\\nregime of the 1980s and 1990s. These new workers are often labelled as ‘knowledge workers’ and they possess\\ncertain key characteristics: they are highly skilled, qualified, trained and experienced in new and growing areas\\nof business. In essence, they can be defined as workers who deal with a high degree of complexity and\\nuncertainty which requires a high degree of judgment (De Lacy, 1999). In the new knowledge-based society of\\nthe 1990s the notion of commitment has also been redefined: the maintenance of intellectual capital or the\\n‘corporate memory’ is now seen as dependent on employee commitment and satisfaction. The intellectual\\ncapital of organisations is the knowledge, experience and ideas of employees which management attempts to\\ncodify and formalise to produce greater organisational value. Kennedy (2000) has argued that corporations are\\n‘at the crossroads’ and the future lies in corporations having sustainable strategies towards human resources.\\n\\nHowever, the cost-cutting regime associated with many organisational change strategies of the 80’s\\nand 90’s has resulted in the breakdown of the old employment relationships. In a world where loyalty and\\ncommitment are no longer seen to be rewarded, those individuals who have increased their marketability and\\nemployability, are taking control of their own future. As a result many managers have to come to terms with a\\nnew employment relationship based on a contingent or temporary contractual culture which they helped to\\ncreate by advocating short-term financial objectives. This has reinforced the importance and value of building\\ncorporate human capability and ensuring long-term sustainability in the new employment relationship.\\n\\nThis paper will outline a number of issues for organisations to consider when pursuing sustainable\\nhuman resource outcomes in the workplace. Those outcomes which reinforce corporate profitability and\\ncorporate survival, and those that satisfy employee aspirations and needs in the workplace. The paper\\nsuggests that developments in human resource management (HRM) in recent years have shifted the emphasis\\naway from human management to a new focus on resource management. It argues that the needs, potential and\\naspirations of individuals must take centre stage in the workplace. If employers do not bridge the current gap\\nbetween their rhetoric and workplace reality, then the likely outcome will be an exodus of bright and\\nenthusiastic people to organisations that do. For true corporate sustainability, an organisation must recognise,\\nvalue and promote the capability of its people, emphasising long-term aims rather then short-term financial\\nrewards. The paper also examines and provides evidence of the link between workplace effectiveness and\\nhumanistic work structures in organisations and shows how reinforcing this link increases future productivity\\nand profits.\\n\\n\\n-----\\n\\n',\n",
       "  'words': []},\n",
       " {'metadata': {'format': 'PDF 1.3',\n",
       "   'title': '105.PDF',\n",
       "   'author': 'Administrateur',\n",
       "   'subject': '',\n",
       "   'keywords': '',\n",
       "   'creator': 'Microsoft Word',\n",
       "   'producer': 'Acrobat PDFWriter 4.05 pour Windows NT',\n",
       "   'creationDate': 'D:20001031105752Z',\n",
       "   'modDate': \"D:20080523233534+02'00'\",\n",
       "   'trapped': '',\n",
       "   'encryption': None,\n",
       "   'file_path': 'sources_pdf\\\\Documentation Ecoskills RH\\\\Littérature pour les modèles\\\\Littérature académique\\\\2000gollan038.pdf',\n",
       "   'page_count': 21,\n",
       "   'page': 6},\n",
       "  'toc_items': [],\n",
       "  'tables': [],\n",
       "  'images': [],\n",
       "  'graphics': [],\n",
       "  'text': \"The paper we address the following key questions: How do organisations currently utilise and apply human\\nresources? How do organisations deteriorate or renew these resources and what are the implications of such\\napproaches for employers and their employees? How can we redefine the ways organisations use their human\\nresources in order to ensure human sustainability? To what extent do corporations need to exercise social\\nresponsibility as well as economic responsibility? How can employers balance the interests of different\\nstakeholders in organisations while maintaining a sustainable work environment for employees?\\n\\n**The state of play**\\n\\nCareers as we have traditionally known them no longer exist. They were predicated on progression\\nthrough an organisational hierarchy, by seniority and/or merit and on security of employment. Instead careers\\nare now becoming self-managed. Individuals assess their own worth and think strategically about placing\\nthemselves in the best possible employment position, acting as their own agent in an competitive, marketdriven environment. This being so, companies are suddenly finding themselves in a position where much of\\nthe management skeleton that held the edifice together and the cultural ‘oil’ of loyalty that enabled this\\nmachine to function smoothly have largely disappeared. The market liberalism often espoused by many\\nmanagement gurus has entered the internal domain of organisations and individuals, where market-driven\\npremiums are paid to motivate formerly committed and loyal employees. As Studs Terkel has suggested ‘the\\nworker has become a robot and is as dispensable as Kleenex’ (Christy,1998:8), consequently the employment\\nrelationship is reduced to a financial contract.\\n\\nAt the same time, new management philosophies stress that workers should be seen as empowered\\nmembers of firms rather than antagonists in a confrontation between capital and labour. This view of the world\\nalso stresses that firms are social organisations embedded in a complex skein of rights and obligations, and if\\nemployees are reduced to commodities to be bought and sold on the stock market, that undermines the trust\\nand reciprocity of obligation on which a long-term positive relationship between management and worker\\nthrive (Guardian Weekly, January 28, 1996).\\n\\nSome employees, and indeed what remains of middle management, may counter such schizoid\\ndemands with indifference or cynicism. Nevertheless the effect of such demands is likely to be the\\nentrenchment of 'low-trust' employment relations where employees feel they are only a cog in a machine simply a necessary component in the return on investment equation. With their expectations lowered, a more\\nunforgiving mentality begins to emerge.\\n\\nTo reinforce the point, the 1997 Towers Perrin Workplace Index surveyed 2,500 people employed in\\nlarge private sector US organisations with more than 500 employees. The evidence from the survey suggests\\nthat employees accept personal responsibility for maintaining skills and applying those skills in the areas most\\ncritical to profitable growth. However they are only willing to do this in return for training, participation, career\\ndevelopment and continuing employment. However, they are increasingly sceptical that organisations are\\nliving up to these obligations. The study suggests that this is beginning to erode employees’ faith in\\nmanagement. The study states, ‘when employees doubt there is reciprocity and fairness, their work ethic and\\nmotivation appear to suffer. Thus, over time, negative feelings about the company will erode positive feelings\\nabout work itself. And that, in turn, can adversely affect productivity and performance’ (Towers Perrin,1997:7).\\nFor example, employees who feel they can have a full career with their company are far more motivated to\\ncontribute, with 91 per cent stating that they are motivated to help their company succeed, compared to just 48\\nper cent who do not see a future with the company (Towers Perrin,1997:19).\\n\\nThe danger for organisations is that power and knowledge is now invested in more people outside\\nthe traditional confines of the management hierarchy. Corporate knowledge and experience, the strategic\\ncompetitive advantage in most organisations, is now located at the lower levels of the organisation in a great\\nmany more people. In successful organisations today, such as Microsoft and Netscape, almost all of their\\n\\n\\n-----\\n\\n\",\n",
       "  'words': []},\n",
       " {'metadata': {'format': 'PDF 1.3',\n",
       "   'title': '105.PDF',\n",
       "   'author': 'Administrateur',\n",
       "   'subject': '',\n",
       "   'keywords': '',\n",
       "   'creator': 'Microsoft Word',\n",
       "   'producer': 'Acrobat PDFWriter 4.05 pour Windows NT',\n",
       "   'creationDate': 'D:20001031105752Z',\n",
       "   'modDate': \"D:20080523233534+02'00'\",\n",
       "   'trapped': '',\n",
       "   'encryption': None,\n",
       "   'file_path': 'sources_pdf\\\\Documentation Ecoskills RH\\\\Littérature pour les modèles\\\\Littérature académique\\\\2000gollan038.pdf',\n",
       "   'page_count': 21,\n",
       "   'page': 7},\n",
       "  'toc_items': [],\n",
       "  'tables': [],\n",
       "  'images': [],\n",
       "  'graphics': [],\n",
       "  'text': \"assets are people. For example, of Microsoft's market valuation of $85 billion (US) at the end of 1996, less than\\n$1 billion was made up of physical assets. The rest of the assets walk out of the front door each evening.\\nCharles Handy has added to the debate by suggesting that on average the intellectual assets of most\\norganisations are usually worth three or four times tangible book value (Stewart,1994:35). It is vital for\\norganisations need to understand that employees have the knowledge that is essential for the organisation's\\nsuccess, and so have the potential to shift the balance of power away from management and back to\\nthemselves. To understand these developments the next section identifies the influences on human resource\\nsustainability, suggesting that a number of factors are important for organisations in implementing a more\\nsustainable approach.\\n\\n**Human resource sustainability**\\n\\nThe debate of human resource sustainability has been advocated by a number of commentators\\n(Dunphy and Griffiths, 1998; Pears, 1998; Sennett, 1998). They argue that there is a crisis facing the\\nmanagement of human resources with staff turnover increasing, loyalty declining, stress levels rising and\\nproductivity growth diminishing. As Pears (1998) states, ‘Managers confront the challenge of aligning the\\ninterests and needs of their business with those of their most valuable resource, their staff, so that business\\nsuccess can be achieved and maintained’. They see this challenge as human sustainability.\\n\\nIn particular, they see human sustainability as a shift in focus from short-term corporate survival to\\nlong-term business success. This requires a shift in criteria from short term financial profit to more broadly\\ndefined long term returns. This involves changes in structures, operation, priorities and values which firms\\npromote with a clear focus on the context within which a business operates recognising a fundamental\\nrequirement for long term business success (Pears, 1998).\\n\\nDunphy and Griffiths (1998) have developed this thesis further by suggesting that this involves\\ncontinuous ongoing investment in acquiring knowledge and skills. This they say requires a fundamentally\\ndifferent approach in leading and managing firms. In particular, organisational competencies are needed for\\nsustained corporate success that can be systematically developed. These include: strategically building a\\ncorporate knowledge and skills base; fostering productive diversity and building human potential; and\\ncreating communities knowledge in organisations and developing competencies for continuous corporate\\nrenewal (Dunphy and Griffiths, 1998). They argue this focus on investing in people rather than divesting them\\nand actively promoting strategies of knowledge creation is the most viable path to sustaining societies\\ncorporate and economic life (Dunphy and Griffiths, 1998:168-170).\\n\\nFigure 1 below represents the major factors, influences and outcomes of human resource\\nsustainability in organisations. While not intending to be exhaustive, it identifies five major factors in the\\ndebate about human resource sustainability. Essentially, the model defines human resources sustainability in\\nterms of capacity of organisations to create value in their organisations thereby having the ability and capacity\\nto regenerate value and renew wealth through the application human resource policies and practices. This will\\nentail investment in human knowledge through continuous learning, and the application and development of\\nsuch knowledge through employee participation and involvement. In addition, model identifies four main\\ndrivers for organisations trying to achieve corporate human resource sustainability and examines their impact\\non employee satisfaction and commitment and on the traditional organisational objectives of increased\\nproductivity and profits. Importantly, the model suggests that for human resource sustainability to be\\nachieved, the HR policies and practices need to be integrated for sustained business performance and positive\\nemployee outcomes of equity, development and well-being.\\n\\nFigure 1\\n\\n\\n-----\\n\\n\",\n",
       "  'words': []},\n",
       " {'metadata': {'format': 'PDF 1.3',\n",
       "   'title': '105.PDF',\n",
       "   'author': 'Administrateur',\n",
       "   'subject': '',\n",
       "   'keywords': '',\n",
       "   'creator': 'Microsoft Word',\n",
       "   'producer': 'Acrobat PDFWriter 4.05 pour Windows NT',\n",
       "   'creationDate': 'D:20001031105752Z',\n",
       "   'modDate': \"D:20080523233534+02'00'\",\n",
       "   'trapped': '',\n",
       "   'encryption': None,\n",
       "   'file_path': 'sources_pdf\\\\Documentation Ecoskills RH\\\\Littérature pour les modèles\\\\Littérature académique\\\\2000gollan038.pdf',\n",
       "   'page_count': 21,\n",
       "   'page': 8},\n",
       "  'toc_items': [],\n",
       "  'tables': [],\n",
       "  'images': [],\n",
       "  'graphics': [],\n",
       "  'text': \"**Factors and influences in human resource sustainability – A integrated approach**\\n\\nINSERT FIGURE 1 ABOUT HERE\\n\\n**Building Corporate Capabilities - Career development and organisational learning**\\n\\nIn recent years many organisations have focused almost exclusively on cost-cutting measures. In the\\nprocess they have diminished their most vital resource the key skills of their employees which are so critical in\\na competitive environment. One of the greatest difficulties faced by human resource and personnel managers\\nis to demonstrate to an organisation's decision-makers, especially in times of cost-cutting and downsizing, the\\neconomic benefits and the real added value of training employees and building corporate human resource\\ncapabilities.\\n\\nIn this regard, recent US and European studies have shown a strong link between a company's\\ninvestment in its employees and stockmarket performance and profits. Evidence from a American Management\\nAssociation (AMA) (1996) survey of more than 1,000 large and medium-sized US companies paints a different\\npicture of companies that increase their training budgets at the same time as trimming their workforce. It is\\nsuggested that these companies are creating new environments to respond to new business conditions. The\\nAMA survey highlighted a remarkably strong correlation between increased training budgets and larger\\nprofits and productivity flowing from workforce reductions.\\n\\nOver the long term, firms that increased their training budgets after workforce reductions were 75 per\\ncent more likely to show increased profits and nearly twice as likely to improve worker productivity than firms\\nthat had cut their training expenses. However, only 32 per cent of companies cutting jobs since 1990 reported a\\nlong-term increase in training budgets. A recent OECD (1999) report also argues that higher training rates have\\nbeing associated with higher levels of education, productivity and wages.\\n\\nHowever, most compelling is the evidence from 100 German companies which reveals a strong link\\nbetween investment in employees and stockmarket performance (Bilmes, Wetzker and Xhonneux,1997). The\\nBoston Consulting Group research team undertaking the study found that companies which build employee\\ncapacity at the core of their strategies produced higher long-term returns to shareholders than their industry\\npeers. Significantly, the study found that the shares of companies that focus resources on the development of\\ntheir workforce, outperform competitors who give human resources a low priority. The research examined ten\\nindustrial sectors over a seven-year period from 1987 to 1994 (Bilmes, Wetzker and Xhonneux,1997).\\n\\nIn every industry examined by the researchers, those companies produced a greater total shareholder\\nreturn (TSR) than their competitors also scored most highly on such measures as: expenditure per employee;\\ncontribution of employees as reflected in mission statements; recruitment; performance evaluation and\\nfeedback; promotion opportunities; flexible work hours; prevalence of teams; opportunities to learn skills; and\\nfinally the extent to which employees share in company performance through profit-sharing; performance pay\\nand bonus. The TSR is the sum of share price increases and dividends over a given period. The researchers\\nalso reviewed a shorter four-year period. This also confirmed that the degree to which a company invests in\\npeople is a good predictor of stockmarket success. Interestingly, the study found that these companies also\\ncreated the most jobs, with three-quarters of the companies with above average TSR producing a net increase\\nin jobs (Bilmes, Wetzker and Xhonneux,1997). It seems that these policies are not only good for the company,\\nthey are also good for society as a whole.\\n\\n**Getting the balance right**\\n\\nAnother consideration for organisations trying to achieve corporate sustainability is getting the\\nbalance right between work and life outside work. Today many workers who have jobs are working long hours,\\n\\n\\n-----\\n\\n\",\n",
       "  'words': []},\n",
       " {'metadata': {'format': 'PDF 1.3',\n",
       "   'title': '105.PDF',\n",
       "   'author': 'Administrateur',\n",
       "   'subject': '',\n",
       "   'keywords': '',\n",
       "   'creator': 'Microsoft Word',\n",
       "   'producer': 'Acrobat PDFWriter 4.05 pour Windows NT',\n",
       "   'creationDate': 'D:20001031105752Z',\n",
       "   'modDate': \"D:20080523233534+02'00'\",\n",
       "   'trapped': '',\n",
       "   'encryption': None,\n",
       "   'file_path': 'sources_pdf\\\\Documentation Ecoskills RH\\\\Littérature pour les modèles\\\\Littérature académique\\\\2000gollan038.pdf',\n",
       "   'page_count': 21,\n",
       "   'page': 9},\n",
       "  'toc_items': [],\n",
       "  'tables': [],\n",
       "  'images': [],\n",
       "  'graphics': [],\n",
       "  'text': 'with an increasing number of employees working more than 48 hours a week. However, as the trend to work\\nlonger and harder continues among the generation that has discovered the meaning of downsizing, it should\\nnot be surprising that a new generation is developing different attitudes to work.\\n\\nThere is evidence of the emergence of a new \"get-a-life\" generation in a 1996 survey. This survey\\ncovered more than 1,200 business students from 30 of the world\\'s leading universities in 10 countries,\\nincluding Australia and was carried out for accountants Coopers & Lybrand in 1996 by Universum\\nInternational (1996), a Swedish-based research organisation. The overwhelming conclusion from the study was\\nthat this new generation of future managers is demanding a more balanced lifestyle and a rewarding life\\noutside of work.\\n\\nWhen asked about their future career goals, the students considered a balanced lifestyle, financial\\nrewards, and a challenging international career as their most important priorities. In fact, 45 per cent of the\\nstudents surveyed named a balanced lifestyle and a rewarding life outside of work as one of the top three\\npriorities (Universum International, 1996).\\n\\nWhen choosing their first employer, the number-one priority was the ability to achieve a balanced\\nlifestyle. Long-term employment security was low on the list of aspects important to these students. Again,\\nwhen asked about future life priorities, the theme was reinforced, with personal development and growth, a\\ncareer, spending time with close friends and relatives, and building a family being most important. In yet\\nanother key finding, over 70 per cent of students strongly disagreed with the notion that a person\\'s career is\\nmore important than personal and family relationships (Universum International, 1996).\\n\\nAnother survey of 1,000 young professionals in 73 countries found that 40 per cent planned to leave\\ntheir existing employer within two years. The survey uncovered widespread disappointment at the dearth of\\ncompany investment in their personal development with many considering starting their own business\\n(Donkin,1999:19). This finding was further reinforced when the survey revealed that 41 per cent of respondents\\nwould value more choice over working hours with many wanting to spend more time with friends and family\\nand slow down enough to keep healthy and balanced (Donkin,1999:19). Moreover, a study conducted by\\nGemini Consulting of 10,300 employees in 10 countries found that only 27 per cent of those surveyed felt their\\norganisations were preparing them for successful futures. As a consequence 44 per cent of respondents said\\nthey would leave their jobs tomorrow for a job that would provide them more opportunity for advancement\\n(Gemini Consulting,1998:13).\\n\\nOne company that has recognised this situation and is developing policies to handle it is the UK\\nbank Lloyds TSB. As part of its drive to instil leadership and trust in the organisation, it introduced a number\\nof initiatives to make employees’ lives more manageable and to help change the culture of long hours\\n(Maitland,1999). It has nearly 17,000 employees working flexible or reduced hours. In fact employees no longer\\nhave to explain to their managers why they want to change their working hours. A decision is made purely on\\nwhether it makes business sense. The company has set a target of 25 per cent of its workforce, senior\\nmanagers as well as junior employees, to be working flexible hours compared to some 22 per cent currently.\\nSignificantly, the new procedures allow employees to choose from a range of options, including; job-sharing,\\nreduced hours, a compressed working week (four days instead of five), variable starting and finishing times,\\nand working from home one to three days a week. The only prerequisite is that those seeking these conditions\\nmust explain how they will fulfil their duties and how colleagues and customers will be affected. The drivers for\\nthe initiatives were increasing competition and the requirement for 24-hour banking in many operations. As\\nsuch the bank needed to attract and retain employees, 66 per cent of whom are female. They noted also that\\nbefore the changes were introduced, some 15 per cent of staff taking maternity leave do not return to the bank.\\nThe estimated cost of recruiting and training a junior employee can be £10,000. As the head of the Equal\\nOpportunity function suggested, ‘Everybody has a life outside work, whatever it might be’ (Maitland,1999).\\n\\n\\n-----\\n\\n',\n",
       "  'words': []},\n",
       " {'metadata': {'format': 'PDF 1.3',\n",
       "   'title': '105.PDF',\n",
       "   'author': 'Administrateur',\n",
       "   'subject': '',\n",
       "   'keywords': '',\n",
       "   'creator': 'Microsoft Word',\n",
       "   'producer': 'Acrobat PDFWriter 4.05 pour Windows NT',\n",
       "   'creationDate': 'D:20001031105752Z',\n",
       "   'modDate': \"D:20080523233534+02'00'\",\n",
       "   'trapped': '',\n",
       "   'encryption': None,\n",
       "   'file_path': 'sources_pdf\\\\Documentation Ecoskills RH\\\\Littérature pour les modèles\\\\Littérature académique\\\\2000gollan038.pdf',\n",
       "   'page_count': 21,\n",
       "   'page': 10},\n",
       "  'toc_items': [],\n",
       "  'tables': [],\n",
       "  'images': [],\n",
       "  'graphics': [],\n",
       "  'text': 'To reinforce the importance of achieving a work and life balance, a study on the quality of working\\nlife (Worrell and Cooper, 1998) of over 1,300 managers found nearly 60 per cent indicated that long hours were\\nhaving a negative impact on their health. Just over 70 per cent said it affected their relationship with their\\npartner and encroached on the time spent with their children, and some 55 per cent of managers suggested that\\nit made them less productive at work. In addition, over half of the respondents felt a sense of ‘powerlessness’\\nand lack of control in their work environment, with less than one in five respondents agreeing that they had\\nenough time to fulfil the requirements of their job. When respondents to the survey were asked what one piece\\nof advice they would give to top management of their organisation, 40 per cent of comments referred to the\\npoverty of organisational communication and consultation strategies. The second most important piece of\\nadvice identified was for the organisation to value and appreciate employees as the organisation’s most\\nimportant assets (Worrell and Cooper, 1998).\\n\\nA study by the International Centre for Health and Society at University College London has\\nsuggested that the lack of control at work and job insecurity has contributed to ill-health, disease and\\nmortality. The study highlighted that the lack of control at work was the single largest contributing factor to\\ndisease incidence, more important than smoking, diet or obesity. In addition, the study indicated that labour\\nmarket deregulation and other social policies needed to be reassessed in light of evidence that workplace\\nchange had a negative psychological impact, especially when work practices gave them little or no input into\\nthe content of work and flexibility (Long, 1999).\\n\\nJulie Macken (1999) from the Australian Financial Review has highlighted the dilemma facing many\\norganisations caused by the transition from the manufacturing age to knowledge and information, where the\\nbrain cannot function at an optimal level for eight to ten hours a day. Macken cites the example of HewlettPackard which had in 1997 an attrition rate of 20 per cent. More than half of the employees surveyed said that\\nthey experienced excessive work pressure. As a consequence Hewlett-Packard introduced policies to reduce\\nand redesign workloads, encouraged employees to set goals for leisure, discouraged working on weekends\\nand holidays, and introduced a 40-hour week. It was suggested that this has improved retention rates and\\nattracted high potential recruits (Macken,1999).\\n\\nThese findings also highlight the need for businesses to take account of other, non-financial factors\\nwhen attracting and retaining people in their organisations. Only by acknowledging the importance of work\\nand family, and of the need for personal and social networks outside work, will organisations be able to attract\\nand retain competent and committed employees.\\n\\n**The institutions for a sustainable future**\\n\\nThe real question arising from this evidence is whether there can be any real progress towards\\ncorporate sustainability without a fundamental overhaul of the structures that underpin existing institutions\\nand systems of employment. A recent report by Valerie Bayliss (1996) of the Royal Society for the Arts may\\nhold some clues. The RSA’s report challenges traditional assumptions and calls for the dismantling of\\nemployment structures and education systems which have supported the traditional working model of a ‘40/40\\njob’. This model assumes that people (mostly men) work 40 hours a week for 40 years. The report suggests\\nthat this outdated model was based on the growth of public administration in the 1930s and mass production\\nin factories, supported by the concept of the job for life in the same organisation. The problem, as identified in\\nRSA report, is that if people work less than 40 hours (or in some cases 35 hours) they are described as ‘parttimers’, peripheral and in fundamentally insecure employment relative to the main ‘core’ full-time workforce.\\n\\nAs the RSA report states, there are unlikely to be enough paid permanent full-time jobs to go around\\n(Bayliss, 1996). The paradigms have changed, from where a majority of people will be employed in 40/40 jobs to\\nwhere a majority of people will be working flexible hours in the temporary labour market. People themselves will\\nbe responsible for their working patterns, their education and training and redefining their own work.\\n\\n\\n-----\\n\\n',\n",
       "  'words': []},\n",
       " {'metadata': {'format': 'PDF 1.3',\n",
       "   'title': '105.PDF',\n",
       "   'author': 'Administrateur',\n",
       "   'subject': '',\n",
       "   'keywords': '',\n",
       "   'creator': 'Microsoft Word',\n",
       "   'producer': 'Acrobat PDFWriter 4.05 pour Windows NT',\n",
       "   'creationDate': 'D:20001031105752Z',\n",
       "   'modDate': \"D:20080523233534+02'00'\",\n",
       "   'trapped': '',\n",
       "   'encryption': None,\n",
       "   'file_path': 'sources_pdf\\\\Documentation Ecoskills RH\\\\Littérature pour les modèles\\\\Littérature académique\\\\2000gollan038.pdf',\n",
       "   'page_count': 21,\n",
       "   'page': 11},\n",
       "  'toc_items': [],\n",
       "  'tables': [{'bbox': (79.80000305175781,\n",
       "     373.78125,\n",
       "     532.2000122070312,\n",
       "     652.96875),\n",
       "    'rows': 4,\n",
       "    'columns': 3}],\n",
       "  'images': [],\n",
       "  'graphics': [],\n",
       "  'text': 'The report addresses five important issues for HR sustainability. Can the economy generate a\\nconsistently high supply of employment opportunities, however they are structured? Can the intermediate\\nlabour market develop and maintain opportunities for all those who need it? Do the nation’s education and\\ntraining systems meet the needs for a sophisticated and competent society? Does the country’s infrastructure\\nsupport people in and out of work, and match the needs of the new world rather than the old? Do individuals\\nrecognise their responsibility to develop their own employability, and is the right support available to assist\\nand encourage them? (Bayliss, 1996).\\n\\nAn Australian report by Gollan, Pickersgill and Sullivan (1996) highlights the increasing acute socioeconomic polarisation between the highly skilled and the poorly skilled. Those that are highly skilled will be\\nincreasingly overworked and working long and anti-social hours, while the poorly skilled will be either\\nunemployable or have their wages driven down to a point that renders them the ‘working poor’ or a\\n‘ghettoised’ worker. There will be an industrial relations system that offers few substantive protections for\\nthose that are in work, and a social security system that does not adjust to the change in working time\\narrangements and so creates inequitable outcomes for citizens, thus eroding the social fabric and well being of\\nsociety as a whole (Table 1) (also see ACIRRT, 1999). This will produce a society where the social dislocation\\nand hostility we are now seeing will intensify, with the prospect of ‘two nations’ emerging within society. The\\ndanger has been highlighted in a recent editorial in the _Harvard Business Review (1999:8) where it is even_\\nfeared that knowledge workers will walk away from deep involvement with society as whole. After all many of\\nthese workers already live in privately policed communities and send their children to private schools.\\n\\n**Table 1 – Characteristics of the polarised workforce**\\n\\nWorkforce The ‘ghettoised’ working poor The knowledge ‘gold collar’\\nworker\\nSocial - Social security benefits - High labour market\\n\\n                 - Working poor opportunities\\n\\n                 - Income assistance                  - Affluent family structure\\n\\n                 - Declining real incomes                  - Private home ownership\\n\\n                 - Government social housing                  - High quality private education\\n\\n                 - Low quality education\\n\\nOrganisation - Tayorist job design - Internal labour market\\n\\n                 - Cost driven agenda                  - Global career horizons and\\n\\n                 - Limited training and career advancement\\ndevelopment                   - IT, education, publishing,\\n\\n                 - No control over work banking and finance\\n\\n                 - Strict workplace supervision industries\\n\\n                 - Casual, temporary or part-time                  - Teamwork and multi-skilling\\nemployment                  - Empowered\\n\\n                 - Service and retail sectors\\n\\nIndividual - Limited workplace mobility - Highly mobile\\n\\n                 - Limited education                  - Highly educated and skilled\\n\\n                 - Non-English speaking                  - Highly paid elite\\n\\n                 - Low paid                  - Employability and secure\\n\\n                 - Job insecurity employment\\n\\n                 - Regular unemployment\\n\\nA OECD (1999) report also highlighted the challenge of reconciling job security for workers with the\\nneed of organisational flexibility. The report suggests that, while countries have concentrated in the 1990s on\\neasing restrictions for temporary forms of employment to increase the degree of flexibility and thus the creation\\n\\n|Workforce|The ‘ghettoised’ working poor|The knowledge ‘gold collar’ worker|\\n|---|---|---|\\n|Social|• Social security benefits • Working poor • Income assistance • Declining real incomes • Government social housing • Low quality education|• High labour market opportunities • Affluent family structure • Private home ownership • High quality private education|\\n|Organisation|• Tayorist job design • Cost driven agenda • Limited training and career development • No control over work • Strict workplace supervision • Casual, temporary or part-time employment • Service and retail sectors|• Internal labour market • Global career horizons and advancement • IT, education, publishing, banking and finance industries • Teamwork and multi-skilling • Empowered|\\n|Individual|• Limited workplace mobility • Limited education • Non-English speaking • Low paid • Job insecurity • Regular unemployment|• Highly mobile • Highly educated and skilled • Highly paid elite • Employability and secure employment|\\n\\n\\n-----\\n\\n',\n",
       "  'words': []},\n",
       " {'metadata': {'format': 'PDF 1.3',\n",
       "   'title': '105.PDF',\n",
       "   'author': 'Administrateur',\n",
       "   'subject': '',\n",
       "   'keywords': '',\n",
       "   'creator': 'Microsoft Word',\n",
       "   'producer': 'Acrobat PDFWriter 4.05 pour Windows NT',\n",
       "   'creationDate': 'D:20001031105752Z',\n",
       "   'modDate': \"D:20080523233534+02'00'\",\n",
       "   'trapped': '',\n",
       "   'encryption': None,\n",
       "   'file_path': 'sources_pdf\\\\Documentation Ecoskills RH\\\\Littérature pour les modèles\\\\Littérature académique\\\\2000gollan038.pdf',\n",
       "   'page_count': 21,\n",
       "   'page': 12},\n",
       "  'toc_items': [],\n",
       "  'tables': [],\n",
       "  'images': [],\n",
       "  'graphics': [],\n",
       "  'text': 'of employment, this link is not particularly strong. In fact the report suggests that the risk of becoming\\nunemployed is lower in countries with stricter regulation through employment protection legislation. However\\nonce unemployed there is a greater risk of remaining unemployed for an extended period of time. In other\\nwords, the report argues that employment regulation produces more stable jobs, less labour turnover and\\nfewer unemployed. Conversely the lack of employment regulation and training may intensify existing\\ninequalities in the labor market.\\n\\nSome organisations have acknowledged these concerns and have introduced volunteer programs in\\nwhich employees help the less fortunate in society. Such initiatives reflect a shift in corporate attitudes\\ntowards the community. For example, Royal Mail and Whitbread brewing have introduced community action\\nprograms. Royal Mail suggests that it is good for business because volunteering helps personnel\\ndevelopment, especially in morale, motivation and working with other people, and in the introduction and\\ndeployment of new skills (Slavin,1999:16). Such actions, however, may ameliorate the social distress caused by\\ncurrent trends in employment but will not eliminate it.\\n\\nOther organisations have introduced ‘social reporting’ where companies solicit the opinions and\\nviews of employees, suppliers, customers and the communities in which they operate (Slavin,1999:16). A\\nsurvey of the UKs FTSE 100 companies found that 79 reported on social and community issues. As an\\nexample, PricewaterhouseCoopers and KPMG undertake independent audits of their social performance. As\\nTerry Slavin has suggested, for companies, ‘one of the biggest motivations for the new trend is in enhancing\\ntheir reputations at a time when it has never been more difficult to recruit – and retain – good graduates’\\n(Slavin,1999:16). In addition, Slavin suggests that social reporting opens up new channels of communication\\nwith employees with the objective of enhancing two-way communication and thus high levels of trust building\\nloyalty and commitment (Slavin,1999:16).\\n\\n**Human resource sustainability and the bottom line**\\n\\nTo build a company that is profitable and will live long, managers take care to\\ncreate a community. Processes are in place to define membership, establish\\ncommon values, recruit people, develop employees, assess individual potential,\\nlive up to a human contract, and establish policies for graceful exits from the\\ncompany.\\n(Arie de Geus,1997:58)\\n\\nWe often hear from people at the top echelons of business that \"people are our\\ngreatest asset\". In reality, however, despite this rhetoric many organisations seek to cut costs through\\ndownsizing and job enlargement. However, evidence now demonstrates that companies that do invest in\\npeople, rather than just talk about it, show positive financial outcomes.\\n\\nFor example a comprehensive study, Impact of People Management Practices on Business\\nPerformance (Patterson, West, Lawthom and Nickell,1997) in the UK has reconfirmed the importance and\\nlinkage of good people management practices to productivity and profits. The report showed that the\\nmanagement of people had a greater effect on a business\\'s performance than the combined effect of its\\nstrategy, product or service quality, manufacturing technology and expenditure on R&D. The researchers also\\nindicated that satisfaction and organisational commitment explain up to 5 per cent of the difference between\\nthe profitability of companies. These results demonstrate the importance of the relationship between employee\\nattitudes and company performance and as such indicate the more satisfied workers are with their jobs, the\\nbetter the company is likely to perform in terms of profitability and particularly productivity.\\n\\nHowever the study\\'s most important finding was the linkage between \\'good\\' human resource\\nmanagement practices and profitability and productivity. The report suggested that overall, HRM practices (ie.\\n\\n\\n-----\\n\\n',\n",
       "  'words': []},\n",
       " {'metadata': {'format': 'PDF 1.3',\n",
       "   'title': '105.PDF',\n",
       "   'author': 'Administrateur',\n",
       "   'subject': '',\n",
       "   'keywords': '',\n",
       "   'creator': 'Microsoft Word',\n",
       "   'producer': 'Acrobat PDFWriter 4.05 pour Windows NT',\n",
       "   'creationDate': 'D:20001031105752Z',\n",
       "   'modDate': \"D:20080523233534+02'00'\",\n",
       "   'trapped': '',\n",
       "   'encryption': None,\n",
       "   'file_path': 'sources_pdf\\\\Documentation Ecoskills RH\\\\Littérature pour les modèles\\\\Littérature académique\\\\2000gollan038.pdf',\n",
       "   'page_count': 21,\n",
       "   'page': 13},\n",
       "  'toc_items': [],\n",
       "  'tables': [],\n",
       "  'images': [],\n",
       "  'graphics': [],\n",
       "  'text': \"appraisals, training and development, employee involvement and team working etc.) explain 19 per cent of the\\nvariations in profitability and 18 per cent of differences in productivity between companies and within\\norganisations. As the researchers state, this is the most convincing demonstration in the research literature of\\nthe 'link between the management of people and the performance of companies' (Patterson, West, Lawthom\\nand Nickell,1997).\\n\\nA follow up study of 5,000 employees in 42 UK manufacturing companies conducted by Patterson\\nand West (1998:2) also suggest a strong link between employee satisfaction and productivity and profitability.\\nIn fact they indicate that aggregated job satisfaction within a company predicted up to 25 per cent of the\\nvariation between companies in performance and 12 per cent of profitability one year later. They argue that no\\nother factor (such as competitive strategy, technology, market share, Total Quality Management or R&D\\nstrategy) could so effectively predict company performance (Patterson and West,1998:3).\\n\\nSimilar results have been found by the Institute for Employment Studies in the UK (Barber, Hayday\\nand Bevan, 1999; Bevan and Barber, 1999). Their survey of 65,000 employees and 25,000 customers in almost\\n100 retail stores shaved a strong link between employee commitment and customer satisfaction and increased\\nsales. The survey data indicated that a one point increase in employee commitment led to a monthly increase\\nof £200,000 per store.\\n\\nPerhaps the most comprehensive reports of positive statistical relationships between the adoption of\\ndeveloped HR practices and business performance has been developed by Pfeffer (1994; 1998); Huselid (1995);\\nand Huselid and Becker (1996). These studies all suggests that the way in which organisations treat their\\nemployees is at the heart of their success (Pfeffer, 1998). Pfeffer (1998) cities evidence that HR practices can\\nraise shareholder value (ie stock market value) by between $20,000 and $40,000 per employee. In addition, a\\nstudy by Huselid and Becker (1995) emphasises the link between market value and sophistication of HR\\npractices. In particular they suggest that business can achieve above average returns when a wider range of\\npractices are adopted for more employees and when these practices are integrated within the business strategy\\n(Huselid and becker, 1996).\\n\\nHuselid (1995) also suggests that the utilization of a number of HR practices was associated with a\\nlevel of sales revenue that was on average $27,000 per year per employee, and the corresponding increase in\\nshareholder value was $18,500, and profits increased by nearly $4,000 per year per employee (Huselid, 1995).\\nAs Pfeffer (1994, 1998) claims there is powerful evidence to suggest that deploying certain high performance\\nmanagement practices makes bottom line sense (Richard and Thompson, 1999).\\n\\nImportantly, these studies suggests that personnel or HR function should move away from being\\nseen as a peripheral administrative activity and put at the centre of the organisations activities (Richardson\\nand Thompson, 1999).\\n\\n**Human resources, capabilities and sustainability – A way forward**\\n\\nThe future capabilities in the organisation and as a consequence the improvement in performance is\\npremised on the belief that it is necessary to develop a new workplace culture, which emphasises the role of\\nemployees as assets rather than merely as a costly factor of production. Importantly, human sustainability is\\nbased on organisations pursuing an integrated strategy in which employee relations policies are integrated\\ninto all aspects of the organisation's planning and implementation process (Gollan and Davis, 1997). It is\\nimportant that an organisation ‘continuously develops the organisational capabilities to identify and integrate\\nwithin its vision and strategy the conceptual shifts needed to respond to dynamic markets and the operational\\ncapability to deliver’ and enhance performance (Ford,1999:3). Increasingly the financial investors for\\nsuperannuation and pension funds will realise that it is better to invest in companies where employers add\\nvalue to their organisation by adding value to employees.\\n\\n\\n-----\\n\\n\",\n",
       "  'words': []},\n",
       " {'metadata': {'format': 'PDF 1.3',\n",
       "   'title': '105.PDF',\n",
       "   'author': 'Administrateur',\n",
       "   'subject': '',\n",
       "   'keywords': '',\n",
       "   'creator': 'Microsoft Word',\n",
       "   'producer': 'Acrobat PDFWriter 4.05 pour Windows NT',\n",
       "   'creationDate': 'D:20001031105752Z',\n",
       "   'modDate': \"D:20080523233534+02'00'\",\n",
       "   'trapped': '',\n",
       "   'encryption': None,\n",
       "   'file_path': 'sources_pdf\\\\Documentation Ecoskills RH\\\\Littérature pour les modèles\\\\Littérature académique\\\\2000gollan038.pdf',\n",
       "   'page_count': 21,\n",
       "   'page': 14},\n",
       "  'toc_items': [],\n",
       "  'tables': [],\n",
       "  'images': [],\n",
       "  'graphics': [],\n",
       "  'text': 'Figure 2 presents a model of an organisations pursuing a human resource sustainable approach. It\\nemphasises the influence of organisational culture and the impact of the external environment on sustaining\\noutcomes. The model shows that improved performance and productivity are predicated on the need for\\nmanagers to use situational by attuned approaches to ensure that the potential of the organisation is\\ncontributing to desired organisational aims. Thus, there is no one best way for all organisations, only organic\\nprocesses based on situational characteristics which satisfy the aims and objectives for the organisation and\\nits employees in a sustainable way. As Roger Cowe (1999:26) stated, ‘The crucial issue is the value which\\nunderpins how companies go about their business, not whether they get everything ‘right’’.\\n\\nFigure 2\\n\\n**Human resources, capabilities and sustainability – A way forward**\\n\\nINSERT FIGURE 2 ABOUT HERE\\n\\n**The lessons for human resource sustainability**\\n\\nIf employers in advanced economies do not try to bridge the gap between rhetoric of good people\\nmanagement and reality, then the only likely outcome will be an organisation facing an exodus of bright and\\nenthusiastic people. The lessons for organisations are that for true corporate sustainability a recognition and\\nvalue must be placed on the internal human capability of the organisation. In addition, the paper suggests that\\nfor human resource sustainability to be achieved, the HR policies and practices need to be integrated for\\nsustained business performance and positive employee outcomes of equity, development and well-being.\\n\\nIn this process, the role of the human resource function is pivotal to the success of corporate\\nsustainability policies. Dave Ulrich (1998) has suggested four ways which HR can deliver organisational\\nexcellence. First, by the HR function becoming a partner with senior and line managers in strategy\\nimplementation by forming the link between boardroom decisions and the marketplace. Second, by providing\\nrelevant expertise in the way work is organised and executed thus ensuring administrative efficiency. Third,\\nrepresenting employees’ concerns to management while simultaneously giving employees the capacity to\\nincrease their contribution to organisational decision-making. Fourthly, the HR function should be an agent of\\nchange, shaping processes and culture that together improve and enhance an organisation’s capacity for\\nchange (Ulrich, 1998:124-125).\\n\\nImportantly, this requires organisations to take a more holistic and integrated approach to people\\nmanagement. In particular managers need to reassess the role and level of the HR function, specifically its role\\nin persuading organisations to adopt practices that support a sustainable approach (Hunt,1999). This requires\\ndevolved decision-making emphasising medium to long-term sustainability rather than the short-term horizons\\ncharacteristic of more traditional, centralised corporate HR or personnel management approaches. The\\nadvocates of corporate level human sustainability issues and practices need to be political movers and leaders\\nputting forward a HR agenda to support sustainability. At lower levels HR advocates need to be coordinators,\\nmentors and integrators, linking and integrating human capabilities into organisational structures,\\ntechnologies and practices of organisations (Hunt, 1999:21). Dave Ulrich has argued that ‘HR can be the\\narchitect of new cultures, but to do so, its purpose must to redefined. Virtually every imperative of the new\\nmandate for HR requires such a redefinition. And for it to happen, senior managers must lead the way’ (Ulrich,\\n1998:133).\\n\\nThe central challenge for the HR function will be to move organisations to adopt sustainable\\npractices and structures towards different organisational strategies and create a climate whereby employees’\\npotential can be released. As John Hunt has recently suggested:\\n\\n\\n-----\\n\\n',\n",
       "  'words': []},\n",
       " {'metadata': {'format': 'PDF 1.3',\n",
       "   'title': '105.PDF',\n",
       "   'author': 'Administrateur',\n",
       "   'subject': '',\n",
       "   'keywords': '',\n",
       "   'creator': 'Microsoft Word',\n",
       "   'producer': 'Acrobat PDFWriter 4.05 pour Windows NT',\n",
       "   'creationDate': 'D:20001031105752Z',\n",
       "   'modDate': \"D:20080523233534+02'00'\",\n",
       "   'trapped': '',\n",
       "   'encryption': None,\n",
       "   'file_path': 'sources_pdf\\\\Documentation Ecoskills RH\\\\Littérature pour les modèles\\\\Littérature académique\\\\2000gollan038.pdf',\n",
       "   'page_count': 21,\n",
       "   'page': 15},\n",
       "  'toc_items': [],\n",
       "  'tables': [],\n",
       "  'images': [],\n",
       "  'graphics': [],\n",
       "  'text': '_The key to the success of the function lies in the struggle to acquire more influence,_\\n_something that is being carried out in a climate of downsizing and outsourcing. Even_\\n_the change of name from personnel to HR is indicative that the way people view and_\\n_perform this role is changing – with the new name communicating a desire to break_\\n_with the past and to throw off an image that was limp and limiting... The future of the_\\n_HR function may be far from certain ...[however]... In situations of uncertainty, it is the_\\n_confident who win through... I know of no organisation whose senior managers believe_\\n_their company will operate, in the future, without any human beings. Whether ensuring_\\n_the supply of those human beings resides in a function called HR or not is rather_\\n_irrelevant_\\n(Hunt, 1999:21).\\n\\nOverall, the evidence presented in this chapter is that corporate sustainability is predicated on organisations\\nrecognising the needs of employees and implementing sustainable policies and practices to reinforced its\\nvalues and principles. Only by acknowledging the importance of employee satisfaction and commitment\\nthrough the development of integrated employee consultation, organisational change, work and life policies,\\nworkplace institutions and comprehensive career development programmes, will the organisation achieve\\ngreater productivity and increased profits. The lessons are clear. It is up to organisations to ensure they are\\npursuing a comprehensive human resource sustainable approach for society’s and their own survival.\\n\\n**_Paul Gollan teaches Human Resource Management and Industrial Relations at the London School of_**\\n**_Economics. He is also a Visiting Lecturer in Human Resource Management at the Management Centre,_**\\n**_King’s College, London and Imperial College, Management School, London. E-mail: p.j.gollan@lse.ac.uk_**\\n\\n\\n-----\\n\\n',\n",
       "  'words': []},\n",
       " {'metadata': {'format': 'PDF 1.3',\n",
       "   'title': '105.PDF',\n",
       "   'author': 'Administrateur',\n",
       "   'subject': '',\n",
       "   'keywords': '',\n",
       "   'creator': 'Microsoft Word',\n",
       "   'producer': 'Acrobat PDFWriter 4.05 pour Windows NT',\n",
       "   'creationDate': 'D:20001031105752Z',\n",
       "   'modDate': \"D:20080523233534+02'00'\",\n",
       "   'trapped': '',\n",
       "   'encryption': None,\n",
       "   'file_path': 'sources_pdf\\\\Documentation Ecoskills RH\\\\Littérature pour les modèles\\\\Littérature académique\\\\2000gollan038.pdf',\n",
       "   'page_count': 21,\n",
       "   'page': 16},\n",
       "  'toc_items': [],\n",
       "  'tables': [],\n",
       "  'images': [],\n",
       "  'graphics': [],\n",
       "  'text': '**References**\\n\\nAmerican Management Association (AMA) 1996 Survey: Corporate Downsizing, Job Elimination, and Job\\n_Creation AMA, Washington_\\n\\nAustralian Centre for Industrial Relations Research and Training (ACIRRT) 1999 _Australia at work: just_\\n_managing? Prentice Hall, Sydney_\\n\\nBarber, L., Hayday, S. and Bevan, S. 1999 _From People to Profits The Institute for Employment Studies,_\\nLondon.\\n\\nBayliss, V. 1996 Redefining Work Royal Society for the Arts, London.\\n\\nBevan, S. And Barber, L. 1999 ‘The benefits of service with a smile’ Financial Times 26[th] of June.\\n\\nBilmes, L., Wetzker, K. And Xhonneux, P. 1997 ‘Value in human resources: A strong link between companies’\\ninvestment in workers and stock market performance is revealed’ Financial Times 10[th] of February.\\n\\nCampling, J. and Gollan, P. 1999 _Bargained Out: Negotiating without unions in Australia ACIRRT and_\\nFederation Press, Sydney.\\n\\nCowe, R. 1999 ‘Ignore ethics at your peril’ The Guardian, April 24[th]\\n\\nDe Lacy, A., 1999 ‘Understanding the knowledge worker’ in HRMonthly, February.\\n\\nDonkin, R. 1999 ‘Rewrite the rule book’ Financial Times16[th] of June, p19.\\n\\nDunphy, D. and Griffiths, A., 1998 The Sustainable Corporation: Organisational Renewal in Australia Allen\\nand Unwin, Sydney.\\n\\nFord, J. 1999 The Learning Enterprise: Market Driven Organisational Transformation in Lead Enterprises in\\n_Sweden (Unpublished working paper), Bronte._\\n\\nFreeman, R., 1996 ‘Growth and Corporate Behaviour’ in _CentrePiece_ Centre for Economic Performance,\\nOctober\\n\\nGallie, D., White, M., Cheng, Y. and Tomlinson, M. 1998 _Restructuring the Employment Relationship Oxford_\\nUniversity Press, Oxford.\\n\\nGemini Consulting 1998 Capitalising on the International Workplace Revolution Gemini Consulting Limited,\\nLondon.\\n\\nGeus, A. 1997 ‘The Living Company’ Harvard Business Review March-April.\\n\\nGollan, P. 1998 _Having a voice – Non-union forms of employee representation in the United Kingdom and_\\n_Australian British Universities Industrial Relations Association (BUIRA) Conference, Keele University,_\\nJuly.\\n\\n\\n-----\\n\\n',\n",
       "  'words': []},\n",
       " {'metadata': {'format': 'PDF 1.3',\n",
       "   'title': '105.PDF',\n",
       "   'author': 'Administrateur',\n",
       "   'subject': '',\n",
       "   'keywords': '',\n",
       "   'creator': 'Microsoft Word',\n",
       "   'producer': 'Acrobat PDFWriter 4.05 pour Windows NT',\n",
       "   'creationDate': 'D:20001031105752Z',\n",
       "   'modDate': \"D:20080523233534+02'00'\",\n",
       "   'trapped': '',\n",
       "   'encryption': None,\n",
       "   'file_path': 'sources_pdf\\\\Documentation Ecoskills RH\\\\Littérature pour les modèles\\\\Littérature académique\\\\2000gollan038.pdf',\n",
       "   'page_count': 21,\n",
       "   'page': 17},\n",
       "  'toc_items': [],\n",
       "  'tables': [],\n",
       "  'images': [],\n",
       "  'graphics': [],\n",
       "  'text': 'Gollan, P. and Davis, E. 1997 _The Implementation of HRM Best Practice: Beyond Rhetoric Unpublished,_\\nLabour-Management Foundation, Macquarie Graduate School of Management, Sydney.\\n\\nGollan, P. and Davis, E. 1999 High Involvement Management and Organisational Change: Beyond Rhetoric\\nUnpublished, Labour-Management Foundation, Macquarie Graduate School of Management, Sydney.\\n\\nGollan, P., Pickersgill, R., and Sullivan, G. 1996 _Future of Work: Likely Long Term Developments in the_\\n_Restructuring of Australian Industrial Relations ACIRRT Working Paper No.43._\\n\\n_Guardian Weekly 1996 January 28_\\n\\n_Harvard Business Review_ 1999 ‘Editorial’, May-June, p.8\\n\\nHunt, J.W. 1999 ‘Working in a rich human vein’ Financial Times February 10, p.21.\\n\\nHuselid, M.A. (1995) ‘The impact of human resource management practices on turnover, productivity and\\ncorporate financial performance’, Academy of Management Journal, Vol.38, No.3, pp.635-72.\\n\\nHuselid, M.A. and Becker, B.E. (1996), ‘Methodological issues in cross-sectional and panel estimates of the\\nhuman resource-firm performance link’, Industrial Relations, Vol.35, No.3, pp.400-422.\\n\\nKennedy, A. (2000), The End of Shareholder Value: Corporations at the Crossroads, Perseus.\\n\\nKirby, J. 1999 ‘Downsizing gets the push’ Business Review Weekly March 22, pp.50-52.\\n\\nLittler, G., Wiesner, R. and Vermeulen, L. 1997 ‘The effects of downsizing: cross-cultural data from three\\ncountries’ 1997 Academy of Management Meeting Boston, Massachusetts.\\n\\nLong, S. 1999 ‘College of Physicians warns Howard on health’ Australian Financial Review April 8, p.3.\\n\\nMacken, J. 1999 ‘This is no time to be dwarf’ _Australian Financial Review 26th of May at_\\n\\nhttp://www.afr.com.au/contant/990526/news/news10.html.\\n\\nMaitland, A. 1999 ‘A job that suits your lifestyle’ Financial Times 6[th] of May.\\n\\n_Management Today 1995 Institute of Management (UK), November._\\n\\nMorehead, A., Steele, M., Alexander, M., Stephen, K., and Duffin, L. 1997 Change at Work: The 1995\\n_Australian Workplace Industrial Relations Survey Longman, Melbourne._\\n\\nOECD 1999 OECD Employment Outlook OECD, Paris and Washington.\\n\\nPatterson, M. and West, M. 1998 ‘People power: The link between job satisfaction and productivity’\\n_CentrePiece, Vol.3(3), Autumn, Centre for Economic Performance, London School of Economics._\\n\\nPatterson, M., West, M., Lawthom, R., and Nickell, S. 1997 _Impact of People Management Practices on_\\n_Business Performance Issues in People Management No.22, Institute of Personnel and Development,_\\nLondon.\\n\\nPears, A. 1998 ‘Towards sustainability: a corporate focus’, _Preamble, Unpublished, Centre for Corporate_\\nChange, Australian Graduate School of Management, The University of New South Wales, Sydney.\\n\\n\\n-----\\n\\n',\n",
       "  'words': []},\n",
       " {'metadata': {'format': 'PDF 1.3',\n",
       "   'title': '105.PDF',\n",
       "   'author': 'Administrateur',\n",
       "   'subject': '',\n",
       "   'keywords': '',\n",
       "   'creator': 'Microsoft Word',\n",
       "   'producer': 'Acrobat PDFWriter 4.05 pour Windows NT',\n",
       "   'creationDate': 'D:20001031105752Z',\n",
       "   'modDate': \"D:20080523233534+02'00'\",\n",
       "   'trapped': '',\n",
       "   'encryption': None,\n",
       "   'file_path': 'sources_pdf\\\\Documentation Ecoskills RH\\\\Littérature pour les modèles\\\\Littérature académique\\\\2000gollan038.pdf',\n",
       "   'page_count': 21,\n",
       "   'page': 18},\n",
       "  'toc_items': [],\n",
       "  'tables': [],\n",
       "  'images': [],\n",
       "  'graphics': [],\n",
       "  'text': 'Pfeffer, J. (1998), The Human Equation, Boston, HBS Press.\\n\\nPfeffer. J. (1994) Competitive Advantage through People, Boston, HBS Press.\\n\\nRichard, R and Thompson, M. (1999), The Impact of People Management Practices on Business Performance:\\n_A literature review, Issues in People Management, Institute of Personnel and Development, London._\\n\\nSennett, R. 1998 _The Corrosion of Character: The Personal Consequences of Work in the New Capitalism,_\\nW.W. Norton and Company, New York and London.\\n\\nSlavin, T. 1999 ‘Make a profit – do it for free’ The Observer 30[th] of May.\\n\\nStewart, T. 1994 ‘Your company’s most valuable asset: Intellectual capital’ Fortune October 3.\\n\\nTaylor, R (2000), ‘Power to the people’, Financial Times, June 2.\\n\\n_The Economist 1996 ‘Fire and forget?’, April 20[th], pp57-58_\\n\\nThurow, L.C 1993 Head to Head: The Coming Economic Battle among Japan, Europe and America, Morrow,\\nNew York.\\n\\nTowers Perrin 1997 The 1997 Towers Perrin Workplace Index: Great Expectations in the High-Performance\\n_Workplace New York._\\n\\nUlrich, D. 1998 ‘A New Mandate for Human Resources’ _Harvard Business Review January-February, pp.124-_\\n134.\\nUniversum International 1996 Coopers and Lybrand Graduate Survey Stockholm.\\n\\nWorrell, L. and Cooper, C. 1998 _The Quality of Working Life – The 1998 survey of managers’ changing_\\n_experiences Institute of Management, London._\\n\\n\\n-----\\n\\n',\n",
       "  'words': []},\n",
       " {'metadata': {'format': 'PDF 1.3',\n",
       "   'title': '105.PDF',\n",
       "   'author': 'Administrateur',\n",
       "   'subject': '',\n",
       "   'keywords': '',\n",
       "   'creator': 'Microsoft Word',\n",
       "   'producer': 'Acrobat PDFWriter 4.05 pour Windows NT',\n",
       "   'creationDate': 'D:20001031105752Z',\n",
       "   'modDate': \"D:20080523233534+02'00'\",\n",
       "   'trapped': '',\n",
       "   'encryption': None,\n",
       "   'file_path': 'sources_pdf\\\\Documentation Ecoskills RH\\\\Littérature pour les modèles\\\\Littérature académique\\\\2000gollan038.pdf',\n",
       "   'page_count': 21,\n",
       "   'page': 19},\n",
       "  'toc_items': [],\n",
       "  'tables': [],\n",
       "  'images': [],\n",
       "  'graphics': [],\n",
       "  'text': '-----\\n\\n',\n",
       "  'words': []},\n",
       " {'metadata': {'format': 'PDF 1.3',\n",
       "   'title': '105.PDF',\n",
       "   'author': 'Administrateur',\n",
       "   'subject': '',\n",
       "   'keywords': '',\n",
       "   'creator': 'Microsoft Word',\n",
       "   'producer': 'Acrobat PDFWriter 4.05 pour Windows NT',\n",
       "   'creationDate': 'D:20001031105752Z',\n",
       "   'modDate': \"D:20080523233534+02'00'\",\n",
       "   'trapped': '',\n",
       "   'encryption': None,\n",
       "   'file_path': 'sources_pdf\\\\Documentation Ecoskills RH\\\\Littérature pour les modèles\\\\Littérature académique\\\\2000gollan038.pdf',\n",
       "   'page_count': 21,\n",
       "   'page': 20},\n",
       "  'toc_items': [],\n",
       "  'tables': [],\n",
       "  'images': [],\n",
       "  'graphics': [],\n",
       "  'text': '### Figure 1: Factors and influences in human resource sustainability an integrated approach\\n\\n\\n-----\\n\\n',\n",
       "  'words': []},\n",
       " {'metadata': {'format': 'PDF 1.3',\n",
       "   'title': '105.PDF',\n",
       "   'author': 'Administrateur',\n",
       "   'subject': '',\n",
       "   'keywords': '',\n",
       "   'creator': 'Microsoft Word',\n",
       "   'producer': 'Acrobat PDFWriter 4.05 pour Windows NT',\n",
       "   'creationDate': 'D:20001031105752Z',\n",
       "   'modDate': \"D:20080523233534+02'00'\",\n",
       "   'trapped': '',\n",
       "   'encryption': None,\n",
       "   'file_path': 'sources_pdf\\\\Documentation Ecoskills RH\\\\Littérature pour les modèles\\\\Littérature académique\\\\2000gollan038.pdf',\n",
       "   'page_count': 21,\n",
       "   'page': 21},\n",
       "  'toc_items': [],\n",
       "  'tables': [{'bbox': (158.25, 302.263916015625, 410.25, 404.25),\n",
       "    'rows': 2,\n",
       "    'columns': 2}],\n",
       "  'images': [],\n",
       "  'graphics': [],\n",
       "  'text': '## Figure 2: Human resources, capabilities and sustainability - A way forward\\n\\n ORGANISATIONAL CULTURE\\n\\n                    - Leadership &\\nManagement Style\\n\\n                   - Employee Involvement\\n& Participation\\n\\n                  - Customs & Norms\\n\\n### OPERATIONAL OUTCOMES\\n ORGANISATIONAL PRACTICES • Productivity & Profits AIMS • Work Arrangements • Effectiveness & Efficiency\\n\\n                      - Technology Utilization                       - Employee Commitment &\\n\\n                     - Customer/Supplier Relations **Lower Employee Turnover**\\n\\n### Human Resource • Multi-skilling & Job Redesign • Equity& Perceived Fairness Sustainability • Organisational Structure  Skills Development\\n\\n                     - Production Processes\\n\\n                                  - Knowledge Management\\n\\n**(Teamwork, TQM, JIT)**\\n\\n                     - Training & Appraisal                     - Flexibility\\n\\n                  - Codes & Standards\\n\\n                   - Legislation & Trade unions\\n\\n                  - Competition & Business\\nCycle\\n\\n                  - Labour & Product Markets\\n\\n## EXTERNAL ENVIRONMENT\\n\\n### (Adapted from Gollan and Davis, 1999)\\n\\n|• Production Processes  (Teamwork, TQM, JIT) • Training & Appraisal|Col2|\\n|---|---|\\n|• Codes & Standards • Legislation & Trade unions • Competition & Business Cycle • Labour & Product Markets||\\n|||\\n\\n\\n-----\\n\\n',\n",
       "  'words': []}]"
      ]
     },
     "execution_count": 83,
     "metadata": {},
     "output_type": "execute_result"
    }
   ],
   "source": [
    "pymupdf4llm_output"
   ]
  },
  {
   "cell_type": "code",
   "execution_count": null,
   "metadata": {},
   "outputs": [],
   "source": [
    "all_text = \"\"\n",
    "for atext in pymupdf4llm_output:\n",
    "    all_text += atext[\"text\"] + \"\\n\\n\""
   ]
  },
  {
   "cell_type": "code",
   "execution_count": 86,
   "metadata": {},
   "outputs": [
    {
     "data": {
      "text/plain": [
       "'# HUMAN RESOURCES, CAPABILITIES\\n\\n AND SUSTAINABILITY\\n\\n#### Proposal Identification Number: 105\\n\\n# Paul J. Gollan\\n\\n#### London School of Economics\\n\\n 13A The Heights 97 Frognal Hampstead, UK NW3 6SX Telephone/Fax: +44 171 431 3351 E-mail: p.j.gollan@lse.ac.uk\\n\\n\\n-----\\n\\n\\n\\n# HUMAN RESOURCES, CAPABILITIES\\n\\n AND SUSTAINABILITY\\n\\n#### Proposal Identification Number: 105\\n\\n London School of Economics\\n\\n\\n-----\\n\\n\\n\\n#### HUMAN RESOURCES, CAPABILITIES AND SUSTAINABILITY\\n\\n Abstract\\n\\n This paper will outline a number of issues for organisations to consider when\\n\\n pursuing sustainable human resource outcomes in the workplace. Those outcomes which\\n\\n reinforce corporate profitability and corporate survival, and those that satisfy employee\\n\\n aspirations and needs in the workplace. The paper suggests that developments in human\\n\\n resource management (HRM) in recent years have shifted the emphasis away from human\\n\\n management to a new focus on resource management. It argues that the needs, potential\\n\\n and aspirations of individuals must take centre stage in the workplace. If employers do not\\n\\n bridge the current gap between their rhetoric and workplace reality, then the likely\\n\\n outcome will be an exodus of bright and enthusiastic people to organisations that do. For\\n\\n true corporate sustainability, an organisation must recognise, value and promote the\\n\\n capability of its people. The paper also examines and provides evidence of the link between\\n\\n workplace effectiveness and humanistic work structures in organisations and shows how\\n\\n reinforcing this link increases productivity and profits. Importantly, the paper suggests that\\n\\n for human resource sustainability to be achieved, the HR policies and practices need to be\\n\\n integrated for sustained business performance and positive employee outcomes of equity,\\n\\n development and well-being.\\n\\n\\n-----\\n\\n\\n\\n#### Key Words: HR Sustainability; Corporate Sustainability; Productivity; Profits; HR\\n\\n policies; Equity; Humanistic Work Structures; Workplace Effectiveness; Employee\\n\\n Participation; Human Resource Management.\\n\\n\\n-----\\n\\n\\n\\n**Introduction**\\n\\n_Recognizing our responsibilities as industrialists, we will devote ourselves to the_\\n_progress and development of society and the well-being of people through our business_\\n_activities, thereby enhancing the quality of life throughout the world._\\n(Matsushita’s Basic Management Objective, formulated in 1929 by the company’s founder,\\nKonosuke Matsushita)\\n\\nAn article in a prominent UK management magazine _Management Today highlighted the problem_\\nconfronting many companies. It argued \"years of corporate lip service to the importance of people are finally\\ncatching up. Payment is now due in full, and in kind: for once you have rationalised and reorganised\\neverything else, people really are the only asset\" (Management Today, November 1995). Failure to\\ncomprehend the truth of this statement has been reflected in recent years in significant job losses and\\nincreases in long-term unemployment.\\n\\nHowever, with a growing emphasis on customised-quality consciousness in world business and\\nincreased use of new technologies, a new form of worker has emerged from the cost-cutting and down-sizing\\nregime of the 1980s and 1990s. These new workers are often labelled as ‘knowledge workers’ and they possess\\ncertain key characteristics: they are highly skilled, qualified, trained and experienced in new and growing areas\\nof business. In essence, they can be defined as workers who deal with a high degree of complexity and\\nuncertainty which requires a high degree of judgment (De Lacy, 1999). In the new knowledge-based society of\\nthe 1990s the notion of commitment has also been redefined: the maintenance of intellectual capital or the\\n‘corporate memory’ is now seen as dependent on employee commitment and satisfaction. The intellectual\\ncapital of organisations is the knowledge, experience and ideas of employees which management attempts to\\ncodify and formalise to produce greater organisational value. Kennedy (2000) has argued that corporations are\\n‘at the crossroads’ and the future lies in corporations having sustainable strategies towards human resources.\\n\\nHowever, the cost-cutting regime associated with many organisational change strategies of the 80’s\\nand 90’s has resulted in the breakdown of the old employment relationships. In a world where loyalty and\\ncommitment are no longer seen to be rewarded, those individuals who have increased their marketability and\\nemployability, are taking control of their own future. As a result many managers have to come to terms with a\\nnew employment relationship based on a contingent or temporary contractual culture which they helped to\\ncreate by advocating short-term financial objectives. This has reinforced the importance and value of building\\ncorporate human capability and ensuring long-term sustainability in the new employment relationship.\\n\\nThis paper will outline a number of issues for organisations to consider when pursuing sustainable\\nhuman resource outcomes in the workplace. Those outcomes which reinforce corporate profitability and\\ncorporate survival, and those that satisfy employee aspirations and needs in the workplace. The paper\\nsuggests that developments in human resource management (HRM) in recent years have shifted the emphasis\\naway from human management to a new focus on resource management. It argues that the needs, potential and\\naspirations of individuals must take centre stage in the workplace. If employers do not bridge the current gap\\nbetween their rhetoric and workplace reality, then the likely outcome will be an exodus of bright and\\nenthusiastic people to organisations that do. For true corporate sustainability, an organisation must recognise,\\nvalue and promote the capability of its people, emphasising long-term aims rather then short-term financial\\nrewards. The paper also examines and provides evidence of the link between workplace effectiveness and\\nhumanistic work structures in organisations and shows how reinforcing this link increases future productivity\\nand profits.\\n\\n\\n-----\\n\\n\\n\\nThe paper we address the following key questions: How do organisations currently utilise and apply human\\nresources? How do organisations deteriorate or renew these resources and what are the implications of such\\napproaches for employers and their employees? How can we redefine the ways organisations use their human\\nresources in order to ensure human sustainability? To what extent do corporations need to exercise social\\nresponsibility as well as economic responsibility? How can employers balance the interests of different\\nstakeholders in organisations while maintaining a sustainable work environment for employees?\\n\\n**The state of play**\\n\\nCareers as we have traditionally known them no longer exist. They were predicated on progression\\nthrough an organisational hierarchy, by seniority and/or merit and on security of employment. Instead careers\\nare now becoming self-managed. Individuals assess their own worth and think strategically about placing\\nthemselves in the best possible employment position, acting as their own agent in an competitive, marketdriven environment. This being so, companies are suddenly finding themselves in a position where much of\\nthe management skeleton that held the edifice together and the cultural ‘oil’ of loyalty that enabled this\\nmachine to function smoothly have largely disappeared. The market liberalism often espoused by many\\nmanagement gurus has entered the internal domain of organisations and individuals, where market-driven\\npremiums are paid to motivate formerly committed and loyal employees. As Studs Terkel has suggested ‘the\\nworker has become a robot and is as dispensable as Kleenex’ (Christy,1998:8), consequently the employment\\nrelationship is reduced to a financial contract.\\n\\nAt the same time, new management philosophies stress that workers should be seen as empowered\\nmembers of firms rather than antagonists in a confrontation between capital and labour. This view of the world\\nalso stresses that firms are social organisations embedded in a complex skein of rights and obligations, and if\\nemployees are reduced to commodities to be bought and sold on the stock market, that undermines the trust\\nand reciprocity of obligation on which a long-term positive relationship between management and worker\\nthrive (Guardian Weekly, January 28, 1996).\\n\\nSome employees, and indeed what remains of middle management, may counter such schizoid\\ndemands with indifference or cynicism. Nevertheless the effect of such demands is likely to be the\\nentrenchment of \\'low-trust\\' employment relations where employees feel they are only a cog in a machine simply a necessary component in the return on investment equation. With their expectations lowered, a more\\nunforgiving mentality begins to emerge.\\n\\nTo reinforce the point, the 1997 Towers Perrin Workplace Index surveyed 2,500 people employed in\\nlarge private sector US organisations with more than 500 employees. The evidence from the survey suggests\\nthat employees accept personal responsibility for maintaining skills and applying those skills in the areas most\\ncritical to profitable growth. However they are only willing to do this in return for training, participation, career\\ndevelopment and continuing employment. However, they are increasingly sceptical that organisations are\\nliving up to these obligations. The study suggests that this is beginning to erode employees’ faith in\\nmanagement. The study states, ‘when employees doubt there is reciprocity and fairness, their work ethic and\\nmotivation appear to suffer. Thus, over time, negative feelings about the company will erode positive feelings\\nabout work itself. And that, in turn, can adversely affect productivity and performance’ (Towers Perrin,1997:7).\\nFor example, employees who feel they can have a full career with their company are far more motivated to\\ncontribute, with 91 per cent stating that they are motivated to help their company succeed, compared to just 48\\nper cent who do not see a future with the company (Towers Perrin,1997:19).\\n\\nThe danger for organisations is that power and knowledge is now invested in more people outside\\nthe traditional confines of the management hierarchy. Corporate knowledge and experience, the strategic\\ncompetitive advantage in most organisations, is now located at the lower levels of the organisation in a great\\nmany more people. In successful organisations today, such as Microsoft and Netscape, almost all of their\\n\\n\\n-----\\n\\n\\n\\nassets are people. For example, of Microsoft\\'s market valuation of $85 billion (US) at the end of 1996, less than\\n$1 billion was made up of physical assets. The rest of the assets walk out of the front door each evening.\\nCharles Handy has added to the debate by suggesting that on average the intellectual assets of most\\norganisations are usually worth three or four times tangible book value (Stewart,1994:35). It is vital for\\norganisations need to understand that employees have the knowledge that is essential for the organisation\\'s\\nsuccess, and so have the potential to shift the balance of power away from management and back to\\nthemselves. To understand these developments the next section identifies the influences on human resource\\nsustainability, suggesting that a number of factors are important for organisations in implementing a more\\nsustainable approach.\\n\\n**Human resource sustainability**\\n\\nThe debate of human resource sustainability has been advocated by a number of commentators\\n(Dunphy and Griffiths, 1998; Pears, 1998; Sennett, 1998). They argue that there is a crisis facing the\\nmanagement of human resources with staff turnover increasing, loyalty declining, stress levels rising and\\nproductivity growth diminishing. As Pears (1998) states, ‘Managers confront the challenge of aligning the\\ninterests and needs of their business with those of their most valuable resource, their staff, so that business\\nsuccess can be achieved and maintained’. They see this challenge as human sustainability.\\n\\nIn particular, they see human sustainability as a shift in focus from short-term corporate survival to\\nlong-term business success. This requires a shift in criteria from short term financial profit to more broadly\\ndefined long term returns. This involves changes in structures, operation, priorities and values which firms\\npromote with a clear focus on the context within which a business operates recognising a fundamental\\nrequirement for long term business success (Pears, 1998).\\n\\nDunphy and Griffiths (1998) have developed this thesis further by suggesting that this involves\\ncontinuous ongoing investment in acquiring knowledge and skills. This they say requires a fundamentally\\ndifferent approach in leading and managing firms. In particular, organisational competencies are needed for\\nsustained corporate success that can be systematically developed. These include: strategically building a\\ncorporate knowledge and skills base; fostering productive diversity and building human potential; and\\ncreating communities knowledge in organisations and developing competencies for continuous corporate\\nrenewal (Dunphy and Griffiths, 1998). They argue this focus on investing in people rather than divesting them\\nand actively promoting strategies of knowledge creation is the most viable path to sustaining societies\\ncorporate and economic life (Dunphy and Griffiths, 1998:168-170).\\n\\nFigure 1 below represents the major factors, influences and outcomes of human resource\\nsustainability in organisations. While not intending to be exhaustive, it identifies five major factors in the\\ndebate about human resource sustainability. Essentially, the model defines human resources sustainability in\\nterms of capacity of organisations to create value in their organisations thereby having the ability and capacity\\nto regenerate value and renew wealth through the application human resource policies and practices. This will\\nentail investment in human knowledge through continuous learning, and the application and development of\\nsuch knowledge through employee participation and involvement. In addition, model identifies four main\\ndrivers for organisations trying to achieve corporate human resource sustainability and examines their impact\\non employee satisfaction and commitment and on the traditional organisational objectives of increased\\nproductivity and profits. Importantly, the model suggests that for human resource sustainability to be\\nachieved, the HR policies and practices need to be integrated for sustained business performance and positive\\nemployee outcomes of equity, development and well-being.\\n\\nFigure 1\\n\\n\\n-----\\n\\n\\n\\n**Factors and influences in human resource sustainability – A integrated approach**\\n\\nINSERT FIGURE 1 ABOUT HERE\\n\\n**Building Corporate Capabilities - Career development and organisational learning**\\n\\nIn recent years many organisations have focused almost exclusively on cost-cutting measures. In the\\nprocess they have diminished their most vital resource the key skills of their employees which are so critical in\\na competitive environment. One of the greatest difficulties faced by human resource and personnel managers\\nis to demonstrate to an organisation\\'s decision-makers, especially in times of cost-cutting and downsizing, the\\neconomic benefits and the real added value of training employees and building corporate human resource\\ncapabilities.\\n\\nIn this regard, recent US and European studies have shown a strong link between a company\\'s\\ninvestment in its employees and stockmarket performance and profits. Evidence from a American Management\\nAssociation (AMA) (1996) survey of more than 1,000 large and medium-sized US companies paints a different\\npicture of companies that increase their training budgets at the same time as trimming their workforce. It is\\nsuggested that these companies are creating new environments to respond to new business conditions. The\\nAMA survey highlighted a remarkably strong correlation between increased training budgets and larger\\nprofits and productivity flowing from workforce reductions.\\n\\nOver the long term, firms that increased their training budgets after workforce reductions were 75 per\\ncent more likely to show increased profits and nearly twice as likely to improve worker productivity than firms\\nthat had cut their training expenses. However, only 32 per cent of companies cutting jobs since 1990 reported a\\nlong-term increase in training budgets. A recent OECD (1999) report also argues that higher training rates have\\nbeing associated with higher levels of education, productivity and wages.\\n\\nHowever, most compelling is the evidence from 100 German companies which reveals a strong link\\nbetween investment in employees and stockmarket performance (Bilmes, Wetzker and Xhonneux,1997). The\\nBoston Consulting Group research team undertaking the study found that companies which build employee\\ncapacity at the core of their strategies produced higher long-term returns to shareholders than their industry\\npeers. Significantly, the study found that the shares of companies that focus resources on the development of\\ntheir workforce, outperform competitors who give human resources a low priority. The research examined ten\\nindustrial sectors over a seven-year period from 1987 to 1994 (Bilmes, Wetzker and Xhonneux,1997).\\n\\nIn every industry examined by the researchers, those companies produced a greater total shareholder\\nreturn (TSR) than their competitors also scored most highly on such measures as: expenditure per employee;\\ncontribution of employees as reflected in mission statements; recruitment; performance evaluation and\\nfeedback; promotion opportunities; flexible work hours; prevalence of teams; opportunities to learn skills; and\\nfinally the extent to which employees share in company performance through profit-sharing; performance pay\\nand bonus. The TSR is the sum of share price increases and dividends over a given period. The researchers\\nalso reviewed a shorter four-year period. This also confirmed that the degree to which a company invests in\\npeople is a good predictor of stockmarket success. Interestingly, the study found that these companies also\\ncreated the most jobs, with three-quarters of the companies with above average TSR producing a net increase\\nin jobs (Bilmes, Wetzker and Xhonneux,1997). It seems that these policies are not only good for the company,\\nthey are also good for society as a whole.\\n\\n**Getting the balance right**\\n\\nAnother consideration for organisations trying to achieve corporate sustainability is getting the\\nbalance right between work and life outside work. Today many workers who have jobs are working long hours,\\n\\n\\n-----\\n\\n\\n\\nwith an increasing number of employees working more than 48 hours a week. However, as the trend to work\\nlonger and harder continues among the generation that has discovered the meaning of downsizing, it should\\nnot be surprising that a new generation is developing different attitudes to work.\\n\\nThere is evidence of the emergence of a new \"get-a-life\" generation in a 1996 survey. This survey\\ncovered more than 1,200 business students from 30 of the world\\'s leading universities in 10 countries,\\nincluding Australia and was carried out for accountants Coopers & Lybrand in 1996 by Universum\\nInternational (1996), a Swedish-based research organisation. The overwhelming conclusion from the study was\\nthat this new generation of future managers is demanding a more balanced lifestyle and a rewarding life\\noutside of work.\\n\\nWhen asked about their future career goals, the students considered a balanced lifestyle, financial\\nrewards, and a challenging international career as their most important priorities. In fact, 45 per cent of the\\nstudents surveyed named a balanced lifestyle and a rewarding life outside of work as one of the top three\\npriorities (Universum International, 1996).\\n\\nWhen choosing their first employer, the number-one priority was the ability to achieve a balanced\\nlifestyle. Long-term employment security was low on the list of aspects important to these students. Again,\\nwhen asked about future life priorities, the theme was reinforced, with personal development and growth, a\\ncareer, spending time with close friends and relatives, and building a family being most important. In yet\\nanother key finding, over 70 per cent of students strongly disagreed with the notion that a person\\'s career is\\nmore important than personal and family relationships (Universum International, 1996).\\n\\nAnother survey of 1,000 young professionals in 73 countries found that 40 per cent planned to leave\\ntheir existing employer within two years. The survey uncovered widespread disappointment at the dearth of\\ncompany investment in their personal development with many considering starting their own business\\n(Donkin,1999:19). This finding was further reinforced when the survey revealed that 41 per cent of respondents\\nwould value more choice over working hours with many wanting to spend more time with friends and family\\nand slow down enough to keep healthy and balanced (Donkin,1999:19). Moreover, a study conducted by\\nGemini Consulting of 10,300 employees in 10 countries found that only 27 per cent of those surveyed felt their\\norganisations were preparing them for successful futures. As a consequence 44 per cent of respondents said\\nthey would leave their jobs tomorrow for a job that would provide them more opportunity for advancement\\n(Gemini Consulting,1998:13).\\n\\nOne company that has recognised this situation and is developing policies to handle it is the UK\\nbank Lloyds TSB. As part of its drive to instil leadership and trust in the organisation, it introduced a number\\nof initiatives to make employees’ lives more manageable and to help change the culture of long hours\\n(Maitland,1999). It has nearly 17,000 employees working flexible or reduced hours. In fact employees no longer\\nhave to explain to their managers why they want to change their working hours. A decision is made purely on\\nwhether it makes business sense. The company has set a target of 25 per cent of its workforce, senior\\nmanagers as well as junior employees, to be working flexible hours compared to some 22 per cent currently.\\nSignificantly, the new procedures allow employees to choose from a range of options, including; job-sharing,\\nreduced hours, a compressed working week (four days instead of five), variable starting and finishing times,\\nand working from home one to three days a week. The only prerequisite is that those seeking these conditions\\nmust explain how they will fulfil their duties and how colleagues and customers will be affected. The drivers for\\nthe initiatives were increasing competition and the requirement for 24-hour banking in many operations. As\\nsuch the bank needed to attract and retain employees, 66 per cent of whom are female. They noted also that\\nbefore the changes were introduced, some 15 per cent of staff taking maternity leave do not return to the bank.\\nThe estimated cost of recruiting and training a junior employee can be £10,000. As the head of the Equal\\nOpportunity function suggested, ‘Everybody has a life outside work, whatever it might be’ (Maitland,1999).\\n\\n\\n-----\\n\\n\\n\\nTo reinforce the importance of achieving a work and life balance, a study on the quality of working\\nlife (Worrell and Cooper, 1998) of over 1,300 managers found nearly 60 per cent indicated that long hours were\\nhaving a negative impact on their health. Just over 70 per cent said it affected their relationship with their\\npartner and encroached on the time spent with their children, and some 55 per cent of managers suggested that\\nit made them less productive at work. In addition, over half of the respondents felt a sense of ‘powerlessness’\\nand lack of control in their work environment, with less than one in five respondents agreeing that they had\\nenough time to fulfil the requirements of their job. When respondents to the survey were asked what one piece\\nof advice they would give to top management of their organisation, 40 per cent of comments referred to the\\npoverty of organisational communication and consultation strategies. The second most important piece of\\nadvice identified was for the organisation to value and appreciate employees as the organisation’s most\\nimportant assets (Worrell and Cooper, 1998).\\n\\nA study by the International Centre for Health and Society at University College London has\\nsuggested that the lack of control at work and job insecurity has contributed to ill-health, disease and\\nmortality. The study highlighted that the lack of control at work was the single largest contributing factor to\\ndisease incidence, more important than smoking, diet or obesity. In addition, the study indicated that labour\\nmarket deregulation and other social policies needed to be reassessed in light of evidence that workplace\\nchange had a negative psychological impact, especially when work practices gave them little or no input into\\nthe content of work and flexibility (Long, 1999).\\n\\nJulie Macken (1999) from the Australian Financial Review has highlighted the dilemma facing many\\norganisations caused by the transition from the manufacturing age to knowledge and information, where the\\nbrain cannot function at an optimal level for eight to ten hours a day. Macken cites the example of HewlettPackard which had in 1997 an attrition rate of 20 per cent. More than half of the employees surveyed said that\\nthey experienced excessive work pressure. As a consequence Hewlett-Packard introduced policies to reduce\\nand redesign workloads, encouraged employees to set goals for leisure, discouraged working on weekends\\nand holidays, and introduced a 40-hour week. It was suggested that this has improved retention rates and\\nattracted high potential recruits (Macken,1999).\\n\\nThese findings also highlight the need for businesses to take account of other, non-financial factors\\nwhen attracting and retaining people in their organisations. Only by acknowledging the importance of work\\nand family, and of the need for personal and social networks outside work, will organisations be able to attract\\nand retain competent and committed employees.\\n\\n**The institutions for a sustainable future**\\n\\nThe real question arising from this evidence is whether there can be any real progress towards\\ncorporate sustainability without a fundamental overhaul of the structures that underpin existing institutions\\nand systems of employment. A recent report by Valerie Bayliss (1996) of the Royal Society for the Arts may\\nhold some clues. The RSA’s report challenges traditional assumptions and calls for the dismantling of\\nemployment structures and education systems which have supported the traditional working model of a ‘40/40\\njob’. This model assumes that people (mostly men) work 40 hours a week for 40 years. The report suggests\\nthat this outdated model was based on the growth of public administration in the 1930s and mass production\\nin factories, supported by the concept of the job for life in the same organisation. The problem, as identified in\\nRSA report, is that if people work less than 40 hours (or in some cases 35 hours) they are described as ‘parttimers’, peripheral and in fundamentally insecure employment relative to the main ‘core’ full-time workforce.\\n\\nAs the RSA report states, there are unlikely to be enough paid permanent full-time jobs to go around\\n(Bayliss, 1996). The paradigms have changed, from where a majority of people will be employed in 40/40 jobs to\\nwhere a majority of people will be working flexible hours in the temporary labour market. People themselves will\\nbe responsible for their working patterns, their education and training and redefining their own work.\\n\\n\\n-----\\n\\n\\n\\nThe report addresses five important issues for HR sustainability. Can the economy generate a\\nconsistently high supply of employment opportunities, however they are structured? Can the intermediate\\nlabour market develop and maintain opportunities for all those who need it? Do the nation’s education and\\ntraining systems meet the needs for a sophisticated and competent society? Does the country’s infrastructure\\nsupport people in and out of work, and match the needs of the new world rather than the old? Do individuals\\nrecognise their responsibility to develop their own employability, and is the right support available to assist\\nand encourage them? (Bayliss, 1996).\\n\\nAn Australian report by Gollan, Pickersgill and Sullivan (1996) highlights the increasing acute socioeconomic polarisation between the highly skilled and the poorly skilled. Those that are highly skilled will be\\nincreasingly overworked and working long and anti-social hours, while the poorly skilled will be either\\nunemployable or have their wages driven down to a point that renders them the ‘working poor’ or a\\n‘ghettoised’ worker. There will be an industrial relations system that offers few substantive protections for\\nthose that are in work, and a social security system that does not adjust to the change in working time\\narrangements and so creates inequitable outcomes for citizens, thus eroding the social fabric and well being of\\nsociety as a whole (Table 1) (also see ACIRRT, 1999). This will produce a society where the social dislocation\\nand hostility we are now seeing will intensify, with the prospect of ‘two nations’ emerging within society. The\\ndanger has been highlighted in a recent editorial in the _Harvard Business Review (1999:8) where it is even_\\nfeared that knowledge workers will walk away from deep involvement with society as whole. After all many of\\nthese workers already live in privately policed communities and send their children to private schools.\\n\\n**Table 1 – Characteristics of the polarised workforce**\\n\\nWorkforce The ‘ghettoised’ working poor The knowledge ‘gold collar’\\nworker\\nSocial - Social security benefits - High labour market\\n\\n                 - Working poor opportunities\\n\\n                 - Income assistance                  - Affluent family structure\\n\\n                 - Declining real incomes                  - Private home ownership\\n\\n                 - Government social housing                  - High quality private education\\n\\n                 - Low quality education\\n\\nOrganisation - Tayorist job design - Internal labour market\\n\\n                 - Cost driven agenda                  - Global career horizons and\\n\\n                 - Limited training and career advancement\\ndevelopment                   - IT, education, publishing,\\n\\n                 - No control over work banking and finance\\n\\n                 - Strict workplace supervision industries\\n\\n                 - Casual, temporary or part-time                  - Teamwork and multi-skilling\\nemployment                  - Empowered\\n\\n                 - Service and retail sectors\\n\\nIndividual - Limited workplace mobility - Highly mobile\\n\\n                 - Limited education                  - Highly educated and skilled\\n\\n                 - Non-English speaking                  - Highly paid elite\\n\\n                 - Low paid                  - Employability and secure\\n\\n                 - Job insecurity employment\\n\\n                 - Regular unemployment\\n\\nA OECD (1999) report also highlighted the challenge of reconciling job security for workers with the\\nneed of organisational flexibility. The report suggests that, while countries have concentrated in the 1990s on\\neasing restrictions for temporary forms of employment to increase the degree of flexibility and thus the creation\\n\\n|Workforce|The ‘ghettoised’ working poor|The knowledge ‘gold collar’ worker|\\n|---|---|---|\\n|Social|• Social security benefits • Working poor • Income assistance • Declining real incomes • Government social housing • Low quality education|• High labour market opportunities • Affluent family structure • Private home ownership • High quality private education|\\n|Organisation|• Tayorist job design • Cost driven agenda • Limited training and career development • No control over work • Strict workplace supervision • Casual, temporary or part-time employment • Service and retail sectors|• Internal labour market • Global career horizons and advancement • IT, education, publishing, banking and finance industries • Teamwork and multi-skilling • Empowered|\\n|Individual|• Limited workplace mobility • Limited education • Non-English speaking • Low paid • Job insecurity • Regular unemployment|• Highly mobile • Highly educated and skilled • Highly paid elite • Employability and secure employment|\\n\\n\\n-----\\n\\n\\n\\nof employment, this link is not particularly strong. In fact the report suggests that the risk of becoming\\nunemployed is lower in countries with stricter regulation through employment protection legislation. However\\nonce unemployed there is a greater risk of remaining unemployed for an extended period of time. In other\\nwords, the report argues that employment regulation produces more stable jobs, less labour turnover and\\nfewer unemployed. Conversely the lack of employment regulation and training may intensify existing\\ninequalities in the labor market.\\n\\nSome organisations have acknowledged these concerns and have introduced volunteer programs in\\nwhich employees help the less fortunate in society. Such initiatives reflect a shift in corporate attitudes\\ntowards the community. For example, Royal Mail and Whitbread brewing have introduced community action\\nprograms. Royal Mail suggests that it is good for business because volunteering helps personnel\\ndevelopment, especially in morale, motivation and working with other people, and in the introduction and\\ndeployment of new skills (Slavin,1999:16). Such actions, however, may ameliorate the social distress caused by\\ncurrent trends in employment but will not eliminate it.\\n\\nOther organisations have introduced ‘social reporting’ where companies solicit the opinions and\\nviews of employees, suppliers, customers and the communities in which they operate (Slavin,1999:16). A\\nsurvey of the UKs FTSE 100 companies found that 79 reported on social and community issues. As an\\nexample, PricewaterhouseCoopers and KPMG undertake independent audits of their social performance. As\\nTerry Slavin has suggested, for companies, ‘one of the biggest motivations for the new trend is in enhancing\\ntheir reputations at a time when it has never been more difficult to recruit – and retain – good graduates’\\n(Slavin,1999:16). In addition, Slavin suggests that social reporting opens up new channels of communication\\nwith employees with the objective of enhancing two-way communication and thus high levels of trust building\\nloyalty and commitment (Slavin,1999:16).\\n\\n**Human resource sustainability and the bottom line**\\n\\nTo build a company that is profitable and will live long, managers take care to\\ncreate a community. Processes are in place to define membership, establish\\ncommon values, recruit people, develop employees, assess individual potential,\\nlive up to a human contract, and establish policies for graceful exits from the\\ncompany.\\n(Arie de Geus,1997:58)\\n\\nWe often hear from people at the top echelons of business that \"people are our\\ngreatest asset\". In reality, however, despite this rhetoric many organisations seek to cut costs through\\ndownsizing and job enlargement. However, evidence now demonstrates that companies that do invest in\\npeople, rather than just talk about it, show positive financial outcomes.\\n\\nFor example a comprehensive study, Impact of People Management Practices on Business\\nPerformance (Patterson, West, Lawthom and Nickell,1997) in the UK has reconfirmed the importance and\\nlinkage of good people management practices to productivity and profits. The report showed that the\\nmanagement of people had a greater effect on a business\\'s performance than the combined effect of its\\nstrategy, product or service quality, manufacturing technology and expenditure on R&D. The researchers also\\nindicated that satisfaction and organisational commitment explain up to 5 per cent of the difference between\\nthe profitability of companies. These results demonstrate the importance of the relationship between employee\\nattitudes and company performance and as such indicate the more satisfied workers are with their jobs, the\\nbetter the company is likely to perform in terms of profitability and particularly productivity.\\n\\nHowever the study\\'s most important finding was the linkage between \\'good\\' human resource\\nmanagement practices and profitability and productivity. The report suggested that overall, HRM practices (ie.\\n\\n\\n-----\\n\\n\\n\\nappraisals, training and development, employee involvement and team working etc.) explain 19 per cent of the\\nvariations in profitability and 18 per cent of differences in productivity between companies and within\\norganisations. As the researchers state, this is the most convincing demonstration in the research literature of\\nthe \\'link between the management of people and the performance of companies\\' (Patterson, West, Lawthom\\nand Nickell,1997).\\n\\nA follow up study of 5,000 employees in 42 UK manufacturing companies conducted by Patterson\\nand West (1998:2) also suggest a strong link between employee satisfaction and productivity and profitability.\\nIn fact they indicate that aggregated job satisfaction within a company predicted up to 25 per cent of the\\nvariation between companies in performance and 12 per cent of profitability one year later. They argue that no\\nother factor (such as competitive strategy, technology, market share, Total Quality Management or R&D\\nstrategy) could so effectively predict company performance (Patterson and West,1998:3).\\n\\nSimilar results have been found by the Institute for Employment Studies in the UK (Barber, Hayday\\nand Bevan, 1999; Bevan and Barber, 1999). Their survey of 65,000 employees and 25,000 customers in almost\\n100 retail stores shaved a strong link between employee commitment and customer satisfaction and increased\\nsales. The survey data indicated that a one point increase in employee commitment led to a monthly increase\\nof £200,000 per store.\\n\\nPerhaps the most comprehensive reports of positive statistical relationships between the adoption of\\ndeveloped HR practices and business performance has been developed by Pfeffer (1994; 1998); Huselid (1995);\\nand Huselid and Becker (1996). These studies all suggests that the way in which organisations treat their\\nemployees is at the heart of their success (Pfeffer, 1998). Pfeffer (1998) cities evidence that HR practices can\\nraise shareholder value (ie stock market value) by between $20,000 and $40,000 per employee. In addition, a\\nstudy by Huselid and Becker (1995) emphasises the link between market value and sophistication of HR\\npractices. In particular they suggest that business can achieve above average returns when a wider range of\\npractices are adopted for more employees and when these practices are integrated within the business strategy\\n(Huselid and becker, 1996).\\n\\nHuselid (1995) also suggests that the utilization of a number of HR practices was associated with a\\nlevel of sales revenue that was on average $27,000 per year per employee, and the corresponding increase in\\nshareholder value was $18,500, and profits increased by nearly $4,000 per year per employee (Huselid, 1995).\\nAs Pfeffer (1994, 1998) claims there is powerful evidence to suggest that deploying certain high performance\\nmanagement practices makes bottom line sense (Richard and Thompson, 1999).\\n\\nImportantly, these studies suggests that personnel or HR function should move away from being\\nseen as a peripheral administrative activity and put at the centre of the organisations activities (Richardson\\nand Thompson, 1999).\\n\\n**Human resources, capabilities and sustainability – A way forward**\\n\\nThe future capabilities in the organisation and as a consequence the improvement in performance is\\npremised on the belief that it is necessary to develop a new workplace culture, which emphasises the role of\\nemployees as assets rather than merely as a costly factor of production. Importantly, human sustainability is\\nbased on organisations pursuing an integrated strategy in which employee relations policies are integrated\\ninto all aspects of the organisation\\'s planning and implementation process (Gollan and Davis, 1997). It is\\nimportant that an organisation ‘continuously develops the organisational capabilities to identify and integrate\\nwithin its vision and strategy the conceptual shifts needed to respond to dynamic markets and the operational\\ncapability to deliver’ and enhance performance (Ford,1999:3). Increasingly the financial investors for\\nsuperannuation and pension funds will realise that it is better to invest in companies where employers add\\nvalue to their organisation by adding value to employees.\\n\\n\\n-----\\n\\n\\n\\nFigure 2 presents a model of an organisations pursuing a human resource sustainable approach. It\\nemphasises the influence of organisational culture and the impact of the external environment on sustaining\\noutcomes. The model shows that improved performance and productivity are predicated on the need for\\nmanagers to use situational by attuned approaches to ensure that the potential of the organisation is\\ncontributing to desired organisational aims. Thus, there is no one best way for all organisations, only organic\\nprocesses based on situational characteristics which satisfy the aims and objectives for the organisation and\\nits employees in a sustainable way. As Roger Cowe (1999:26) stated, ‘The crucial issue is the value which\\nunderpins how companies go about their business, not whether they get everything ‘right’’.\\n\\nFigure 2\\n\\n**Human resources, capabilities and sustainability – A way forward**\\n\\nINSERT FIGURE 2 ABOUT HERE\\n\\n**The lessons for human resource sustainability**\\n\\nIf employers in advanced economies do not try to bridge the gap between rhetoric of good people\\nmanagement and reality, then the only likely outcome will be an organisation facing an exodus of bright and\\nenthusiastic people. The lessons for organisations are that for true corporate sustainability a recognition and\\nvalue must be placed on the internal human capability of the organisation. In addition, the paper suggests that\\nfor human resource sustainability to be achieved, the HR policies and practices need to be integrated for\\nsustained business performance and positive employee outcomes of equity, development and well-being.\\n\\nIn this process, the role of the human resource function is pivotal to the success of corporate\\nsustainability policies. Dave Ulrich (1998) has suggested four ways which HR can deliver organisational\\nexcellence. First, by the HR function becoming a partner with senior and line managers in strategy\\nimplementation by forming the link between boardroom decisions and the marketplace. Second, by providing\\nrelevant expertise in the way work is organised and executed thus ensuring administrative efficiency. Third,\\nrepresenting employees’ concerns to management while simultaneously giving employees the capacity to\\nincrease their contribution to organisational decision-making. Fourthly, the HR function should be an agent of\\nchange, shaping processes and culture that together improve and enhance an organisation’s capacity for\\nchange (Ulrich, 1998:124-125).\\n\\nImportantly, this requires organisations to take a more holistic and integrated approach to people\\nmanagement. In particular managers need to reassess the role and level of the HR function, specifically its role\\nin persuading organisations to adopt practices that support a sustainable approach (Hunt,1999). This requires\\ndevolved decision-making emphasising medium to long-term sustainability rather than the short-term horizons\\ncharacteristic of more traditional, centralised corporate HR or personnel management approaches. The\\nadvocates of corporate level human sustainability issues and practices need to be political movers and leaders\\nputting forward a HR agenda to support sustainability. At lower levels HR advocates need to be coordinators,\\nmentors and integrators, linking and integrating human capabilities into organisational structures,\\ntechnologies and practices of organisations (Hunt, 1999:21). Dave Ulrich has argued that ‘HR can be the\\narchitect of new cultures, but to do so, its purpose must to redefined. Virtually every imperative of the new\\nmandate for HR requires such a redefinition. And for it to happen, senior managers must lead the way’ (Ulrich,\\n1998:133).\\n\\nThe central challenge for the HR function will be to move organisations to adopt sustainable\\npractices and structures towards different organisational strategies and create a climate whereby employees’\\npotential can be released. As John Hunt has recently suggested:\\n\\n\\n-----\\n\\n\\n\\n_The key to the success of the function lies in the struggle to acquire more influence,_\\n_something that is being carried out in a climate of downsizing and outsourcing. Even_\\n_the change of name from personnel to HR is indicative that the way people view and_\\n_perform this role is changing – with the new name communicating a desire to break_\\n_with the past and to throw off an image that was limp and limiting... The future of the_\\n_HR function may be far from certain ...[however]... In situations of uncertainty, it is the_\\n_confident who win through... I know of no organisation whose senior managers believe_\\n_their company will operate, in the future, without any human beings. Whether ensuring_\\n_the supply of those human beings resides in a function called HR or not is rather_\\n_irrelevant_\\n(Hunt, 1999:21).\\n\\nOverall, the evidence presented in this chapter is that corporate sustainability is predicated on organisations\\nrecognising the needs of employees and implementing sustainable policies and practices to reinforced its\\nvalues and principles. Only by acknowledging the importance of employee satisfaction and commitment\\nthrough the development of integrated employee consultation, organisational change, work and life policies,\\nworkplace institutions and comprehensive career development programmes, will the organisation achieve\\ngreater productivity and increased profits. The lessons are clear. It is up to organisations to ensure they are\\npursuing a comprehensive human resource sustainable approach for society’s and their own survival.\\n\\n**_Paul Gollan teaches Human Resource Management and Industrial Relations at the London School of_**\\n**_Economics. He is also a Visiting Lecturer in Human Resource Management at the Management Centre,_**\\n**_King’s College, London and Imperial College, Management School, London. E-mail: p.j.gollan@lse.ac.uk_**\\n\\n\\n-----\\n\\n\\n\\n**References**\\n\\nAmerican Management Association (AMA) 1996 Survey: Corporate Downsizing, Job Elimination, and Job\\n_Creation AMA, Washington_\\n\\nAustralian Centre for Industrial Relations Research and Training (ACIRRT) 1999 _Australia at work: just_\\n_managing? Prentice Hall, Sydney_\\n\\nBarber, L., Hayday, S. and Bevan, S. 1999 _From People to Profits The Institute for Employment Studies,_\\nLondon.\\n\\nBayliss, V. 1996 Redefining Work Royal Society for the Arts, London.\\n\\nBevan, S. And Barber, L. 1999 ‘The benefits of service with a smile’ Financial Times 26[th] of June.\\n\\nBilmes, L., Wetzker, K. And Xhonneux, P. 1997 ‘Value in human resources: A strong link between companies’\\ninvestment in workers and stock market performance is revealed’ Financial Times 10[th] of February.\\n\\nCampling, J. and Gollan, P. 1999 _Bargained Out: Negotiating without unions in Australia ACIRRT and_\\nFederation Press, Sydney.\\n\\nCowe, R. 1999 ‘Ignore ethics at your peril’ The Guardian, April 24[th]\\n\\nDe Lacy, A., 1999 ‘Understanding the knowledge worker’ in HRMonthly, February.\\n\\nDonkin, R. 1999 ‘Rewrite the rule book’ Financial Times16[th] of June, p19.\\n\\nDunphy, D. and Griffiths, A., 1998 The Sustainable Corporation: Organisational Renewal in Australia Allen\\nand Unwin, Sydney.\\n\\nFord, J. 1999 The Learning Enterprise: Market Driven Organisational Transformation in Lead Enterprises in\\n_Sweden (Unpublished working paper), Bronte._\\n\\nFreeman, R., 1996 ‘Growth and Corporate Behaviour’ in _CentrePiece_ Centre for Economic Performance,\\nOctober\\n\\nGallie, D., White, M., Cheng, Y. and Tomlinson, M. 1998 _Restructuring the Employment Relationship Oxford_\\nUniversity Press, Oxford.\\n\\nGemini Consulting 1998 Capitalising on the International Workplace Revolution Gemini Consulting Limited,\\nLondon.\\n\\nGeus, A. 1997 ‘The Living Company’ Harvard Business Review March-April.\\n\\nGollan, P. 1998 _Having a voice – Non-union forms of employee representation in the United Kingdom and_\\n_Australian British Universities Industrial Relations Association (BUIRA) Conference, Keele University,_\\nJuly.\\n\\n\\n-----\\n\\n\\n\\nGollan, P. and Davis, E. 1997 _The Implementation of HRM Best Practice: Beyond Rhetoric Unpublished,_\\nLabour-Management Foundation, Macquarie Graduate School of Management, Sydney.\\n\\nGollan, P. and Davis, E. 1999 High Involvement Management and Organisational Change: Beyond Rhetoric\\nUnpublished, Labour-Management Foundation, Macquarie Graduate School of Management, Sydney.\\n\\nGollan, P., Pickersgill, R., and Sullivan, G. 1996 _Future of Work: Likely Long Term Developments in the_\\n_Restructuring of Australian Industrial Relations ACIRRT Working Paper No.43._\\n\\n_Guardian Weekly 1996 January 28_\\n\\n_Harvard Business Review_ 1999 ‘Editorial’, May-June, p.8\\n\\nHunt, J.W. 1999 ‘Working in a rich human vein’ Financial Times February 10, p.21.\\n\\nHuselid, M.A. (1995) ‘The impact of human resource management practices on turnover, productivity and\\ncorporate financial performance’, Academy of Management Journal, Vol.38, No.3, pp.635-72.\\n\\nHuselid, M.A. and Becker, B.E. (1996), ‘Methodological issues in cross-sectional and panel estimates of the\\nhuman resource-firm performance link’, Industrial Relations, Vol.35, No.3, pp.400-422.\\n\\nKennedy, A. (2000), The End of Shareholder Value: Corporations at the Crossroads, Perseus.\\n\\nKirby, J. 1999 ‘Downsizing gets the push’ Business Review Weekly March 22, pp.50-52.\\n\\nLittler, G., Wiesner, R. and Vermeulen, L. 1997 ‘The effects of downsizing: cross-cultural data from three\\ncountries’ 1997 Academy of Management Meeting Boston, Massachusetts.\\n\\nLong, S. 1999 ‘College of Physicians warns Howard on health’ Australian Financial Review April 8, p.3.\\n\\nMacken, J. 1999 ‘This is no time to be dwarf’ _Australian Financial Review 26th of May at_\\n\\nhttp://www.afr.com.au/contant/990526/news/news10.html.\\n\\nMaitland, A. 1999 ‘A job that suits your lifestyle’ Financial Times 6[th] of May.\\n\\n_Management Today 1995 Institute of Management (UK), November._\\n\\nMorehead, A., Steele, M., Alexander, M., Stephen, K., and Duffin, L. 1997 Change at Work: The 1995\\n_Australian Workplace Industrial Relations Survey Longman, Melbourne._\\n\\nOECD 1999 OECD Employment Outlook OECD, Paris and Washington.\\n\\nPatterson, M. and West, M. 1998 ‘People power: The link between job satisfaction and productivity’\\n_CentrePiece, Vol.3(3), Autumn, Centre for Economic Performance, London School of Economics._\\n\\nPatterson, M., West, M., Lawthom, R., and Nickell, S. 1997 _Impact of People Management Practices on_\\n_Business Performance Issues in People Management No.22, Institute of Personnel and Development,_\\nLondon.\\n\\nPears, A. 1998 ‘Towards sustainability: a corporate focus’, _Preamble, Unpublished, Centre for Corporate_\\nChange, Australian Graduate School of Management, The University of New South Wales, Sydney.\\n\\n\\n-----\\n\\n\\n\\nPfeffer, J. (1998), The Human Equation, Boston, HBS Press.\\n\\nPfeffer. J. (1994) Competitive Advantage through People, Boston, HBS Press.\\n\\nRichard, R and Thompson, M. (1999), The Impact of People Management Practices on Business Performance:\\n_A literature review, Issues in People Management, Institute of Personnel and Development, London._\\n\\nSennett, R. 1998 _The Corrosion of Character: The Personal Consequences of Work in the New Capitalism,_\\nW.W. Norton and Company, New York and London.\\n\\nSlavin, T. 1999 ‘Make a profit – do it for free’ The Observer 30[th] of May.\\n\\nStewart, T. 1994 ‘Your company’s most valuable asset: Intellectual capital’ Fortune October 3.\\n\\nTaylor, R (2000), ‘Power to the people’, Financial Times, June 2.\\n\\n_The Economist 1996 ‘Fire and forget?’, April 20[th], pp57-58_\\n\\nThurow, L.C 1993 Head to Head: The Coming Economic Battle among Japan, Europe and America, Morrow,\\nNew York.\\n\\nTowers Perrin 1997 The 1997 Towers Perrin Workplace Index: Great Expectations in the High-Performance\\n_Workplace New York._\\n\\nUlrich, D. 1998 ‘A New Mandate for Human Resources’ _Harvard Business Review January-February, pp.124-_\\n134.\\nUniversum International 1996 Coopers and Lybrand Graduate Survey Stockholm.\\n\\nWorrell, L. and Cooper, C. 1998 _The Quality of Working Life – The 1998 survey of managers’ changing_\\n_experiences Institute of Management, London._\\n\\n\\n-----\\n\\n\\n\\n-----\\n\\n\\n\\n### Figure 1: Factors and influences in human resource sustainability an integrated approach\\n\\n\\n-----\\n\\n\\n\\n## Figure 2: Human resources, capabilities and sustainability - A way forward\\n\\n ORGANISATIONAL CULTURE\\n\\n                    - Leadership &\\nManagement Style\\n\\n                   - Employee Involvement\\n& Participation\\n\\n                  - Customs & Norms\\n\\n### OPERATIONAL OUTCOMES\\n ORGANISATIONAL PRACTICES • Productivity & Profits AIMS • Work Arrangements • Effectiveness & Efficiency\\n\\n                      - Technology Utilization                       - Employee Commitment &\\n\\n                     - Customer/Supplier Relations **Lower Employee Turnover**\\n\\n### Human Resource • Multi-skilling & Job Redesign • Equity& Perceived Fairness Sustainability • Organisational Structure  Skills Development\\n\\n                     - Production Processes\\n\\n                                  - Knowledge Management\\n\\n**(Teamwork, TQM, JIT)**\\n\\n                     - Training & Appraisal                     - Flexibility\\n\\n                  - Codes & Standards\\n\\n                   - Legislation & Trade unions\\n\\n                  - Competition & Business\\nCycle\\n\\n                  - Labour & Product Markets\\n\\n## EXTERNAL ENVIRONMENT\\n\\n### (Adapted from Gollan and Davis, 1999)\\n\\n|• Production Processes  (Teamwork, TQM, JIT) • Training & Appraisal|Col2|\\n|---|---|\\n|• Codes & Standards • Legislation & Trade unions • Competition & Business Cycle • Labour & Product Markets||\\n|||\\n\\n\\n-----\\n\\n\\n\\n'"
      ]
     },
     "execution_count": 86,
     "metadata": {},
     "output_type": "execute_result"
    }
   ],
   "source": [
    "all_text"
   ]
  },
  {
   "cell_type": "code",
   "execution_count": 88,
   "metadata": {},
   "outputs": [],
   "source": [
    "### Write the output to a file\n",
    "with open(\"o2000gollan038_pymupdf4llm.txt\", \"w\") as text_file:\n",
    "    text_file.write(all_text)"
   ]
  },
  {
   "cell_type": "code",
   "execution_count": null,
   "metadata": {},
   "outputs": [
    {
     "name": "stderr",
     "output_type": "stream",
     "text": [
      "ic| row[\"pdf_name\"]: 'etude-transition-écologique Secteur du commerce (pas RH).pdf'\n",
      "ic| row[\"pdf_name\"]: 'le-developpement-de-la-gestion-durable-des-ressources-humaines-un-eclairage-par-les-outils-de-pilotage-des-performances.pdf'\n",
      "ic| row[\"pdf_name\"]: '2000gollan038.pdf'\n",
      "ic| row[\"pdf_name\"]: 'etude-transition-écologique Secteur du commerce (pas RH).pdf'\n",
      "ic| row[\"pdf_name\"]: 'etude-transition-écologique Secteur du commerce (pas RH).pdf'\n",
      "ic| row[\"pdf_name\"]: 'etude-transition-écologique Secteur du commerce (pas RH).pdf'\n",
      "ic| row[\"pdf_name\"]: 'le-developpement-de-la-gestion-durable-des-ressources-humaines-un-eclairage-par-les-outils-de-pilotage-des-performances.pdf'\n",
      "ic| row[\"pdf_name\"]: 'le-developpement-de-la-gestion-durable-des-ressources-humaines-un-eclairage-par-les-outils-de-pilotage-des-performances.pdf'\n",
      "ic| row[\"pdf_name\"]: 'le-developpement-de-la-gestion-durable-des-ressources-humaines-un-eclairage-par-les-outils-de-pilotage-des-performances.pdf'\n",
      "ic| row[\"pdf_name\"]: '2000gollan038.pdf'\n",
      "ic| row[\"pdf_name\"]: '2000gollan038.pdf'\n",
      "ic| row[\"pdf_name\"]: '2000gollan038.pdf'\n",
      "ic| row[\"pdf_name\"]: 'admsci-11-00048.pdf'\n",
      "ic| row[\"pdf_name\"]: 'admsci-11-00048.pdf'\n",
      "ic| row[\"pdf_name\"]: 'admsci-11-00048.pdf'\n",
      "ic| row[\"pdf_name\"]: 'admsci-13-00005.pdf'\n",
      "ic| row[\"pdf_name\"]: 'admsci-13-00005.pdf'\n",
      "ic| row[\"pdf_name\"]: 'admsci-13-00005.pdf'\n",
      "ic| row[\"pdf_name\"]: 'businesses-04-00025-v2.pdf'\n",
      "ic| row[\"pdf_name\"]: 'businesses-04-00025-v2.pdf'\n",
      "ic| row[\"pdf_name\"]: 'businesses-04-00025-v2.pdf'\n",
      "ic| row[\"pdf_name\"]: 'editor_in_chief,+EJBMR_745.pdf'\n",
      "ic| row[\"pdf_name\"]: 'editor_in_chief,+EJBMR_745.pdf'\n",
      "ic| row[\"pdf_name\"]: 'editor_in_chief,+EJBMR_745.pdf'\n",
      "ic| row[\"pdf_name\"]: 'EFFECT~1.PDF'\n",
      "ic| row[\"pdf_name\"]: 'EFFECT~1.PDF'\n",
      "ic| row[\"pdf_name\"]: 'EFFECT~1.PDF'\n",
      "ic| row[\"pdf_name\"]: 'FOSTER~1.PDF'\n",
      "ic| row[\"pdf_name\"]: 'FOSTER~1.PDF'\n",
      "ic| row[\"pdf_name\"]: 'FOSTER~1.PDF'\n",
      "ic| row[\"pdf_name\"]: 'Green Human Resource Management  Policies and practices.pdf'\n",
      "ic| row[\"pdf_name\"]: 'Green Human Resource Management  Policies and practices.pdf'\n",
      "ic| row[\"pdf_name\"]: 'Green Human Resource Management  Policies and practices.pdf'\n"
     ]
    },
    {
     "ename": "FileNotFoundError",
     "evalue": "[Errno 2] No such file or directory: 'e:\\\\_C0D3\\\\_RepoS\\\\_Perso\\\\__DataForGood\\\\2025 02 - Parse research PDFs\\\\extracted_outputs\\\\methods_outputs\\\\Human Resource Management - 2023 - Ren - Advancing the sustainability agenda through strategic human resource management \\\\get_pymupdf4llm.md'",
     "output_type": "error",
     "traceback": [
      "\u001b[1;31m---------------------------------------------------------------------------\u001b[0m",
      "\u001b[1;31mFileNotFoundError\u001b[0m                         Traceback (most recent call last)",
      "Cell \u001b[1;32mIn[61], line 13\u001b[0m\n\u001b[0;32m      8\u001b[0m row_folder_checked \u001b[38;5;241m=\u001b[39m check_if_each_parent_folders_exists_and_if_not_create_it(\n\u001b[0;32m      9\u001b[0m     row_folder\n\u001b[0;32m     10\u001b[0m )\n\u001b[0;32m     11\u001b[0m row_output_file_path \u001b[38;5;241m=\u001b[39m os\u001b[38;5;241m.\u001b[39mpath\u001b[38;5;241m.\u001b[39mjoin(row_folder_checked, row[\u001b[38;5;124m\"\u001b[39m\u001b[38;5;124mmethod\u001b[39m\u001b[38;5;124m\"\u001b[39m] \u001b[38;5;241m+\u001b[39m \u001b[38;5;124m\"\u001b[39m\u001b[38;5;124m.md\u001b[39m\u001b[38;5;124m\"\u001b[39m)\n\u001b[1;32m---> 13\u001b[0m \u001b[38;5;28;01mwith\u001b[39;00m \u001b[38;5;28;43mopen\u001b[39;49m\u001b[43m(\u001b[49m\u001b[43mrow_output_file_path\u001b[49m\u001b[43m,\u001b[49m\u001b[43m \u001b[49m\u001b[38;5;124;43m\"\u001b[39;49m\u001b[38;5;124;43mw\u001b[39;49m\u001b[38;5;124;43m\"\u001b[39;49m\u001b[43m)\u001b[49m \u001b[38;5;28;01mas\u001b[39;00m text_file:\n\u001b[0;32m     14\u001b[0m     ic(row[\u001b[38;5;124m\"\u001b[39m\u001b[38;5;124mpdf_name\u001b[39m\u001b[38;5;124m\"\u001b[39m])\n\u001b[0;32m     15\u001b[0m     \u001b[38;5;28;01mtry\u001b[39;00m:\n",
      "File \u001b[1;32me:\\_C0D3\\_RepoS\\_Perso\\__DataForGood\\2025 02 - Parse research PDFs\\.venv\\Lib\\site-packages\\IPython\\core\\interactiveshell.py:324\u001b[0m, in \u001b[0;36m_modified_open\u001b[1;34m(file, *args, **kwargs)\u001b[0m\n\u001b[0;32m    317\u001b[0m \u001b[38;5;28;01mif\u001b[39;00m file \u001b[38;5;129;01min\u001b[39;00m {\u001b[38;5;241m0\u001b[39m, \u001b[38;5;241m1\u001b[39m, \u001b[38;5;241m2\u001b[39m}:\n\u001b[0;32m    318\u001b[0m     \u001b[38;5;28;01mraise\u001b[39;00m \u001b[38;5;167;01mValueError\u001b[39;00m(\n\u001b[0;32m    319\u001b[0m         \u001b[38;5;124mf\u001b[39m\u001b[38;5;124m\"\u001b[39m\u001b[38;5;124mIPython won\u001b[39m\u001b[38;5;124m'\u001b[39m\u001b[38;5;124mt let you open fd=\u001b[39m\u001b[38;5;132;01m{\u001b[39;00mfile\u001b[38;5;132;01m}\u001b[39;00m\u001b[38;5;124m by default \u001b[39m\u001b[38;5;124m\"\u001b[39m\n\u001b[0;32m    320\u001b[0m         \u001b[38;5;124m\"\u001b[39m\u001b[38;5;124mas it is likely to crash IPython. If you know what you are doing, \u001b[39m\u001b[38;5;124m\"\u001b[39m\n\u001b[0;32m    321\u001b[0m         \u001b[38;5;124m\"\u001b[39m\u001b[38;5;124myou can use builtins\u001b[39m\u001b[38;5;124m'\u001b[39m\u001b[38;5;124m open.\u001b[39m\u001b[38;5;124m\"\u001b[39m\n\u001b[0;32m    322\u001b[0m     )\n\u001b[1;32m--> 324\u001b[0m \u001b[38;5;28;01mreturn\u001b[39;00m \u001b[43mio_open\u001b[49m\u001b[43m(\u001b[49m\u001b[43mfile\u001b[49m\u001b[43m,\u001b[49m\u001b[43m \u001b[49m\u001b[38;5;241;43m*\u001b[39;49m\u001b[43margs\u001b[49m\u001b[43m,\u001b[49m\u001b[43m \u001b[49m\u001b[38;5;241;43m*\u001b[39;49m\u001b[38;5;241;43m*\u001b[39;49m\u001b[43mkwargs\u001b[49m\u001b[43m)\u001b[49m\n",
      "\u001b[1;31mFileNotFoundError\u001b[0m: [Errno 2] No such file or directory: 'e:\\\\_C0D3\\\\_RepoS\\\\_Perso\\\\__DataForGood\\\\2025 02 - Parse research PDFs\\\\extracted_outputs\\\\methods_outputs\\\\Human Resource Management - 2023 - Ren - Advancing the sustainability agenda through strategic human resource management \\\\get_pymupdf4llm.md'"
     ]
    }
   ],
   "source": [
    "## For each row, export the output to a markdown file in the outputs folder : extracted_outputs\\methods_outputs\n",
    "current_folder = os.getcwd()\n",
    "for index, row in df_pdf_processing.iterrows():\n",
    "    output_folder_name = row[\"pdf_name\"].replace(\".pdf\", \"\")\n",
    "    row_folder = os.path.join(\n",
    "        current_folder, \"extracted_outputs\", \"methods_outputs\", output_folder_name\n",
    "    )\n",
    "    row_folder_checked = check_if_each_parent_folders_exists_and_if_not_create_it(\n",
    "        row_folder\n",
    "    )\n",
    "    row_output_file_path = os.path.join(row_folder_checked, row[\"method\"] + \".md\")\n",
    "\n",
    "    with open(row_output_file_path, \"w\") as text_file:\n",
    "        ic(row[\"pdf_name\"])\n",
    "        try:\n",
    "            text_file.write(str(row[\"output_md\"]))\n",
    "        except Exception as e:\n",
    "            ic(e.__context__)\n",
    "        #     ic(type(row[\"output_md\"]))\n",
    "        #     # ic(row[\"output_md\"])\n"
   ]
  },
  {
   "cell_type": "code",
   "execution_count": null,
   "metadata": {},
   "outputs": [],
   "source": [
    "## Hash all the values from that hash column into one unique value, not a dataframe column\n",
    "hash_all = hash(\n",
    "    tuple(df_pdf_processing[\"pdf_path\"]) + tuple(df_pdf_processing[\"method\"])\n",
    ")\n",
    "\n",
    "## Exclude the column with the output_md\n",
    "df_export = df_pdf_processing.drop(columns=[\"output_md\"])\n",
    "df_export.to_csv(\n",
    "    os.path.join(\n",
    "        \"extracted_outputs\", \"timing_dfs\", f\"df_pdf_processing_{hash_all}.csv\"\n",
    "    ),\n",
    "    index=False,\n",
    ")"
   ]
  },
  {
   "cell_type": "code",
   "execution_count": null,
   "metadata": {},
   "outputs": [],
   "source": []
  },
  {
   "cell_type": "markdown",
   "metadata": {},
   "source": [
    "## Plot the timing of each methods"
   ]
  },
  {
   "cell_type": "code",
   "execution_count": 27,
   "metadata": {},
   "outputs": [
    {
     "data": {
      "image/png": "[encoded data removed]",
      "text/plain": [
       "<Figure size 640x480 with 1 Axes>"
      ]
     },
     "metadata": {},
     "output_type": "display_data"
    }
   ],
   "source": [
    "# Print a graph, with file_size on the x-axis and time taken to process the pdf on the y-axis, spliting the data in series by the method used to process the pdf\n",
    "sns.scatterplot(\n",
    "    data=df_pdf_processing,\n",
    "    # x=\"file_size\"\n",
    "    x=\"pages_length\",\n",
    "    y=\"time_processing\",\n",
    "    size=\"file_size\",\n",
    "    hue=\"method\",\n",
    ")\n",
    "plt.show()"
   ]
  },
  {
   "cell_type": "markdown",
   "metadata": {},
   "source": [
    "# Content Analysis"
   ]
  },
  {
   "cell_type": "code",
   "execution_count": null,
   "metadata": {},
   "outputs": [],
   "source": [
    "##TODO"
   ]
  }
 ],
 "metadata": {
  "kernelspec": {
   "display_name": ".venv",
   "language": "python",
   "name": "python3"
  },
  "language_info": {
   "codemirror_mode": {
    "name": "ipython",
    "version": 3
   },
   "file_extension": ".py",
   "mimetype": "text/x-python",
   "name": "python",
   "nbconvert_exporter": "python",
   "pygments_lexer": "ipython3",
   "version": "3.12.1"
  }
 },
 "nbformat": 4,
 "nbformat_minor": 2
}
